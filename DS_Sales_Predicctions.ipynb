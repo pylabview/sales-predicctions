{
  "nbformat": 4,
  "nbformat_minor": 0,
  "metadata": {
    "colab": {
      "provenance": [],
      "toc_visible": true,
      "include_colab_link": true
    },
    "kernelspec": {
      "name": "python3",
      "display_name": "Python 3"
    },
    "language_info": {
      "name": "python"
    }
  },
  "cells": [
    {
      "cell_type": "markdown",
      "metadata": {
        "id": "view-in-github",
        "colab_type": "text"
      },
      "source": [
        "<a href=\"https://colab.research.google.com/github/pylabview/sales-predicctions/blob/main/DS_Sales_Predicctions.ipynb\" target=\"_parent\"><img src=\"https://colab.research.google.com/assets/colab-badge.svg\" alt=\"Open In Colab\"/></a>"
      ]
    },
    {
      "cell_type": "markdown",
      "source": [
        "##Data Science Sales Predicction\n",
        "Rodrigo Arguello-Serrano"
      ],
      "metadata": {
        "id": "ZF4ElsHaCrTu"
      }
    },
    {
      "cell_type": "markdown",
      "source": [
        "#Project 1 - Parts 1 & 2"
      ],
      "metadata": {
        "id": "jTLVKnWFCn7f"
      }
    },
    {
      "cell_type": "markdown",
      "source": [
        "Part 1:\n",
        "\n",
        "This is an overview of the steps you will need to complete for part one of the project. There are more detailed instructions for each section following the overview.\n",
        "\n",
        "1) Create a GitHub Account\n",
        "\n",
        "2) Set up a GitHub repository that will house your first portfolio project.\n",
        "\n",
        "3) Add Markdown cells with your name and section headers to the notebook.\n",
        "\n",
        "4) Add the Google Colab Notebook to your GitHub repository.\n",
        "\n",
        "5) Submit the link to your GitHub repo!"
      ],
      "metadata": {
        "id": "FBTQ_sa2SQCS"
      }
    },
    {
      "cell_type": "markdown",
      "source": [
        "Part 2\n",
        "\n",
        "The first project will be a sales prediction for food items sold at various stores. The goal of this is to help the retailer understand the properties of products and outlets that play crucial roles in increasing sales.\n",
        "\n",
        "For Part 2, the task is to use Pandas to load in the data and start exploring and cleaning it. Here the steps covered on Part 2:\n",
        "\n",
        "- Download the data using this link in the learn platform.\n",
        "- Insert code below the heading \"Loading Data\"\n",
        "  - Use Pandas to read the sales prediction data set into Google Colab.\n",
        "  - Use df.info() and df.head() methods to preview the first rows of your data and a summary of your DataFrame's columns.\n",
        "- Insert code below the heading \"Data Cleaning\"\n",
        "  - Explore the data - what do you need to do to clean this data? Clean it!\n",
        "  - Be sure to address each of the following tasks:\n",
        "\n",
        "1) How many rows and columns?\n",
        "\n",
        "2) What are the datatypes of each variable?\n",
        "\n",
        "3) Are there duplicates? If so, drop any duplicates.\n",
        "\n",
        "4) Identify missing values.\n",
        "\n",
        "5) Decide on how to address the missing values and do it! (This requires your judgement, so explain your choice).\n",
        "\n",
        "6) Confirm that there are no missing values after addressing them.\n",
        "\n",
        "7) Find and fix any inconsistent categories of data (example: fix cat, Cat, and cats so that they are consistent).\n",
        "\n",
        "8) For any numerical columns, obtain the summary statistics of each (min, max, mean)."
      ],
      "metadata": {
        "id": "nPTMtEjTEBCf"
      }
    },
    {
      "cell_type": "markdown",
      "source": [
        "###Data Dictionary \n",
        "<table>\n",
        "  <tr>\n",
        "    <th>Variable Name</th>\n",
        "    <th>Description</th>\n",
        "  </tr>\n",
        "  <tr>\n",
        "    <td>Item_Identifier</td>\n",
        "    <td>Unique product ID</td>\n",
        "  </tr>\n",
        "  <tr>\n",
        "    <td>Item_Weight</td>\n",
        "    <td>Weight of product</td>\n",
        "  </tr>\n",
        "  <tr>\n",
        "    <td>Item_Fat_Content</td>\n",
        "    <td>Whether the product is low fat or regular</td>\n",
        "  </tr>\n",
        "  <tr>\n",
        "    <td>Item_Visibility</td>\n",
        "    <td>The percentage of total display area of all products in a store allocated to the particular product</td>\n",
        "  </tr>\n",
        "  <tr>\n",
        "    <td>Item_Type</td>\n",
        "    <td>The category to which the product belongs</td>\n",
        "  </tr>\n",
        "  <tr>\n",
        "    <td>Item_MRP</td>\n",
        "    <td>Maximum Retail Price (list price) of the product</td>\n",
        "  </tr>\n",
        "  <tr>\n",
        "    <td>Outlet_Identifier</td>\n",
        "    <td>Unique store ID</td>\n",
        "  </tr> \n",
        "  <tr>\n",
        "    <td>Outlet_Establishment_Year</td>\n",
        "    <td>The year in which store was established</td>\n",
        "  </tr> \n",
        "  <tr>\n",
        "    <td>Outlet_Size</td>\n",
        "    <td>The size of the store in terms of ground area covered</td>\n",
        "  </tr> \n",
        "  <tr>\n",
        "    <td>Outlet_Location_Type</td>\n",
        "    <td>The type of area in which the store is located</td>\n",
        "  </tr> \n",
        "  <tr>\n",
        "    <td>Outlet_Type</td>\n",
        "    <td>\tWhether the outlet is a grocery store or some sort of supermarket</td>\n",
        "  </tr> \n",
        "  <tr>\n",
        "    <td>Item_Outlet_Sales</td>\n",
        "    <td>Sales of the product in the particular store. This is the target variable to be predicted.</td>\n",
        "  </tr> \n",
        "</table>"
      ],
      "metadata": {
        "id": "Ueb5v6g0F-Ha"
      }
    },
    {
      "cell_type": "markdown",
      "source": [
        "## Module Imports & Mounting Goolgle Drive"
      ],
      "metadata": {
        "id": "-u-wrY9nDWMU"
      }
    },
    {
      "cell_type": "code",
      "source": [
        "import pandas as pd\n",
        "import numpy as np\n",
        "import matplotlib.pyplot as plt\n",
        "import seaborn as sns\n",
        "from matplotlib.ticker import FuncFormatter\n",
        "from google.colab import drive\n",
        "\n",
        "drive.mount('/content/drive')"
      ],
      "metadata": {
        "id": "mae5Og-TDauv",
        "outputId": "08fe0196-54d6-4ffc-b799-fc0a1788f38f",
        "colab": {
          "base_uri": "https://localhost:8080/"
        }
      },
      "execution_count": null,
      "outputs": [
        {
          "output_type": "stream",
          "name": "stdout",
          "text": [
            "Drive already mounted at /content/drive; to attempt to forcibly remount, call drive.mount(\"/content/drive\", force_remount=True).\n"
          ]
        }
      ]
    },
    {
      "cell_type": "markdown",
      "source": [
        "## Loading Data"
      ],
      "metadata": {
        "id": "WWat2BFUDAsT"
      }
    },
    {
      "cell_type": "code",
      "source": [
        "df = pd.read_csv(\"/content/drive/MyDrive/Colab Notebooks/Assignments/Data/sales_predictions.csv\")\n",
        "df.head()"
      ],
      "metadata": {
        "colab": {
          "base_uri": "https://localhost:8080/",
          "height": 357
        },
        "id": "rwOXu4m4w5tV",
        "outputId": "ee32e64e-bb84-4b48-bb7f-bd302c6af14b"
      },
      "execution_count": null,
      "outputs": [
        {
          "output_type": "execute_result",
          "data": {
            "text/plain": [
              "  Item_Identifier  Item_Weight Item_Fat_Content  Item_Visibility  \\\n",
              "0           FDA15         9.30          Low Fat         0.016047   \n",
              "1           DRC01         5.92          Regular         0.019278   \n",
              "2           FDN15        17.50          Low Fat         0.016760   \n",
              "3           FDX07        19.20          Regular         0.000000   \n",
              "4           NCD19         8.93          Low Fat         0.000000   \n",
              "\n",
              "               Item_Type  Item_MRP Outlet_Identifier  \\\n",
              "0                  Dairy  249.8092            OUT049   \n",
              "1            Soft Drinks   48.2692            OUT018   \n",
              "2                   Meat  141.6180            OUT049   \n",
              "3  Fruits and Vegetables  182.0950            OUT010   \n",
              "4              Household   53.8614            OUT013   \n",
              "\n",
              "   Outlet_Establishment_Year Outlet_Size Outlet_Location_Type  \\\n",
              "0                       1999      Medium               Tier 1   \n",
              "1                       2009      Medium               Tier 3   \n",
              "2                       1999      Medium               Tier 1   \n",
              "3                       1998         NaN               Tier 3   \n",
              "4                       1987        High               Tier 3   \n",
              "\n",
              "         Outlet_Type  Item_Outlet_Sales  \n",
              "0  Supermarket Type1          3735.1380  \n",
              "1  Supermarket Type2           443.4228  \n",
              "2  Supermarket Type1          2097.2700  \n",
              "3      Grocery Store           732.3800  \n",
              "4  Supermarket Type1           994.7052  "
            ],
            "text/html": [
              "\n",
              "  <div id=\"df-8cef83c9-5fa5-499c-a4f9-88f602832295\">\n",
              "    <div class=\"colab-df-container\">\n",
              "      <div>\n",
              "<style scoped>\n",
              "    .dataframe tbody tr th:only-of-type {\n",
              "        vertical-align: middle;\n",
              "    }\n",
              "\n",
              "    .dataframe tbody tr th {\n",
              "        vertical-align: top;\n",
              "    }\n",
              "\n",
              "    .dataframe thead th {\n",
              "        text-align: right;\n",
              "    }\n",
              "</style>\n",
              "<table border=\"1\" class=\"dataframe\">\n",
              "  <thead>\n",
              "    <tr style=\"text-align: right;\">\n",
              "      <th></th>\n",
              "      <th>Item_Identifier</th>\n",
              "      <th>Item_Weight</th>\n",
              "      <th>Item_Fat_Content</th>\n",
              "      <th>Item_Visibility</th>\n",
              "      <th>Item_Type</th>\n",
              "      <th>Item_MRP</th>\n",
              "      <th>Outlet_Identifier</th>\n",
              "      <th>Outlet_Establishment_Year</th>\n",
              "      <th>Outlet_Size</th>\n",
              "      <th>Outlet_Location_Type</th>\n",
              "      <th>Outlet_Type</th>\n",
              "      <th>Item_Outlet_Sales</th>\n",
              "    </tr>\n",
              "  </thead>\n",
              "  <tbody>\n",
              "    <tr>\n",
              "      <th>0</th>\n",
              "      <td>FDA15</td>\n",
              "      <td>9.30</td>\n",
              "      <td>Low Fat</td>\n",
              "      <td>0.016047</td>\n",
              "      <td>Dairy</td>\n",
              "      <td>249.8092</td>\n",
              "      <td>OUT049</td>\n",
              "      <td>1999</td>\n",
              "      <td>Medium</td>\n",
              "      <td>Tier 1</td>\n",
              "      <td>Supermarket Type1</td>\n",
              "      <td>3735.1380</td>\n",
              "    </tr>\n",
              "    <tr>\n",
              "      <th>1</th>\n",
              "      <td>DRC01</td>\n",
              "      <td>5.92</td>\n",
              "      <td>Regular</td>\n",
              "      <td>0.019278</td>\n",
              "      <td>Soft Drinks</td>\n",
              "      <td>48.2692</td>\n",
              "      <td>OUT018</td>\n",
              "      <td>2009</td>\n",
              "      <td>Medium</td>\n",
              "      <td>Tier 3</td>\n",
              "      <td>Supermarket Type2</td>\n",
              "      <td>443.4228</td>\n",
              "    </tr>\n",
              "    <tr>\n",
              "      <th>2</th>\n",
              "      <td>FDN15</td>\n",
              "      <td>17.50</td>\n",
              "      <td>Low Fat</td>\n",
              "      <td>0.016760</td>\n",
              "      <td>Meat</td>\n",
              "      <td>141.6180</td>\n",
              "      <td>OUT049</td>\n",
              "      <td>1999</td>\n",
              "      <td>Medium</td>\n",
              "      <td>Tier 1</td>\n",
              "      <td>Supermarket Type1</td>\n",
              "      <td>2097.2700</td>\n",
              "    </tr>\n",
              "    <tr>\n",
              "      <th>3</th>\n",
              "      <td>FDX07</td>\n",
              "      <td>19.20</td>\n",
              "      <td>Regular</td>\n",
              "      <td>0.000000</td>\n",
              "      <td>Fruits and Vegetables</td>\n",
              "      <td>182.0950</td>\n",
              "      <td>OUT010</td>\n",
              "      <td>1998</td>\n",
              "      <td>NaN</td>\n",
              "      <td>Tier 3</td>\n",
              "      <td>Grocery Store</td>\n",
              "      <td>732.3800</td>\n",
              "    </tr>\n",
              "    <tr>\n",
              "      <th>4</th>\n",
              "      <td>NCD19</td>\n",
              "      <td>8.93</td>\n",
              "      <td>Low Fat</td>\n",
              "      <td>0.000000</td>\n",
              "      <td>Household</td>\n",
              "      <td>53.8614</td>\n",
              "      <td>OUT013</td>\n",
              "      <td>1987</td>\n",
              "      <td>High</td>\n",
              "      <td>Tier 3</td>\n",
              "      <td>Supermarket Type1</td>\n",
              "      <td>994.7052</td>\n",
              "    </tr>\n",
              "  </tbody>\n",
              "</table>\n",
              "</div>\n",
              "      <button class=\"colab-df-convert\" onclick=\"convertToInteractive('df-8cef83c9-5fa5-499c-a4f9-88f602832295')\"\n",
              "              title=\"Convert this dataframe to an interactive table.\"\n",
              "              style=\"display:none;\">\n",
              "        \n",
              "  <svg xmlns=\"http://www.w3.org/2000/svg\" height=\"24px\"viewBox=\"0 0 24 24\"\n",
              "       width=\"24px\">\n",
              "    <path d=\"M0 0h24v24H0V0z\" fill=\"none\"/>\n",
              "    <path d=\"M18.56 5.44l.94 2.06.94-2.06 2.06-.94-2.06-.94-.94-2.06-.94 2.06-2.06.94zm-11 1L8.5 8.5l.94-2.06 2.06-.94-2.06-.94L8.5 2.5l-.94 2.06-2.06.94zm10 10l.94 2.06.94-2.06 2.06-.94-2.06-.94-.94-2.06-.94 2.06-2.06.94z\"/><path d=\"M17.41 7.96l-1.37-1.37c-.4-.4-.92-.59-1.43-.59-.52 0-1.04.2-1.43.59L10.3 9.45l-7.72 7.72c-.78.78-.78 2.05 0 2.83L4 21.41c.39.39.9.59 1.41.59.51 0 1.02-.2 1.41-.59l7.78-7.78 2.81-2.81c.8-.78.8-2.07 0-2.86zM5.41 20L4 18.59l7.72-7.72 1.47 1.35L5.41 20z\"/>\n",
              "  </svg>\n",
              "      </button>\n",
              "      \n",
              "  <style>\n",
              "    .colab-df-container {\n",
              "      display:flex;\n",
              "      flex-wrap:wrap;\n",
              "      gap: 12px;\n",
              "    }\n",
              "\n",
              "    .colab-df-convert {\n",
              "      background-color: #E8F0FE;\n",
              "      border: none;\n",
              "      border-radius: 50%;\n",
              "      cursor: pointer;\n",
              "      display: none;\n",
              "      fill: #1967D2;\n",
              "      height: 32px;\n",
              "      padding: 0 0 0 0;\n",
              "      width: 32px;\n",
              "    }\n",
              "\n",
              "    .colab-df-convert:hover {\n",
              "      background-color: #E2EBFA;\n",
              "      box-shadow: 0px 1px 2px rgba(60, 64, 67, 0.3), 0px 1px 3px 1px rgba(60, 64, 67, 0.15);\n",
              "      fill: #174EA6;\n",
              "    }\n",
              "\n",
              "    [theme=dark] .colab-df-convert {\n",
              "      background-color: #3B4455;\n",
              "      fill: #D2E3FC;\n",
              "    }\n",
              "\n",
              "    [theme=dark] .colab-df-convert:hover {\n",
              "      background-color: #434B5C;\n",
              "      box-shadow: 0px 1px 3px 1px rgba(0, 0, 0, 0.15);\n",
              "      filter: drop-shadow(0px 1px 2px rgba(0, 0, 0, 0.3));\n",
              "      fill: #FFFFFF;\n",
              "    }\n",
              "  </style>\n",
              "\n",
              "      <script>\n",
              "        const buttonEl =\n",
              "          document.querySelector('#df-8cef83c9-5fa5-499c-a4f9-88f602832295 button.colab-df-convert');\n",
              "        buttonEl.style.display =\n",
              "          google.colab.kernel.accessAllowed ? 'block' : 'none';\n",
              "\n",
              "        async function convertToInteractive(key) {\n",
              "          const element = document.querySelector('#df-8cef83c9-5fa5-499c-a4f9-88f602832295');\n",
              "          const dataTable =\n",
              "            await google.colab.kernel.invokeFunction('convertToInteractive',\n",
              "                                                     [key], {});\n",
              "          if (!dataTable) return;\n",
              "\n",
              "          const docLinkHtml = 'Like what you see? Visit the ' +\n",
              "            '<a target=\"_blank\" href=https://colab.research.google.com/notebooks/data_table.ipynb>data table notebook</a>'\n",
              "            + ' to learn more about interactive tables.';\n",
              "          element.innerHTML = '';\n",
              "          dataTable['output_type'] = 'display_data';\n",
              "          await google.colab.output.renderOutput(dataTable, element);\n",
              "          const docLink = document.createElement('div');\n",
              "          docLink.innerHTML = docLinkHtml;\n",
              "          element.appendChild(docLink);\n",
              "        }\n",
              "      </script>\n",
              "    </div>\n",
              "  </div>\n",
              "  "
            ]
          },
          "metadata": {},
          "execution_count": 2
        }
      ]
    },
    {
      "cell_type": "code",
      "source": [
        "# Setting Item_Identifier column as index\n",
        "df.set_index('Item_Identifier', inplace=True)\n",
        "#Cheking the head again\n",
        "df.head()"
      ],
      "metadata": {
        "colab": {
          "base_uri": "https://localhost:8080/",
          "height": 388
        },
        "id": "Zq8D-M1l3tmI",
        "outputId": "f5cb2a68-48aa-41dd-ce72-36a96aac2abe"
      },
      "execution_count": null,
      "outputs": [
        {
          "output_type": "execute_result",
          "data": {
            "text/plain": [
              "                 Item_Weight Item_Fat_Content  Item_Visibility  \\\n",
              "Item_Identifier                                                  \n",
              "FDA15                   9.30          Low Fat         0.016047   \n",
              "DRC01                   5.92          Regular         0.019278   \n",
              "FDN15                  17.50          Low Fat         0.016760   \n",
              "FDX07                  19.20          Regular         0.000000   \n",
              "NCD19                   8.93          Low Fat         0.000000   \n",
              "\n",
              "                             Item_Type  Item_MRP Outlet_Identifier  \\\n",
              "Item_Identifier                                                      \n",
              "FDA15                            Dairy  249.8092            OUT049   \n",
              "DRC01                      Soft Drinks   48.2692            OUT018   \n",
              "FDN15                             Meat  141.6180            OUT049   \n",
              "FDX07            Fruits and Vegetables  182.0950            OUT010   \n",
              "NCD19                        Household   53.8614            OUT013   \n",
              "\n",
              "                 Outlet_Establishment_Year Outlet_Size Outlet_Location_Type  \\\n",
              "Item_Identifier                                                               \n",
              "FDA15                                 1999      Medium               Tier 1   \n",
              "DRC01                                 2009      Medium               Tier 3   \n",
              "FDN15                                 1999      Medium               Tier 1   \n",
              "FDX07                                 1998         NaN               Tier 3   \n",
              "NCD19                                 1987        High               Tier 3   \n",
              "\n",
              "                       Outlet_Type  Item_Outlet_Sales  \n",
              "Item_Identifier                                        \n",
              "FDA15            Supermarket Type1          3735.1380  \n",
              "DRC01            Supermarket Type2           443.4228  \n",
              "FDN15            Supermarket Type1          2097.2700  \n",
              "FDX07                Grocery Store           732.3800  \n",
              "NCD19            Supermarket Type1           994.7052  "
            ],
            "text/html": [
              "\n",
              "  <div id=\"df-376a8012-2d76-4285-851e-440bac204b77\">\n",
              "    <div class=\"colab-df-container\">\n",
              "      <div>\n",
              "<style scoped>\n",
              "    .dataframe tbody tr th:only-of-type {\n",
              "        vertical-align: middle;\n",
              "    }\n",
              "\n",
              "    .dataframe tbody tr th {\n",
              "        vertical-align: top;\n",
              "    }\n",
              "\n",
              "    .dataframe thead th {\n",
              "        text-align: right;\n",
              "    }\n",
              "</style>\n",
              "<table border=\"1\" class=\"dataframe\">\n",
              "  <thead>\n",
              "    <tr style=\"text-align: right;\">\n",
              "      <th></th>\n",
              "      <th>Item_Weight</th>\n",
              "      <th>Item_Fat_Content</th>\n",
              "      <th>Item_Visibility</th>\n",
              "      <th>Item_Type</th>\n",
              "      <th>Item_MRP</th>\n",
              "      <th>Outlet_Identifier</th>\n",
              "      <th>Outlet_Establishment_Year</th>\n",
              "      <th>Outlet_Size</th>\n",
              "      <th>Outlet_Location_Type</th>\n",
              "      <th>Outlet_Type</th>\n",
              "      <th>Item_Outlet_Sales</th>\n",
              "    </tr>\n",
              "    <tr>\n",
              "      <th>Item_Identifier</th>\n",
              "      <th></th>\n",
              "      <th></th>\n",
              "      <th></th>\n",
              "      <th></th>\n",
              "      <th></th>\n",
              "      <th></th>\n",
              "      <th></th>\n",
              "      <th></th>\n",
              "      <th></th>\n",
              "      <th></th>\n",
              "      <th></th>\n",
              "    </tr>\n",
              "  </thead>\n",
              "  <tbody>\n",
              "    <tr>\n",
              "      <th>FDA15</th>\n",
              "      <td>9.30</td>\n",
              "      <td>Low Fat</td>\n",
              "      <td>0.016047</td>\n",
              "      <td>Dairy</td>\n",
              "      <td>249.8092</td>\n",
              "      <td>OUT049</td>\n",
              "      <td>1999</td>\n",
              "      <td>Medium</td>\n",
              "      <td>Tier 1</td>\n",
              "      <td>Supermarket Type1</td>\n",
              "      <td>3735.1380</td>\n",
              "    </tr>\n",
              "    <tr>\n",
              "      <th>DRC01</th>\n",
              "      <td>5.92</td>\n",
              "      <td>Regular</td>\n",
              "      <td>0.019278</td>\n",
              "      <td>Soft Drinks</td>\n",
              "      <td>48.2692</td>\n",
              "      <td>OUT018</td>\n",
              "      <td>2009</td>\n",
              "      <td>Medium</td>\n",
              "      <td>Tier 3</td>\n",
              "      <td>Supermarket Type2</td>\n",
              "      <td>443.4228</td>\n",
              "    </tr>\n",
              "    <tr>\n",
              "      <th>FDN15</th>\n",
              "      <td>17.50</td>\n",
              "      <td>Low Fat</td>\n",
              "      <td>0.016760</td>\n",
              "      <td>Meat</td>\n",
              "      <td>141.6180</td>\n",
              "      <td>OUT049</td>\n",
              "      <td>1999</td>\n",
              "      <td>Medium</td>\n",
              "      <td>Tier 1</td>\n",
              "      <td>Supermarket Type1</td>\n",
              "      <td>2097.2700</td>\n",
              "    </tr>\n",
              "    <tr>\n",
              "      <th>FDX07</th>\n",
              "      <td>19.20</td>\n",
              "      <td>Regular</td>\n",
              "      <td>0.000000</td>\n",
              "      <td>Fruits and Vegetables</td>\n",
              "      <td>182.0950</td>\n",
              "      <td>OUT010</td>\n",
              "      <td>1998</td>\n",
              "      <td>NaN</td>\n",
              "      <td>Tier 3</td>\n",
              "      <td>Grocery Store</td>\n",
              "      <td>732.3800</td>\n",
              "    </tr>\n",
              "    <tr>\n",
              "      <th>NCD19</th>\n",
              "      <td>8.93</td>\n",
              "      <td>Low Fat</td>\n",
              "      <td>0.000000</td>\n",
              "      <td>Household</td>\n",
              "      <td>53.8614</td>\n",
              "      <td>OUT013</td>\n",
              "      <td>1987</td>\n",
              "      <td>High</td>\n",
              "      <td>Tier 3</td>\n",
              "      <td>Supermarket Type1</td>\n",
              "      <td>994.7052</td>\n",
              "    </tr>\n",
              "  </tbody>\n",
              "</table>\n",
              "</div>\n",
              "      <button class=\"colab-df-convert\" onclick=\"convertToInteractive('df-376a8012-2d76-4285-851e-440bac204b77')\"\n",
              "              title=\"Convert this dataframe to an interactive table.\"\n",
              "              style=\"display:none;\">\n",
              "        \n",
              "  <svg xmlns=\"http://www.w3.org/2000/svg\" height=\"24px\"viewBox=\"0 0 24 24\"\n",
              "       width=\"24px\">\n",
              "    <path d=\"M0 0h24v24H0V0z\" fill=\"none\"/>\n",
              "    <path d=\"M18.56 5.44l.94 2.06.94-2.06 2.06-.94-2.06-.94-.94-2.06-.94 2.06-2.06.94zm-11 1L8.5 8.5l.94-2.06 2.06-.94-2.06-.94L8.5 2.5l-.94 2.06-2.06.94zm10 10l.94 2.06.94-2.06 2.06-.94-2.06-.94-.94-2.06-.94 2.06-2.06.94z\"/><path d=\"M17.41 7.96l-1.37-1.37c-.4-.4-.92-.59-1.43-.59-.52 0-1.04.2-1.43.59L10.3 9.45l-7.72 7.72c-.78.78-.78 2.05 0 2.83L4 21.41c.39.39.9.59 1.41.59.51 0 1.02-.2 1.41-.59l7.78-7.78 2.81-2.81c.8-.78.8-2.07 0-2.86zM5.41 20L4 18.59l7.72-7.72 1.47 1.35L5.41 20z\"/>\n",
              "  </svg>\n",
              "      </button>\n",
              "      \n",
              "  <style>\n",
              "    .colab-df-container {\n",
              "      display:flex;\n",
              "      flex-wrap:wrap;\n",
              "      gap: 12px;\n",
              "    }\n",
              "\n",
              "    .colab-df-convert {\n",
              "      background-color: #E8F0FE;\n",
              "      border: none;\n",
              "      border-radius: 50%;\n",
              "      cursor: pointer;\n",
              "      display: none;\n",
              "      fill: #1967D2;\n",
              "      height: 32px;\n",
              "      padding: 0 0 0 0;\n",
              "      width: 32px;\n",
              "    }\n",
              "\n",
              "    .colab-df-convert:hover {\n",
              "      background-color: #E2EBFA;\n",
              "      box-shadow: 0px 1px 2px rgba(60, 64, 67, 0.3), 0px 1px 3px 1px rgba(60, 64, 67, 0.15);\n",
              "      fill: #174EA6;\n",
              "    }\n",
              "\n",
              "    [theme=dark] .colab-df-convert {\n",
              "      background-color: #3B4455;\n",
              "      fill: #D2E3FC;\n",
              "    }\n",
              "\n",
              "    [theme=dark] .colab-df-convert:hover {\n",
              "      background-color: #434B5C;\n",
              "      box-shadow: 0px 1px 3px 1px rgba(0, 0, 0, 0.15);\n",
              "      filter: drop-shadow(0px 1px 2px rgba(0, 0, 0, 0.3));\n",
              "      fill: #FFFFFF;\n",
              "    }\n",
              "  </style>\n",
              "\n",
              "      <script>\n",
              "        const buttonEl =\n",
              "          document.querySelector('#df-376a8012-2d76-4285-851e-440bac204b77 button.colab-df-convert');\n",
              "        buttonEl.style.display =\n",
              "          google.colab.kernel.accessAllowed ? 'block' : 'none';\n",
              "\n",
              "        async function convertToInteractive(key) {\n",
              "          const element = document.querySelector('#df-376a8012-2d76-4285-851e-440bac204b77');\n",
              "          const dataTable =\n",
              "            await google.colab.kernel.invokeFunction('convertToInteractive',\n",
              "                                                     [key], {});\n",
              "          if (!dataTable) return;\n",
              "\n",
              "          const docLinkHtml = 'Like what you see? Visit the ' +\n",
              "            '<a target=\"_blank\" href=https://colab.research.google.com/notebooks/data_table.ipynb>data table notebook</a>'\n",
              "            + ' to learn more about interactive tables.';\n",
              "          element.innerHTML = '';\n",
              "          dataTable['output_type'] = 'display_data';\n",
              "          await google.colab.output.renderOutput(dataTable, element);\n",
              "          const docLink = document.createElement('div');\n",
              "          docLink.innerHTML = docLinkHtml;\n",
              "          element.appendChild(docLink);\n",
              "        }\n",
              "      </script>\n",
              "    </div>\n",
              "  </div>\n",
              "  "
            ]
          },
          "metadata": {},
          "execution_count": 3
        }
      ]
    },
    {
      "cell_type": "code",
      "source": [
        "df.info()"
      ],
      "metadata": {
        "colab": {
          "base_uri": "https://localhost:8080/"
        },
        "id": "Zytpi-iSxfnB",
        "outputId": "26e4a3d2-de92-463d-df91-d817395c9869"
      },
      "execution_count": null,
      "outputs": [
        {
          "output_type": "stream",
          "name": "stdout",
          "text": [
            "<class 'pandas.core.frame.DataFrame'>\n",
            "Index: 8523 entries, FDA15 to DRG01\n",
            "Data columns (total 11 columns):\n",
            " #   Column                     Non-Null Count  Dtype  \n",
            "---  ------                     --------------  -----  \n",
            " 0   Item_Weight                7060 non-null   float64\n",
            " 1   Item_Fat_Content           8523 non-null   object \n",
            " 2   Item_Visibility            8523 non-null   float64\n",
            " 3   Item_Type                  8523 non-null   object \n",
            " 4   Item_MRP                   8523 non-null   float64\n",
            " 5   Outlet_Identifier          8523 non-null   object \n",
            " 6   Outlet_Establishment_Year  8523 non-null   int64  \n",
            " 7   Outlet_Size                6113 non-null   object \n",
            " 8   Outlet_Location_Type       8523 non-null   object \n",
            " 9   Outlet_Type                8523 non-null   object \n",
            " 10  Item_Outlet_Sales          8523 non-null   float64\n",
            "dtypes: float64(4), int64(1), object(6)\n",
            "memory usage: 799.0+ KB\n"
          ]
        }
      ]
    },
    {
      "cell_type": "markdown",
      "source": [
        "## Data Cleaning"
      ],
      "metadata": {
        "id": "ekARQyaZCx1Y"
      }
    },
    {
      "cell_type": "code",
      "source": [
        "# 1) How many rows and columns?\n",
        "num_cols,num_rows = df.shape\n",
        "print(f\"Number of Columns: {num_cols}, Number or rows: {num_rows}\")"
      ],
      "metadata": {
        "id": "S_DzIDKzDM2K",
        "colab": {
          "base_uri": "https://localhost:8080/"
        },
        "outputId": "a3cb7182-db58-4d71-896d-ff4054a78ec6"
      },
      "execution_count": null,
      "outputs": [
        {
          "output_type": "stream",
          "name": "stdout",
          "text": [
            "Number of Columns: 8523, Number or rows: 11\n"
          ]
        }
      ]
    },
    {
      "cell_type": "code",
      "source": [
        "# 2) What are the datatypes of each variable?\n",
        "df.dtypes"
      ],
      "metadata": {
        "colab": {
          "base_uri": "https://localhost:8080/"
        },
        "id": "FeufKImQycsk",
        "outputId": "4c1c942a-9e4f-4109-ef13-c2653aff39cc"
      },
      "execution_count": null,
      "outputs": [
        {
          "output_type": "execute_result",
          "data": {
            "text/plain": [
              "Item_Weight                  float64\n",
              "Item_Fat_Content              object\n",
              "Item_Visibility              float64\n",
              "Item_Type                     object\n",
              "Item_MRP                     float64\n",
              "Outlet_Identifier             object\n",
              "Outlet_Establishment_Year      int64\n",
              "Outlet_Size                   object\n",
              "Outlet_Location_Type          object\n",
              "Outlet_Type                   object\n",
              "Item_Outlet_Sales            float64\n",
              "dtype: object"
            ]
          },
          "metadata": {},
          "execution_count": 6
        }
      ]
    },
    {
      "cell_type": "code",
      "source": [
        "# Are there duplicates? If so, drop any duplicates.\n",
        "dups = df.duplicated().sum()\n",
        "print(f\"Number of duplicates: {dups}\")"
      ],
      "metadata": {
        "colab": {
          "base_uri": "https://localhost:8080/"
        },
        "id": "Dvm4gHldycpA",
        "outputId": "edb32f73-12c2-4be7-c7f9-141b6becae7c"
      },
      "execution_count": null,
      "outputs": [
        {
          "output_type": "stream",
          "name": "stdout",
          "text": [
            "Number of duplicates: 0\n"
          ]
        }
      ]
    },
    {
      "cell_type": "code",
      "source": [
        "# 4) Identify missing values.\n",
        "total_missing_series = df.isna().sum()\n",
        "total_missing_series_idx = df.isna().sum().index\n",
        "total_cols = len(total_missing_series_idx )\n",
        "\n",
        "for i in range(total_cols):\n",
        "  if total_missing_series[i] > 0:\n",
        "    print(f\"Row index {total_missing_series_idx[i]}, number of missing {total_missing_series[i]}\")"
      ],
      "metadata": {
        "colab": {
          "base_uri": "https://localhost:8080/"
        },
        "id": "fXr1Zs7Cyckk",
        "outputId": "7296d83a-b8e5-40d2-fcc2-8ada2c8fb35e"
      },
      "execution_count": null,
      "outputs": [
        {
          "output_type": "stream",
          "name": "stdout",
          "text": [
            "Row index Item_Weight, number of missing 1463\n",
            "Row index Outlet_Size, number of missing 2410\n"
          ]
        }
      ]
    },
    {
      "cell_type": "code",
      "source": [
        "# Inputing missing data for Item_Weight with the column average, as the data type is a float\n",
        "df['Item_Weight'].fillna(value = df['Item_Weight'].mean(), inplace = True)\n",
        "\n",
        "#Dropping Outlet_Size, the misssing values are >5% and this column should not affect the food sales prediction\n",
        "\n",
        "df.drop(columns=['Outlet_Size'],inplace=True)\n",
        "\n"
      ],
      "metadata": {
        "id": "Sn5z5oviycSD"
      },
      "execution_count": null,
      "outputs": []
    },
    {
      "cell_type": "code",
      "source": [
        "# 6) Confirm that there are no missing values after addressing them.\n",
        "print(f\"Are All missing values removed? {df.isna().sum().sum()==0}\")"
      ],
      "metadata": {
        "colab": {
          "base_uri": "https://localhost:8080/"
        },
        "id": "jSc_dtJc8Vb4",
        "outputId": "b89ab7e0-c8bb-4ceb-9fdf-e30a48909363"
      },
      "execution_count": null,
      "outputs": [
        {
          "output_type": "stream",
          "name": "stdout",
          "text": [
            "Are All missing values removed? True\n"
          ]
        }
      ]
    },
    {
      "cell_type": "code",
      "source": [
        "# 7) Find and fix any inconsistent categories of data \n",
        "## Item_Fat_Content\n",
        "\n",
        "df['Item_Fat_Content'].unique()"
      ],
      "metadata": {
        "colab": {
          "base_uri": "https://localhost:8080/"
        },
        "id": "7SM1aOCr8VUE",
        "outputId": "73eb0546-5012-4c26-d55e-8f2a279b5a7b"
      },
      "execution_count": null,
      "outputs": [
        {
          "output_type": "execute_result",
          "data": {
            "text/plain": [
              "array(['Low Fat', 'Regular', 'low fat', 'LF', 'reg'], dtype=object)"
            ]
          },
          "metadata": {},
          "execution_count": 11
        }
      ]
    },
    {
      "cell_type": "code",
      "source": [
        "#Repalcing inconsisten values: 'low fat', 'LF', 'reg'\n",
        "df.replace({'low fat': 'Low Fat',\n",
        "            'LF': 'Low Fat',\n",
        "            'reg':'Regular'}, inplace = True)"
      ],
      "metadata": {
        "id": "S_JiCZQNAJ1o"
      },
      "execution_count": null,
      "outputs": []
    },
    {
      "cell_type": "code",
      "source": [
        "#Cheking everything is OK!\n",
        "\n",
        "df['Item_Fat_Content'].unique()"
      ],
      "metadata": {
        "colab": {
          "base_uri": "https://localhost:8080/"
        },
        "id": "BQaDppR9Bbhp",
        "outputId": "64b0fca3-7813-4a40-9151-cd35337b0f35"
      },
      "execution_count": null,
      "outputs": [
        {
          "output_type": "execute_result",
          "data": {
            "text/plain": [
              "array(['Low Fat', 'Regular'], dtype=object)"
            ]
          },
          "metadata": {},
          "execution_count": 13
        }
      ]
    },
    {
      "cell_type": "code",
      "source": [
        "## Fixing Data Type for Outlet_Establishment_Year from float64 to datetime64\n",
        "\n",
        "df['Outlet_Establishment_Year'] = pd.to_datetime(df['Outlet_Establishment_Year'])"
      ],
      "metadata": {
        "id": "Tgd2ZLj_Brc3"
      },
      "execution_count": null,
      "outputs": []
    },
    {
      "cell_type": "code",
      "source": [
        "#8) For any numerical columns, obtain the summary statistics of each (min, max, mean).\n",
        "df.describe()"
      ],
      "metadata": {
        "colab": {
          "base_uri": "https://localhost:8080/",
          "height": 300
        },
        "id": "8LhikhHsBrZy",
        "outputId": "52438661-9e91-4b15-edb1-47c6ed765c3b"
      },
      "execution_count": null,
      "outputs": [
        {
          "output_type": "execute_result",
          "data": {
            "text/plain": [
              "       Item_Weight  Item_Visibility     Item_MRP  Item_Outlet_Sales\n",
              "count  8523.000000      8523.000000  8523.000000        8523.000000\n",
              "mean     12.857645         0.066132   140.992782        2181.288914\n",
              "std       4.226124         0.051598    62.275067        1706.499616\n",
              "min       4.555000         0.000000    31.290000          33.290000\n",
              "25%       9.310000         0.026989    93.826500         834.247400\n",
              "50%      12.857645         0.053931   143.012800        1794.331000\n",
              "75%      16.000000         0.094585   185.643700        3101.296400\n",
              "max      21.350000         0.328391   266.888400       13086.964800"
            ],
            "text/html": [
              "\n",
              "  <div id=\"df-497383b3-e892-4096-8161-57ef76941a1b\">\n",
              "    <div class=\"colab-df-container\">\n",
              "      <div>\n",
              "<style scoped>\n",
              "    .dataframe tbody tr th:only-of-type {\n",
              "        vertical-align: middle;\n",
              "    }\n",
              "\n",
              "    .dataframe tbody tr th {\n",
              "        vertical-align: top;\n",
              "    }\n",
              "\n",
              "    .dataframe thead th {\n",
              "        text-align: right;\n",
              "    }\n",
              "</style>\n",
              "<table border=\"1\" class=\"dataframe\">\n",
              "  <thead>\n",
              "    <tr style=\"text-align: right;\">\n",
              "      <th></th>\n",
              "      <th>Item_Weight</th>\n",
              "      <th>Item_Visibility</th>\n",
              "      <th>Item_MRP</th>\n",
              "      <th>Item_Outlet_Sales</th>\n",
              "    </tr>\n",
              "  </thead>\n",
              "  <tbody>\n",
              "    <tr>\n",
              "      <th>count</th>\n",
              "      <td>8523.000000</td>\n",
              "      <td>8523.000000</td>\n",
              "      <td>8523.000000</td>\n",
              "      <td>8523.000000</td>\n",
              "    </tr>\n",
              "    <tr>\n",
              "      <th>mean</th>\n",
              "      <td>12.857645</td>\n",
              "      <td>0.066132</td>\n",
              "      <td>140.992782</td>\n",
              "      <td>2181.288914</td>\n",
              "    </tr>\n",
              "    <tr>\n",
              "      <th>std</th>\n",
              "      <td>4.226124</td>\n",
              "      <td>0.051598</td>\n",
              "      <td>62.275067</td>\n",
              "      <td>1706.499616</td>\n",
              "    </tr>\n",
              "    <tr>\n",
              "      <th>min</th>\n",
              "      <td>4.555000</td>\n",
              "      <td>0.000000</td>\n",
              "      <td>31.290000</td>\n",
              "      <td>33.290000</td>\n",
              "    </tr>\n",
              "    <tr>\n",
              "      <th>25%</th>\n",
              "      <td>9.310000</td>\n",
              "      <td>0.026989</td>\n",
              "      <td>93.826500</td>\n",
              "      <td>834.247400</td>\n",
              "    </tr>\n",
              "    <tr>\n",
              "      <th>50%</th>\n",
              "      <td>12.857645</td>\n",
              "      <td>0.053931</td>\n",
              "      <td>143.012800</td>\n",
              "      <td>1794.331000</td>\n",
              "    </tr>\n",
              "    <tr>\n",
              "      <th>75%</th>\n",
              "      <td>16.000000</td>\n",
              "      <td>0.094585</td>\n",
              "      <td>185.643700</td>\n",
              "      <td>3101.296400</td>\n",
              "    </tr>\n",
              "    <tr>\n",
              "      <th>max</th>\n",
              "      <td>21.350000</td>\n",
              "      <td>0.328391</td>\n",
              "      <td>266.888400</td>\n",
              "      <td>13086.964800</td>\n",
              "    </tr>\n",
              "  </tbody>\n",
              "</table>\n",
              "</div>\n",
              "      <button class=\"colab-df-convert\" onclick=\"convertToInteractive('df-497383b3-e892-4096-8161-57ef76941a1b')\"\n",
              "              title=\"Convert this dataframe to an interactive table.\"\n",
              "              style=\"display:none;\">\n",
              "        \n",
              "  <svg xmlns=\"http://www.w3.org/2000/svg\" height=\"24px\"viewBox=\"0 0 24 24\"\n",
              "       width=\"24px\">\n",
              "    <path d=\"M0 0h24v24H0V0z\" fill=\"none\"/>\n",
              "    <path d=\"M18.56 5.44l.94 2.06.94-2.06 2.06-.94-2.06-.94-.94-2.06-.94 2.06-2.06.94zm-11 1L8.5 8.5l.94-2.06 2.06-.94-2.06-.94L8.5 2.5l-.94 2.06-2.06.94zm10 10l.94 2.06.94-2.06 2.06-.94-2.06-.94-.94-2.06-.94 2.06-2.06.94z\"/><path d=\"M17.41 7.96l-1.37-1.37c-.4-.4-.92-.59-1.43-.59-.52 0-1.04.2-1.43.59L10.3 9.45l-7.72 7.72c-.78.78-.78 2.05 0 2.83L4 21.41c.39.39.9.59 1.41.59.51 0 1.02-.2 1.41-.59l7.78-7.78 2.81-2.81c.8-.78.8-2.07 0-2.86zM5.41 20L4 18.59l7.72-7.72 1.47 1.35L5.41 20z\"/>\n",
              "  </svg>\n",
              "      </button>\n",
              "      \n",
              "  <style>\n",
              "    .colab-df-container {\n",
              "      display:flex;\n",
              "      flex-wrap:wrap;\n",
              "      gap: 12px;\n",
              "    }\n",
              "\n",
              "    .colab-df-convert {\n",
              "      background-color: #E8F0FE;\n",
              "      border: none;\n",
              "      border-radius: 50%;\n",
              "      cursor: pointer;\n",
              "      display: none;\n",
              "      fill: #1967D2;\n",
              "      height: 32px;\n",
              "      padding: 0 0 0 0;\n",
              "      width: 32px;\n",
              "    }\n",
              "\n",
              "    .colab-df-convert:hover {\n",
              "      background-color: #E2EBFA;\n",
              "      box-shadow: 0px 1px 2px rgba(60, 64, 67, 0.3), 0px 1px 3px 1px rgba(60, 64, 67, 0.15);\n",
              "      fill: #174EA6;\n",
              "    }\n",
              "\n",
              "    [theme=dark] .colab-df-convert {\n",
              "      background-color: #3B4455;\n",
              "      fill: #D2E3FC;\n",
              "    }\n",
              "\n",
              "    [theme=dark] .colab-df-convert:hover {\n",
              "      background-color: #434B5C;\n",
              "      box-shadow: 0px 1px 3px 1px rgba(0, 0, 0, 0.15);\n",
              "      filter: drop-shadow(0px 1px 2px rgba(0, 0, 0, 0.3));\n",
              "      fill: #FFFFFF;\n",
              "    }\n",
              "  </style>\n",
              "\n",
              "      <script>\n",
              "        const buttonEl =\n",
              "          document.querySelector('#df-497383b3-e892-4096-8161-57ef76941a1b button.colab-df-convert');\n",
              "        buttonEl.style.display =\n",
              "          google.colab.kernel.accessAllowed ? 'block' : 'none';\n",
              "\n",
              "        async function convertToInteractive(key) {\n",
              "          const element = document.querySelector('#df-497383b3-e892-4096-8161-57ef76941a1b');\n",
              "          const dataTable =\n",
              "            await google.colab.kernel.invokeFunction('convertToInteractive',\n",
              "                                                     [key], {});\n",
              "          if (!dataTable) return;\n",
              "\n",
              "          const docLinkHtml = 'Like what you see? Visit the ' +\n",
              "            '<a target=\"_blank\" href=https://colab.research.google.com/notebooks/data_table.ipynb>data table notebook</a>'\n",
              "            + ' to learn more about interactive tables.';\n",
              "          element.innerHTML = '';\n",
              "          dataTable['output_type'] = 'display_data';\n",
              "          await google.colab.output.renderOutput(dataTable, element);\n",
              "          const docLink = document.createElement('div');\n",
              "          docLink.innerHTML = docLinkHtml;\n",
              "          element.appendChild(docLink);\n",
              "        }\n",
              "      </script>\n",
              "    </div>\n",
              "  </div>\n",
              "  "
            ]
          },
          "metadata": {},
          "execution_count": 15
        }
      ]
    },
    {
      "cell_type": "markdown",
      "source": [
        "# Project 1 - Part 3"
      ],
      "metadata": {
        "id": "0-aK3Hu7GoTd"
      }
    },
    {
      "cell_type": "markdown",
      "source": [
        "The goal of this third part  is to understand the data as it relates to the products and outlets that play crucial roles in increasing sales. I will complete any statistical analyses that might help you to understand, explain, or model with your data. The following is inckuded:\n",
        "\n",
        "- Histogram to view the distributions of various features in your dataset.\n",
        "- Boxplot to view statistical summaries of various features in your dataset.\n",
        "- Heatmap of the correlation between features.\n"
      ],
      "metadata": {
        "id": "TWGGFfJDHcVz"
      }
    },
    {
      "cell_type": "markdown",
      "source": [
        "## Exploratory Visuals"
      ],
      "metadata": {
        "id": "_eGkbj4rDEi8"
      }
    },
    {
      "cell_type": "markdown",
      "source": [
        "- Approaches\n",
        "We will go Column-by-Column with the EDA using a function (plus markdown interpretations for each)"
      ],
      "metadata": {
        "id": "mWzPpS8Kyi8R"
      }
    },
    {
      "cell_type": "code",
      "source": [
        "# Checking info again\n",
        "df.info()\n",
        "\n",
        "# Converting back Outlet_Establishment_Year form datetime to int64\n",
        "df = df.astype({'Outlet_Establishment_Year': 'int'})\n"
      ],
      "metadata": {
        "id": "rczPWtB3DNXg",
        "outputId": "20c433df-39f4-4b67-caf8-7210751a856e",
        "colab": {
          "base_uri": "https://localhost:8080/"
        }
      },
      "execution_count": null,
      "outputs": [
        {
          "output_type": "stream",
          "name": "stdout",
          "text": [
            "<class 'pandas.core.frame.DataFrame'>\n",
            "Index: 8523 entries, FDA15 to DRG01\n",
            "Data columns (total 10 columns):\n",
            " #   Column                     Non-Null Count  Dtype         \n",
            "---  ------                     --------------  -----         \n",
            " 0   Item_Weight                8523 non-null   float64       \n",
            " 1   Item_Fat_Content           8523 non-null   object        \n",
            " 2   Item_Visibility            8523 non-null   float64       \n",
            " 3   Item_Type                  8523 non-null   object        \n",
            " 4   Item_MRP                   8523 non-null   float64       \n",
            " 5   Outlet_Identifier          8523 non-null   object        \n",
            " 6   Outlet_Establishment_Year  8523 non-null   datetime64[ns]\n",
            " 7   Outlet_Location_Type       8523 non-null   object        \n",
            " 8   Outlet_Type                8523 non-null   object        \n",
            " 9   Item_Outlet_Sales          8523 non-null   float64       \n",
            "dtypes: datetime64[ns](1), float64(4), object(5)\n",
            "memory usage: 732.4+ KB\n"
          ]
        },
        {
          "output_type": "stream",
          "name": "stderr",
          "text": [
            "<ipython-input-16-acef1667732d>:5: FutureWarning: casting datetime64[ns] values to int64 with .astype(...) is deprecated and will raise in a future version. Use .view(...) instead.\n",
            "  df = df.astype({'Outlet_Establishment_Year': 'int'})\n"
          ]
        }
      ]
    },
    {
      "cell_type": "markdown",
      "source": [
        "- For each numeric feature, we will plot the distribution and a boxplot."
      ],
      "metadata": {
        "id": "_h2WSLY2y7x7"
      }
    },
    {
      "cell_type": "code",
      "source": [
        "# Helper Function\n",
        "def print_num_cols(df):\n",
        "  num_columns = df.select_dtypes('number').columns\n",
        "  return list(num_columns)"
      ],
      "metadata": {
        "id": "ca_raD-gRvRH"
      },
      "execution_count": null,
      "outputs": []
    },
    {
      "cell_type": "code",
      "source": [
        "print_num_cols(df)"
      ],
      "metadata": {
        "colab": {
          "base_uri": "https://localhost:8080/"
        },
        "id": "HbwmDpsZcR4O",
        "outputId": "d9f48775-dc7d-402a-9f07-a3283acd5003"
      },
      "execution_count": null,
      "outputs": [
        {
          "output_type": "execute_result",
          "data": {
            "text/plain": [
              "['Item_Weight',\n",
              " 'Item_Visibility',\n",
              " 'Item_MRP',\n",
              " 'Outlet_Establishment_Year',\n",
              " 'Item_Outlet_Sales']"
            ]
          },
          "metadata": {},
          "execution_count": 18
        }
      ]
    },
    {
      "cell_type": "markdown",
      "source": [
        "## 1. EDA Using Loops"
      ],
      "metadata": {
        "id": "wRwm60qvzA0e"
      }
    },
    {
      "cell_type": "markdown",
      "source": [
        "## Column-by-Column EDA using a function (plus markdown interpretations for each)"
      ],
      "metadata": {
        "id": "mtrnqmh6zKjS"
      }
    },
    {
      "cell_type": "markdown",
      "source": [
        "- Below, I chose to visual all columns:`Item_Outlet_Sales`, `Item_Visibility`, `Item_MRP` and `Item_Weight`.\n",
        "\n",
        "`Item_MRP`: The retail price is relevant to the sales predition, as it makes it more accessible to all buyers.\n",
        "\n",
        "`Item_Visibility`: The onsite marketing will include the items the buyers select, helping his sales.\n",
        "\n",
        "`Item_Outlet_Sales`: include as it is the variable to be predicted.\n",
        "\n",
        "`Item_Weight`: This feature might not affect the analysis/predition, but I am curious to see if so. "
      ],
      "metadata": {
        "id": "vvZsIpQmzRMl"
      }
    },
    {
      "cell_type": "code",
      "source": [
        " # Source : https://github.com/coding-dojo-data-science/Project1_Exemplar/blob/main/DS_Salaries.ipynb\n",
        "\n",
        "def plot_numeric(df,col):\n",
        "  \"\"\"EDA function to plot a histogram and boxplot for the selected column\"\"\"\n",
        "  ## make the figure and axes sharing the same x-axis\n",
        "  fig, axes = plt.subplots(nrows=2, figsize=(10,5), sharex=True)\n",
        "\n",
        "  ## Use seaborn plots with ax=axes[i]\n",
        "  sns.histplot(data=df,x = col,ax = axes[0])\n",
        "  mean_value = df[col].mean()\n",
        "  axes[0].axvline(mean_value,color='red', ls='--', \n",
        "           label=f\"Mean Value = ${mean_value:,.2f}\",);\n",
        "\n",
        "  med_value = df[col].median()\n",
        "  axes[0].axvline(med_value,color='black', ls='--', \n",
        "           label=f\"Median Value = ${med_value:,.2f}\");\n",
        "\n",
        "\n",
        "  sns.boxplot(data=df, x = col, ax = axes[1])\n",
        "\n",
        "  ## Updating title of top graph \n",
        "  axes[0].set_title(f'EDA for {col}')\n",
        "\n",
        "  ## Fixing any overlapping labels and showing\n",
        "  plt.tight_layout()\n",
        "  plt.show()"
      ],
      "metadata": {
        "id": "BrbbI7-7Qrxg"
      },
      "execution_count": null,
      "outputs": []
    },
    {
      "cell_type": "code",
      "source": [
        "df_no_index = df.reset_index()\n",
        "plot_numeric(df_no_index,'Item_MRP')"
      ],
      "metadata": {
        "id": "LbelEEJWtKT6",
        "colab": {
          "base_uri": "https://localhost:8080/",
          "height": 369
        },
        "outputId": "a12d1b45-dc77-4b8f-930a-c148ef999c1f"
      },
      "execution_count": null,
      "outputs": [
        {
          "output_type": "display_data",
          "data": {
            "text/plain": [
              "<Figure size 720x360 with 2 Axes>"
            ],
            "image/png": "[encoded data removed]"
          },
          "metadata": {
            "needs_background": "light"
          }
        }
      ]
    },
    {
      "cell_type": "markdown",
      "source": [
        "To comment"
      ],
      "metadata": {
        "id": "ecfuu2ohX7Bb"
      }
    },
    {
      "cell_type": "code",
      "source": [
        "plot_numeric(df_no_index,'Item_Visibility')"
      ],
      "metadata": {
        "colab": {
          "base_uri": "https://localhost:8080/",
          "height": 369
        },
        "id": "0MGeLHbAUezZ",
        "outputId": "cddf4753-0f87-45ba-e78a-339b22d41a26"
      },
      "execution_count": null,
      "outputs": [
        {
          "output_type": "display_data",
          "data": {
            "text/plain": [
              "<Figure size 720x360 with 2 Axes>"
            ],
            "image/png": "[encoded data removed]"
          },
          "metadata": {
            "needs_background": "light"
          }
        }
      ]
    },
    {
      "cell_type": "markdown",
      "source": [
        "Several outliers items with> 20% total display, and I am keeping them as they have a better chance of being sold. The rest is within the 75th percentile"
      ],
      "metadata": {
        "id": "nJ7ERcAGX_Rj"
      }
    },
    {
      "cell_type": "code",
      "source": [
        "plot_numeric(df_no_index,'Item_Weight')"
      ],
      "metadata": {
        "colab": {
          "base_uri": "https://localhost:8080/",
          "height": 369
        },
        "id": "gh-WIr1rWy1T",
        "outputId": "bb87e734-7729-4739-f2e9-7492e4970b32"
      },
      "execution_count": null,
      "outputs": [
        {
          "output_type": "display_data",
          "data": {
            "text/plain": [
              "<Figure size 720x360 with 2 Axes>"
            ],
            "image/png": "[encoded data removed]"
          },
          "metadata": {
            "needs_background": "light"
          }
        }
      ]
    },
    {
      "cell_type": "markdown",
      "source": [
        "The mayority weight is ~12.5, there is not outliers"
      ],
      "metadata": {
        "id": "bFjzxVT3YFHa"
      }
    },
    {
      "cell_type": "markdown",
      "source": [
        "### Visualizing with Barplots\n",
        "- We will view the categorical counts of all of the object type columns and visualize this information with a barplot. "
      ],
      "metadata": {
        "id": "3mZl6fyyYhm_"
      }
    },
    {
      "cell_type": "code",
      "source": [
        "## Source : https://github.com/coding-dojo-data-science/Project1_Exemplar/blob/main/DS_Salaries.ipynb\n",
        "## functionize a barplot and call it plot_bar\n",
        "\n",
        "def plot_bar(data,x, y, figsize=(20,5)):\n",
        "    ## Make a larger fig/ax before plotting\n",
        "    fig, ax = plt.subplots(figsize=figsize)\n",
        "\n",
        "    ## Plot barplot\n",
        "    \n",
        "    ## counts, counts up the categories, sort the values, then puts them in a \n",
        "    ## data frame.\n",
        "    \n",
        "    counts = df[x].value_counts().sort_values(ascending=False).to_frame()\n",
        "    ## ploting the barplot\n",
        "\n",
        "    sns.barplot(data=counts,x=counts.index, y = counts[x],ax=ax)\n",
        "\n",
        "    plt.xticks(rotation= 90)\n",
        "    ax.set_title(f'Categorical Frequencies of {y}', fontsize = 20, fontweight = 'bold');\n",
        "    ax.set_xlabel(f'Categories for {y}', fontsize = 15, fontweight = 'bold')\n",
        "    ax.set_ylabel('Counts', fontsize = 15, fontweight = 'bold')\n",
        "\n",
        "    return fig,ax"
      ],
      "metadata": {
        "id": "0x3eq-9AYkPB"
      },
      "execution_count": null,
      "outputs": []
    },
    {
      "cell_type": "code",
      "source": [
        "## Helper Funtion\n",
        "def print_obj_cols(df):\n",
        "  obj_columns = df.select_dtypes('object').columns\n",
        "  print(f\"\"\"Dataset numeric columns count:\n",
        "            {list(obj_columns)}\"\"\")"
      ],
      "metadata": {
        "id": "GdnDtpS0ZhWW"
      },
      "execution_count": null,
      "outputs": []
    },
    {
      "cell_type": "code",
      "source": [
        "print_obj_cols(df)"
      ],
      "metadata": {
        "colab": {
          "base_uri": "https://localhost:8080/"
        },
        "id": "bVcKc2mPb02O",
        "outputId": "31a099f5-c402-4713-96b1-2c22aa3887a5"
      },
      "execution_count": null,
      "outputs": [
        {
          "output_type": "stream",
          "name": "stdout",
          "text": [
            "Dataset numeric columns count:\n",
            "            ['Item_Fat_Content', 'Item_Type', 'Outlet_Identifier', 'Outlet_Location_Type', 'Outlet_Type']\n"
          ]
        }
      ]
    },
    {
      "cell_type": "code",
      "source": [
        "fig, ax = plot_bar(df, 'Item_Fat_Content', 'Item Fat Content');\n",
        "print(df['Item_Fat_Content'].value_counts())"
      ],
      "metadata": {
        "colab": {
          "base_uri": "https://localhost:8080/",
          "height": 440
        },
        "id": "EEOL6T5bZC4W",
        "outputId": "d156a84f-50ed-4fa6-9091-7d3fd3fd3079"
      },
      "execution_count": null,
      "outputs": [
        {
          "output_type": "stream",
          "name": "stdout",
          "text": [
            "Low Fat    5517\n",
            "Regular    3006\n",
            "Name: Item_Fat_Content, dtype: int64\n"
          ]
        },
        {
          "output_type": "display_data",
          "data": {
            "text/plain": [
              "<Figure size 1440x360 with 1 Axes>"
            ],
            "image/png": "[encoded data removed]"
          },
          "metadata": {
            "needs_background": "light"
          }
        }
      ]
    },
    {
      "cell_type": "markdown",
      "source": [
        "There are more Low Fat items; it could get a better chance of getting sold"
      ],
      "metadata": {
        "id": "XIJEX2e7YxEH"
      }
    },
    {
      "cell_type": "code",
      "source": [
        "fig, ax = plot_bar(df, 'Item_Type', 'Item Type');\n",
        "print(df['Item_Type'].value_counts())"
      ],
      "metadata": {
        "colab": {
          "base_uri": "https://localhost:8080/",
          "height": 753
        },
        "id": "Q9hdb22pZ2Is",
        "outputId": "bbcd505f-757a-4c41-8217-4c18caa68b78"
      },
      "execution_count": null,
      "outputs": [
        {
          "output_type": "stream",
          "name": "stdout",
          "text": [
            "Fruits and Vegetables    1232\n",
            "Snack Foods              1200\n",
            "Household                 910\n",
            "Frozen Foods              856\n",
            "Dairy                     682\n",
            "Canned                    649\n",
            "Baking Goods              648\n",
            "Health and Hygiene        520\n",
            "Soft Drinks               445\n",
            "Meat                      425\n",
            "Breads                    251\n",
            "Hard Drinks               214\n",
            "Others                    169\n",
            "Starchy Foods             148\n",
            "Breakfast                 110\n",
            "Seafood                    64\n",
            "Name: Item_Type, dtype: int64\n"
          ]
        },
        {
          "output_type": "display_data",
          "data": {
            "text/plain": [
              "<Figure size 1440x360 with 1 Axes>"
            ],
            "image/png": "[encoded data removed]"
          },
          "metadata": {
            "needs_background": "light"
          }
        }
      ]
    },
    {
      "cell_type": "markdown",
      "source": [
        "Most items are fruits/Veggies & snacks, and Seafood a the fewer ones."
      ],
      "metadata": {
        "id": "vHU4H6AtaYDG"
      }
    },
    {
      "cell_type": "code",
      "source": [
        "fig, ax = plot_bar(df, 'Outlet_Identifier', 'Outlet Identifier');\n",
        "print(df['Outlet_Identifier'].value_counts())"
      ],
      "metadata": {
        "colab": {
          "base_uri": "https://localhost:8080/",
          "height": 581
        },
        "id": "8G-WimgVZ10y",
        "outputId": "cd0b0d29-4836-4654-e703-abb81db4e71e"
      },
      "execution_count": null,
      "outputs": [
        {
          "output_type": "stream",
          "name": "stdout",
          "text": [
            "OUT027    935\n",
            "OUT013    932\n",
            "OUT049    930\n",
            "OUT046    930\n",
            "OUT035    930\n",
            "OUT045    929\n",
            "OUT018    928\n",
            "OUT017    926\n",
            "OUT010    555\n",
            "OUT019    528\n",
            "Name: Outlet_Identifier, dtype: int64\n"
          ]
        },
        {
          "output_type": "display_data",
          "data": {
            "text/plain": [
              "<Figure size 1440x360 with 1 Axes>"
            ],
            "image/png": "[encoded data removed]"
          },
          "metadata": {
            "needs_background": "light"
          }
        }
      ]
    },
    {
      "cell_type": "markdown",
      "source": [
        "Mostly of the stores offers ~900 counts, but 10 and 19"
      ],
      "metadata": {
        "id": "1ytRtsVhepko"
      }
    },
    {
      "cell_type": "code",
      "source": [
        "# Barplot with seaborn\n",
        "sns.barplot(data=df, y='Item_Type', x='Item_MRP');"
      ],
      "metadata": {
        "colab": {
          "base_uri": "https://localhost:8080/",
          "height": 280
        },
        "id": "EAGl68pfBVxx",
        "outputId": "912342c3-e840-4e64-fb99-11dab0dab5f2"
      },
      "execution_count": null,
      "outputs": [
        {
          "output_type": "display_data",
          "data": {
            "text/plain": [
              "<Figure size 432x288 with 1 Axes>"
            ],
            "image/png": "[encoded data removed]"
          },
          "metadata": {
            "needs_background": "light"
          }
        }
      ]
    },
    {
      "cell_type": "markdown",
      "source": [
        "The MRP is about the same between all items"
      ],
      "metadata": {
        "id": "usv9sPH1vTdk"
      }
    },
    {
      "cell_type": "code",
      "source": [
        "# Barplot with seaborn\n",
        "sns.barplot(data=df, y='Item_Type', x='Item_Outlet_Sales');"
      ],
      "metadata": {
        "id": "1bg6zafiB1tH",
        "outputId": "b47202c1-9f5f-4806-f8cb-a89061c7d075",
        "colab": {
          "base_uri": "https://localhost:8080/",
          "height": 280
        }
      },
      "execution_count": null,
      "outputs": [
        {
          "output_type": "display_data",
          "data": {
            "text/plain": [
              "<Figure size 432x288 with 1 Axes>"
            ],
            "image/png": "[encoded data removed]"
          },
          "metadata": {
            "needs_background": "light"
          }
        }
      ]
    },
    {
      "cell_type": "markdown",
      "source": [
        "Seafood and Starchy have higher Sales, and baking & Soft has lowest"
      ],
      "metadata": {
        "id": "ZhvlWCV-ve3N"
      }
    },
    {
      "cell_type": "markdown",
      "source": [
        "### EDA for Correlated Features"
      ],
      "metadata": {
        "id": "mxsvxdmJc0nr"
      }
    },
    {
      "cell_type": "code",
      "source": [
        "plt.figure(figsize=(10,10))\n",
        "sns.heatmap(df.corr(),annot=True,cmap='Blues');"
      ],
      "metadata": {
        "id": "DXfuOHbvh4Fk",
        "outputId": "250031b9-ecd5-4614-cfa6-b7d4509a0764",
        "colab": {
          "base_uri": "https://localhost:8080/",
          "height": 719
        }
      },
      "execution_count": null,
      "outputs": [
        {
          "output_type": "display_data",
          "data": {
            "text/plain": [
              "<Figure size 720x720 with 2 Axes>"
            ],
            "image/png": "[encoded data removed]"
          },
          "metadata": {
            "needs_background": "light"
          }
        }
      ]
    },
    {
      "cell_type": "markdown",
      "source": [
        "There is a moderate correlatiom between Item_MRP and Item_Outlet_Sales"
      ],
      "metadata": {
        "id": "HM9AhKaq2Hdk"
      }
    },
    {
      "cell_type": "markdown",
      "source": [
        "# Project 1 - Part 4"
      ],
      "metadata": {
        "id": "JJPSgJxsGwv9"
      }
    },
    {
      "cell_type": "markdown",
      "source": [
        "## Explanatory Visuals"
      ],
      "metadata": {
        "id": "SgyFyi0gDG-4"
      }
    },
    {
      "cell_type": "markdown",
      "source": [
        "### Possible Questions to Answer:\n",
        "  4.1 Which products sell the most?\n",
        "\n",
        "  4.2. Which products sell the most by fat content?\n",
        "\n",
        "  4.3 Which store has better sales?\n",
        "\n",
        "  4.4 Which store sells more by establishment year?.\n",
        "\n",
        "  4.5 Which store sells more by location type"
      ],
      "metadata": {
        "id": "Wwvf1rsX1Mvc"
      }
    },
    {
      "cell_type": "code",
      "source": [
        "df.info()"
      ],
      "metadata": {
        "id": "QaFonZQJDN3A",
        "colab": {
          "base_uri": "https://localhost:8080/"
        },
        "outputId": "664364b0-2ca4-405c-839a-452612fcd120"
      },
      "execution_count": null,
      "outputs": [
        {
          "output_type": "stream",
          "name": "stdout",
          "text": [
            "<class 'pandas.core.frame.DataFrame'>\n",
            "Index: 8523 entries, FDA15 to DRG01\n",
            "Data columns (total 10 columns):\n",
            " #   Column                     Non-Null Count  Dtype  \n",
            "---  ------                     --------------  -----  \n",
            " 0   Item_Weight                8523 non-null   float64\n",
            " 1   Item_Fat_Content           8523 non-null   object \n",
            " 2   Item_Visibility            8523 non-null   float64\n",
            " 3   Item_Type                  8523 non-null   object \n",
            " 4   Item_MRP                   8523 non-null   float64\n",
            " 5   Outlet_Identifier          8523 non-null   object \n",
            " 6   Outlet_Establishment_Year  8523 non-null   int64  \n",
            " 7   Outlet_Location_Type       8523 non-null   object \n",
            " 8   Outlet_Type                8523 non-null   object \n",
            " 9   Item_Outlet_Sales          8523 non-null   float64\n",
            "dtypes: float64(4), int64(1), object(5)\n",
            "memory usage: 990.5+ KB\n"
          ]
        }
      ]
    },
    {
      "cell_type": "markdown",
      "source": [
        "4.1 Which products sell the most?"
      ],
      "metadata": {
        "id": "uIQav09E4lB3"
      }
    },
    {
      "cell_type": "code",
      "source": [
        "Item_means = df.groupby(['Item_Type'])['Item_Outlet_Sales'].mean().sort_values(ascending=False)\n",
        "Item_means"
      ],
      "metadata": {
        "colab": {
          "base_uri": "https://localhost:8080/"
        },
        "id": "_IyGLQed18Cg",
        "outputId": "09afeb9c-792f-42eb-8b38-55f8be5d5dd9"
      },
      "execution_count": null,
      "outputs": [
        {
          "output_type": "execute_result",
          "data": {
            "text/plain": [
              "Item_Type\n",
              "Starchy Foods            2374.332773\n",
              "Seafood                  2326.065928\n",
              "Fruits and Vegetables    2289.009592\n",
              "Snack Foods              2277.321739\n",
              "Household                2258.784300\n",
              "Dairy                    2232.542597\n",
              "Canned                   2225.194904\n",
              "Breads                   2204.132226\n",
              "Meat                     2158.977911\n",
              "Hard Drinks              2139.221622\n",
              "Frozen Foods             2132.867744\n",
              "Breakfast                2111.808651\n",
              "Health and Hygiene       2010.000265\n",
              "Soft Drinks              2006.511735\n",
              "Baking Goods             1952.971207\n",
              "Others                   1926.139702\n",
              "Name: Item_Outlet_Sales, dtype: float64"
            ]
          },
          "metadata": {},
          "execution_count": 42
        }
      ]
    },
    {
      "cell_type": "markdown",
      "source": [],
      "metadata": {
        "id": "48aBfuWoBGCv"
      }
    },
    {
      "cell_type": "code",
      "source": [
        "\n",
        "fig, ax = plt.subplots(figsize=(20,10))\n",
        "\n",
        "ax = sns.barplot(data=df,x='Item_Type', y = 'Item_Outlet_Sales', order = Item_means.index, ci = None)\n",
        "plt.xticks(rotation = 90)\n",
        "ax.set_title('Average Sales vs. Item Type', fontsize = 20, fontweight = 'bold');\n",
        "ax.set_xlabel('Item Outlet Sales', fontsize = 15, fontweight = 'bold')\n",
        "ax.set_ylabel('Item Type', fontsize = 15, fontweight = 'bold');\n",
        "\n",
        "def hundred_k(x,pos):\n",
        "  \"\"\"function for use with matplotlib FuncFormatter - formats money in millions\"\"\"\n",
        "  return f'${x*1e-3:,.0f}K'\n",
        "\n",
        "price_fmt_100k = FuncFormatter(hundred_k)\n",
        "\n",
        "ax.yaxis.set_major_formatter(price_fmt_100k)"
      ],
      "metadata": {
        "colab": {
          "base_uri": "https://localhost:8080/",
          "height": 729
        },
        "id": "CqOA2MWNsYxq",
        "outputId": "4914591e-2560-4e97-b82b-f243f3c682c3"
      },
      "execution_count": null,
      "outputs": [
        {
          "output_type": "display_data",
          "data": {
            "text/plain": [
              "<Figure size 1440x720 with 1 Axes>"
            ],
            "image/png": "[encoded data removed]"
          },
          "metadata": {
            "needs_background": "light"
          }
        }
      ]
    },
    {
      "cell_type": "markdown",
      "source": [
        "Starchy and Seafood has the better sales, Baking and other the lowest"
      ],
      "metadata": {
        "id": "1KFZ1mpuCP-l"
      }
    },
    {
      "cell_type": "markdown",
      "source": [
        "4.2 Which products sell the most by fat content?"
      ],
      "metadata": {
        "id": "KHcdlxBj9Mm_"
      }
    },
    {
      "cell_type": "code",
      "source": [
        "Fat_means = df.groupby('Item_Fat_Content')['Item_Outlet_Sales'].mean().sort_values(ascending=False)\n",
        "Fat_means"
      ],
      "metadata": {
        "colab": {
          "base_uri": "https://localhost:8080/"
        },
        "id": "kOG0zobs47Wl",
        "outputId": "4f951ed8-812d-4677-b68c-f2c86bbf3761"
      },
      "execution_count": null,
      "outputs": [
        {
          "output_type": "execute_result",
          "data": {
            "text/plain": [
              "Item_Fat_Content\n",
              "Regular    2224.561170\n",
              "Low Fat    2157.711534\n",
              "Name: Item_Outlet_Sales, dtype: float64"
            ]
          },
          "metadata": {},
          "execution_count": 43
        }
      ]
    },
    {
      "cell_type": "code",
      "source": [
        "fig, ax = plt.subplots(figsize=(20,10))\n",
        "\n",
        "ax = sns.barplot(data=df,x='Item_Fat_Content', y = 'Item_Outlet_Sales', order = Fat_means.index, ci = None)\n",
        "plt.xticks(rotation = 90)\n",
        "ax.set_title('Average Sales vs. Fat Item Type', fontsize = 20, fontweight = 'bold');\n",
        "ax.set_xlabel('Item Fat Content', fontsize = 15, fontweight = 'bold')\n",
        "ax.set_ylabel('Item Outlet Sales', fontsize = 15, fontweight = 'bold');\n",
        "\n",
        "def hundred_k(x,pos):\n",
        "  \"\"\"function for use with matplotlib FuncFormatter - formats money in millions\"\"\"\n",
        "  return f'${x*1e-3:,.0f}K'\n",
        "\n",
        "price_fmt_100k = FuncFormatter(hundred_k)\n",
        "\n",
        "ax.yaxis.set_major_formatter(price_fmt_100k)"
      ],
      "metadata": {
        "colab": {
          "base_uri": "https://localhost:8080/",
          "height": 660
        },
        "id": "X-C39GSnvBDj",
        "outputId": "a7c07c92-761c-461f-b222-de892f76ee0f"
      },
      "execution_count": null,
      "outputs": [
        {
          "output_type": "display_data",
          "data": {
            "text/plain": [
              "<Figure size 1440x720 with 1 Axes>"
            ],
            "image/png": "[encoded data removed]"
          },
          "metadata": {
            "needs_background": "light"
          }
        }
      ]
    },
    {
      "cell_type": "markdown",
      "source": [
        "The Low and reegulaar fat items has similar sales"
      ],
      "metadata": {
        "id": "NzZPf5VwCSVD"
      }
    },
    {
      "cell_type": "markdown",
      "source": [
        "4.3 Which store has better sales?"
      ],
      "metadata": {
        "id": "Qiv3FpVDqDL8"
      }
    },
    {
      "cell_type": "code",
      "source": [
        "store_means = df.groupby('Outlet_Identifier')['Item_Outlet_Sales'].mean().sort_values(ascending=False)\n",
        "store_means"
      ],
      "metadata": {
        "id": "jU4wRn8TADzH",
        "outputId": "7c3ad196-fda3-4320-c8dd-a9074c1d5a05",
        "colab": {
          "base_uri": "https://localhost:8080/"
        }
      },
      "execution_count": null,
      "outputs": [
        {
          "output_type": "execute_result",
          "data": {
            "text/plain": [
              "Outlet_Identifier\n",
              "OUT027    3694.038558\n",
              "OUT035    2438.841866\n",
              "OUT049    2348.354635\n",
              "OUT017    2340.675263\n",
              "OUT013    2298.995256\n",
              "OUT046    2277.844267\n",
              "OUT045    2192.384798\n",
              "OUT018    1995.498739\n",
              "OUT019     340.329723\n",
              "OUT010     339.351662\n",
              "Name: Item_Outlet_Sales, dtype: float64"
            ]
          },
          "metadata": {},
          "execution_count": 54
        }
      ]
    },
    {
      "cell_type": "code",
      "source": [
        "fig, ax = plt.subplots(figsize=(20,10))\n",
        "\n",
        "ax = sns.barplot(data=df,x='Outlet_Identifier', y = 'Item_Outlet_Sales', order = store_means.index, ci = None)\n",
        "plt.xticks(rotation = 90)\n",
        "ax.set_title('Average Sales vs. Store', fontsize = 20, fontweight = 'bold');\n",
        "ax.set_xlabel('Store', fontsize = 15, fontweight = 'bold')\n",
        "ax.set_ylabel('Item Outlet Sales', fontsize = 15, fontweight = 'bold');\n",
        "\n",
        "def hundred_k(x,pos):\n",
        "  \"\"\"function for use with matplotlib FuncFormatter - formats money in millions\"\"\"\n",
        "  return f'${x*1e-3:,.0f}K'\n",
        "\n",
        "price_fmt_100k = FuncFormatter(hundred_k)\n",
        "\n",
        "ax.yaxis.set_major_formatter(price_fmt_100k)"
      ],
      "metadata": {
        "colab": {
          "base_uri": "https://localhost:8080/",
          "height": 662
        },
        "id": "sVp-v7Fiw05e",
        "outputId": "45728923-0dd9-4dc7-c6c4-2e950b653544"
      },
      "execution_count": null,
      "outputs": [
        {
          "output_type": "display_data",
          "data": {
            "text/plain": [
              "<Figure size 1440x720 with 1 Axes>"
            ],
            "image/png": "[encoded data removed]"
          },
          "metadata": {
            "needs_background": "light"
          }
        }
      ]
    },
    {
      "cell_type": "markdown",
      "source": [
        "Store 27 has the higest sales, sotres 19 & 10 the lowest"
      ],
      "metadata": {
        "id": "0w8OHSFqHwhc"
      }
    },
    {
      "cell_type": "markdown",
      "source": [
        "4.4 Which store sells more by establishment year?"
      ],
      "metadata": {
        "id": "96n-IHQXqYAJ"
      }
    },
    {
      "cell_type": "code",
      "source": [
        "Store_means = df.groupby(['Outlet_Identifier','Outlet_Establishment_Year'])['Item_Outlet_Sales'].mean().sort_values(ascending=False)\n",
        "Store_means"
      ],
      "metadata": {
        "id": "9iBqFTaMB3AD",
        "outputId": "cf528a5e-d0ad-4131-9252-e30d659933eb",
        "colab": {
          "base_uri": "https://localhost:8080/"
        }
      },
      "execution_count": null,
      "outputs": [
        {
          "output_type": "execute_result",
          "data": {
            "text/plain": [
              "Outlet_Identifier  Outlet_Establishment_Year\n",
              "OUT027             1985                         3694.038558\n",
              "OUT035             2004                         2438.841866\n",
              "OUT049             1999                         2348.354635\n",
              "OUT017             2007                         2340.675263\n",
              "OUT013             1987                         2298.995256\n",
              "OUT046             1997                         2277.844267\n",
              "OUT045             2002                         2192.384798\n",
              "OUT018             2009                         1995.498739\n",
              "OUT019             1985                          340.329723\n",
              "OUT010             1998                          339.351662\n",
              "Name: Item_Outlet_Sales, dtype: float64"
            ]
          },
          "metadata": {},
          "execution_count": 46
        }
      ]
    },
    {
      "cell_type": "code",
      "source": [
        "fig, ax = plt.subplots(figsize=(20,10))\n",
        "\n",
        "ax = sns.barplot(data=df,x='Outlet_Identifier', y = 'Item_Outlet_Sales', order = store_means.index, ci = None, hue = 'Outlet_Establishment_Year')\n",
        "plt.xticks(rotation = 90)\n",
        "ax.set_title('Average Sales vs. Store Open Year', fontsize = 20, fontweight = 'bold');\n",
        "ax.set_xlabel('Store', fontsize = 15, fontweight = 'bold')\n",
        "ax.set_ylabel('Item Outlet Sales', fontsize = 15, fontweight = 'bold');\n",
        "\n",
        "def hundred_k(x,pos):\n",
        "  \"\"\"function for use with matplotlib FuncFormatter - formats money in millions\"\"\"\n",
        "  return f'${x*1e-3:,.0f}K'\n",
        "\n",
        "price_fmt_100k = FuncFormatter(hundred_k)\n",
        "\n",
        "ax.yaxis.set_major_formatter(price_fmt_100k)"
      ],
      "metadata": {
        "colab": {
          "base_uri": "https://localhost:8080/",
          "height": 662
        },
        "id": "4QkjOrUmyPh5",
        "outputId": "c411d886-5188-41e5-c6a8-0441122ac5d5"
      },
      "execution_count": null,
      "outputs": [
        {
          "output_type": "display_data",
          "data": {
            "text/plain": [
              "<Figure size 1440x720 with 1 Axes>"
            ],
            "image/png": "[encoded data removed]"
          },
          "metadata": {
            "needs_background": "light"
          }
        }
      ]
    },
    {
      "cell_type": "markdown",
      "source": [
        "Store 27 has open longer than other stores, which might indicate that time in the bussines is important"
      ],
      "metadata": {
        "id": "GtfhL5coID-j"
      }
    },
    {
      "cell_type": "markdown",
      "source": [
        "4.5 Stores sells by location type"
      ],
      "metadata": {
        "id": "vnE1Nftrroy2"
      }
    },
    {
      "cell_type": "code",
      "source": [
        "Store_ID_Location_means = df.groupby(['Outlet_Identifier','Outlet_Location_Type'])['Item_Outlet_Sales'].mean().sort_values(ascending=False)\n",
        "Store_ID_Location_means "
      ],
      "metadata": {
        "id": "yhPebzNV4giF",
        "outputId": "98520fb4-9ec8-450e-8010-122f34cf7eba",
        "colab": {
          "base_uri": "https://localhost:8080/"
        }
      },
      "execution_count": null,
      "outputs": [
        {
          "output_type": "execute_result",
          "data": {
            "text/plain": [
              "Outlet_Identifier  Outlet_Location_Type\n",
              "OUT027             Tier 3                  3694.038558\n",
              "OUT035             Tier 2                  2438.841866\n",
              "OUT049             Tier 1                  2348.354635\n",
              "OUT017             Tier 2                  2340.675263\n",
              "OUT013             Tier 3                  2298.995256\n",
              "OUT046             Tier 1                  2277.844267\n",
              "OUT045             Tier 2                  2192.384798\n",
              "OUT018             Tier 3                  1995.498739\n",
              "OUT019             Tier 1                   340.329723\n",
              "OUT010             Tier 3                   339.351662\n",
              "Name: Item_Outlet_Sales, dtype: float64"
            ]
          },
          "metadata": {},
          "execution_count": 48
        }
      ]
    },
    {
      "cell_type": "code",
      "source": [
        "fig, ax = plt.subplots(figsize=(20,10))\n",
        "\n",
        "ax = sns.barplot(data=df,x='Outlet_Identifier', y = 'Item_Outlet_Sales', order = store_means.index, ci = None, hue = 'Outlet_Location_Type')\n",
        "plt.xticks(rotation = 90)\n",
        "ax.set_title('Average Sales vs. Store Type', fontsize = 20, fontweight = 'bold');\n",
        "ax.set_xlabel('Store', fontsize = 15, fontweight = 'bold')\n",
        "ax.set_ylabel('Item Outlet Sales', fontsize = 15, fontweight = 'bold');\n",
        "\n",
        "def hundred_k(x,pos):\n",
        "  \"\"\"function for use with matplotlib FuncFormatter - formats money in millions\"\"\"\n",
        "  return f'${x*1e-3:,.0f}K'\n",
        "\n",
        "price_fmt_100k = FuncFormatter(hundred_k)\n",
        "\n",
        "ax.yaxis.set_major_formatter(price_fmt_100k)"
      ],
      "metadata": {
        "colab": {
          "base_uri": "https://localhost:8080/",
          "height": 662
        },
        "id": "hdFj53D4yQmH",
        "outputId": "de618c4a-8da8-49c8-e17c-dba8ab0a3126"
      },
      "execution_count": null,
      "outputs": [
        {
          "output_type": "display_data",
          "data": {
            "text/plain": [
              "<Figure size 1440x720 with 1 Axes>"
            ],
            "image/png": "[encoded data removed]"
          },
          "metadata": {
            "needs_background": "light"
          }
        }
      ]
    },
    {
      "cell_type": "markdown",
      "source": [
        "The sotore location doesn't have a significat effect, the best store (27) and the worst one (10) are from tier 3"
      ],
      "metadata": {
        "id": "qlE3IGb9Ilg3"
      }
    },
    {
      "cell_type": "markdown",
      "source": [
        "# Project 1 - Part 5"
      ],
      "metadata": {
        "id": "4fAYGErYIvPR"
      }
    },
    {
      "cell_type": "markdown",
      "source": [
        "## Preprocesing for Machine Learning"
      ],
      "metadata": {
        "id": "jkabZzh-I1Hp"
      }
    },
    {
      "cell_type": "markdown",
      "source": [
        "### Import all libraries, Load Data & make a copy of the df"
      ],
      "metadata": {
        "id": "cmK1UwCrI6jN"
      }
    },
    {
      "cell_type": "code",
      "source": [
        "#Mount \n",
        "from google.colab import drive\n",
        "drive.mount('/content/drive')"
      ],
      "metadata": {
        "colab": {
          "base_uri": "https://localhost:8080/"
        },
        "id": "aSWeDCVDOEDL",
        "outputId": "acf8bb02-ea27-4d06-9b49-cd8321c4211f"
      },
      "execution_count": 1,
      "outputs": [
        {
          "output_type": "stream",
          "name": "stdout",
          "text": [
            "Mounted at /content/drive\n"
          ]
        }
      ]
    },
    {
      "cell_type": "code",
      "source": [
        "##### Imports #####\n",
        "# Pandas\n",
        "import pandas as pd\n",
        "# Numpy\n",
        "import numpy as np\n",
        "# Plotting libs\n",
        "import matplotlib.pyplot as plt\n",
        "import seaborn as sns\n",
        "from matplotlib.ticker import FuncFormatter\n",
        "\n",
        "# Preprocessing\n",
        "from sklearn.model_selection import train_test_split\n",
        "from sklearn.compose import make_column_selector\n",
        "from sklearn.preprocessing import StandardScaler, OneHotEncoder, OrdinalEncoder\n",
        "from sklearn.pipeline import make_pipeline\n",
        "from sklearn.compose import make_column_transformer\n",
        "from sklearn.impute import SimpleImputer\n",
        "\n",
        "# Models\n",
        "from sklearn.linear_model import LinearRegression\n",
        "from sklearn.dummy import DummyRegressor\n",
        "from sklearn.tree import DecisionTreeRegressor\n",
        "\n",
        "# Regression Metrics\n",
        "from sklearn.metrics import r2_score\n",
        "from sklearn.metrics import mean_absolute_error\n",
        "from sklearn.metrics import mean_squared_error\n",
        "\n",
        "# Set global scikit-learn configuration \n",
        "from sklearn import set_config\n",
        "# Display estimators as a diagram\n",
        "set_config(display='diagram') # 'text' or 'diagram'"
      ],
      "metadata": {
        "id": "QMbVfdI-5Fc6"
      },
      "execution_count": 45,
      "outputs": []
    },
    {
      "cell_type": "code",
      "source": [
        "#Loading data\n",
        "df = pd.read_csv(\"/content/drive/MyDrive/Colab Notebooks/Assignments/Data/sales_predictions.csv\")\n",
        "df.head()"
      ],
      "metadata": {
        "id": "3bczn7b7JADv",
        "outputId": "b4e9b952-9cfc-40f1-94cd-5a322c61ac04",
        "colab": {
          "base_uri": "https://localhost:8080/",
          "height": 357
        }
      },
      "execution_count": 17,
      "outputs": [
        {
          "output_type": "execute_result",
          "data": {
            "text/plain": [
              "  Item_Identifier  Item_Weight Item_Fat_Content  Item_Visibility  \\\n",
              "0           FDA15         9.30          Low Fat         0.016047   \n",
              "1           DRC01         5.92          Regular         0.019278   \n",
              "2           FDN15        17.50          Low Fat         0.016760   \n",
              "3           FDX07        19.20          Regular         0.000000   \n",
              "4           NCD19         8.93          Low Fat         0.000000   \n",
              "\n",
              "               Item_Type  Item_MRP Outlet_Identifier  \\\n",
              "0                  Dairy  249.8092            OUT049   \n",
              "1            Soft Drinks   48.2692            OUT018   \n",
              "2                   Meat  141.6180            OUT049   \n",
              "3  Fruits and Vegetables  182.0950            OUT010   \n",
              "4              Household   53.8614            OUT013   \n",
              "\n",
              "   Outlet_Establishment_Year Outlet_Size Outlet_Location_Type  \\\n",
              "0                       1999      Medium               Tier 1   \n",
              "1                       2009      Medium               Tier 3   \n",
              "2                       1999      Medium               Tier 1   \n",
              "3                       1998         NaN               Tier 3   \n",
              "4                       1987        High               Tier 3   \n",
              "\n",
              "         Outlet_Type  Item_Outlet_Sales  \n",
              "0  Supermarket Type1          3735.1380  \n",
              "1  Supermarket Type2           443.4228  \n",
              "2  Supermarket Type1          2097.2700  \n",
              "3      Grocery Store           732.3800  \n",
              "4  Supermarket Type1           994.7052  "
            ],
            "text/html": [
              "\n",
              "  <div id=\"df-6bf3e3d5-c9ed-4599-aafa-59c33a4d6bad\">\n",
              "    <div class=\"colab-df-container\">\n",
              "      <div>\n",
              "<style scoped>\n",
              "    .dataframe tbody tr th:only-of-type {\n",
              "        vertical-align: middle;\n",
              "    }\n",
              "\n",
              "    .dataframe tbody tr th {\n",
              "        vertical-align: top;\n",
              "    }\n",
              "\n",
              "    .dataframe thead th {\n",
              "        text-align: right;\n",
              "    }\n",
              "</style>\n",
              "<table border=\"1\" class=\"dataframe\">\n",
              "  <thead>\n",
              "    <tr style=\"text-align: right;\">\n",
              "      <th></th>\n",
              "      <th>Item_Identifier</th>\n",
              "      <th>Item_Weight</th>\n",
              "      <th>Item_Fat_Content</th>\n",
              "      <th>Item_Visibility</th>\n",
              "      <th>Item_Type</th>\n",
              "      <th>Item_MRP</th>\n",
              "      <th>Outlet_Identifier</th>\n",
              "      <th>Outlet_Establishment_Year</th>\n",
              "      <th>Outlet_Size</th>\n",
              "      <th>Outlet_Location_Type</th>\n",
              "      <th>Outlet_Type</th>\n",
              "      <th>Item_Outlet_Sales</th>\n",
              "    </tr>\n",
              "  </thead>\n",
              "  <tbody>\n",
              "    <tr>\n",
              "      <th>0</th>\n",
              "      <td>FDA15</td>\n",
              "      <td>9.30</td>\n",
              "      <td>Low Fat</td>\n",
              "      <td>0.016047</td>\n",
              "      <td>Dairy</td>\n",
              "      <td>249.8092</td>\n",
              "      <td>OUT049</td>\n",
              "      <td>1999</td>\n",
              "      <td>Medium</td>\n",
              "      <td>Tier 1</td>\n",
              "      <td>Supermarket Type1</td>\n",
              "      <td>3735.1380</td>\n",
              "    </tr>\n",
              "    <tr>\n",
              "      <th>1</th>\n",
              "      <td>DRC01</td>\n",
              "      <td>5.92</td>\n",
              "      <td>Regular</td>\n",
              "      <td>0.019278</td>\n",
              "      <td>Soft Drinks</td>\n",
              "      <td>48.2692</td>\n",
              "      <td>OUT018</td>\n",
              "      <td>2009</td>\n",
              "      <td>Medium</td>\n",
              "      <td>Tier 3</td>\n",
              "      <td>Supermarket Type2</td>\n",
              "      <td>443.4228</td>\n",
              "    </tr>\n",
              "    <tr>\n",
              "      <th>2</th>\n",
              "      <td>FDN15</td>\n",
              "      <td>17.50</td>\n",
              "      <td>Low Fat</td>\n",
              "      <td>0.016760</td>\n",
              "      <td>Meat</td>\n",
              "      <td>141.6180</td>\n",
              "      <td>OUT049</td>\n",
              "      <td>1999</td>\n",
              "      <td>Medium</td>\n",
              "      <td>Tier 1</td>\n",
              "      <td>Supermarket Type1</td>\n",
              "      <td>2097.2700</td>\n",
              "    </tr>\n",
              "    <tr>\n",
              "      <th>3</th>\n",
              "      <td>FDX07</td>\n",
              "      <td>19.20</td>\n",
              "      <td>Regular</td>\n",
              "      <td>0.000000</td>\n",
              "      <td>Fruits and Vegetables</td>\n",
              "      <td>182.0950</td>\n",
              "      <td>OUT010</td>\n",
              "      <td>1998</td>\n",
              "      <td>NaN</td>\n",
              "      <td>Tier 3</td>\n",
              "      <td>Grocery Store</td>\n",
              "      <td>732.3800</td>\n",
              "    </tr>\n",
              "    <tr>\n",
              "      <th>4</th>\n",
              "      <td>NCD19</td>\n",
              "      <td>8.93</td>\n",
              "      <td>Low Fat</td>\n",
              "      <td>0.000000</td>\n",
              "      <td>Household</td>\n",
              "      <td>53.8614</td>\n",
              "      <td>OUT013</td>\n",
              "      <td>1987</td>\n",
              "      <td>High</td>\n",
              "      <td>Tier 3</td>\n",
              "      <td>Supermarket Type1</td>\n",
              "      <td>994.7052</td>\n",
              "    </tr>\n",
              "  </tbody>\n",
              "</table>\n",
              "</div>\n",
              "      <button class=\"colab-df-convert\" onclick=\"convertToInteractive('df-6bf3e3d5-c9ed-4599-aafa-59c33a4d6bad')\"\n",
              "              title=\"Convert this dataframe to an interactive table.\"\n",
              "              style=\"display:none;\">\n",
              "        \n",
              "  <svg xmlns=\"http://www.w3.org/2000/svg\" height=\"24px\"viewBox=\"0 0 24 24\"\n",
              "       width=\"24px\">\n",
              "    <path d=\"M0 0h24v24H0V0z\" fill=\"none\"/>\n",
              "    <path d=\"M18.56 5.44l.94 2.06.94-2.06 2.06-.94-2.06-.94-.94-2.06-.94 2.06-2.06.94zm-11 1L8.5 8.5l.94-2.06 2.06-.94-2.06-.94L8.5 2.5l-.94 2.06-2.06.94zm10 10l.94 2.06.94-2.06 2.06-.94-2.06-.94-.94-2.06-.94 2.06-2.06.94z\"/><path d=\"M17.41 7.96l-1.37-1.37c-.4-.4-.92-.59-1.43-.59-.52 0-1.04.2-1.43.59L10.3 9.45l-7.72 7.72c-.78.78-.78 2.05 0 2.83L4 21.41c.39.39.9.59 1.41.59.51 0 1.02-.2 1.41-.59l7.78-7.78 2.81-2.81c.8-.78.8-2.07 0-2.86zM5.41 20L4 18.59l7.72-7.72 1.47 1.35L5.41 20z\"/>\n",
              "  </svg>\n",
              "      </button>\n",
              "      \n",
              "  <style>\n",
              "    .colab-df-container {\n",
              "      display:flex;\n",
              "      flex-wrap:wrap;\n",
              "      gap: 12px;\n",
              "    }\n",
              "\n",
              "    .colab-df-convert {\n",
              "      background-color: #E8F0FE;\n",
              "      border: none;\n",
              "      border-radius: 50%;\n",
              "      cursor: pointer;\n",
              "      display: none;\n",
              "      fill: #1967D2;\n",
              "      height: 32px;\n",
              "      padding: 0 0 0 0;\n",
              "      width: 32px;\n",
              "    }\n",
              "\n",
              "    .colab-df-convert:hover {\n",
              "      background-color: #E2EBFA;\n",
              "      box-shadow: 0px 1px 2px rgba(60, 64, 67, 0.3), 0px 1px 3px 1px rgba(60, 64, 67, 0.15);\n",
              "      fill: #174EA6;\n",
              "    }\n",
              "\n",
              "    [theme=dark] .colab-df-convert {\n",
              "      background-color: #3B4455;\n",
              "      fill: #D2E3FC;\n",
              "    }\n",
              "\n",
              "    [theme=dark] .colab-df-convert:hover {\n",
              "      background-color: #434B5C;\n",
              "      box-shadow: 0px 1px 3px 1px rgba(0, 0, 0, 0.15);\n",
              "      filter: drop-shadow(0px 1px 2px rgba(0, 0, 0, 0.3));\n",
              "      fill: #FFFFFF;\n",
              "    }\n",
              "  </style>\n",
              "\n",
              "      <script>\n",
              "        const buttonEl =\n",
              "          document.querySelector('#df-6bf3e3d5-c9ed-4599-aafa-59c33a4d6bad button.colab-df-convert');\n",
              "        buttonEl.style.display =\n",
              "          google.colab.kernel.accessAllowed ? 'block' : 'none';\n",
              "\n",
              "        async function convertToInteractive(key) {\n",
              "          const element = document.querySelector('#df-6bf3e3d5-c9ed-4599-aafa-59c33a4d6bad');\n",
              "          const dataTable =\n",
              "            await google.colab.kernel.invokeFunction('convertToInteractive',\n",
              "                                                     [key], {});\n",
              "          if (!dataTable) return;\n",
              "\n",
              "          const docLinkHtml = 'Like what you see? Visit the ' +\n",
              "            '<a target=\"_blank\" href=https://colab.research.google.com/notebooks/data_table.ipynb>data table notebook</a>'\n",
              "            + ' to learn more about interactive tables.';\n",
              "          element.innerHTML = '';\n",
              "          dataTable['output_type'] = 'display_data';\n",
              "          await google.colab.output.renderOutput(dataTable, element);\n",
              "          const docLink = document.createElement('div');\n",
              "          docLink.innerHTML = docLinkHtml;\n",
              "          element.appendChild(docLink);\n",
              "        }\n",
              "      </script>\n",
              "    </div>\n",
              "  </div>\n",
              "  "
            ]
          },
          "metadata": {},
          "execution_count": 17
        }
      ]
    },
    {
      "cell_type": "code",
      "source": [
        "# Make a copy of original df to avoid any manipulations \n",
        "eda_ml = df.copy()"
      ],
      "metadata": {
        "id": "qwC28gxJJixf"
      },
      "execution_count": 18,
      "outputs": []
    },
    {
      "cell_type": "markdown",
      "source": [
        "### Check for duplicates, missing values, errors"
      ],
      "metadata": {
        "id": "Z6ynlmwrJtE1"
      }
    },
    {
      "cell_type": "code",
      "source": [
        "# Display the total sum of missing values\n",
        "print(f\"Missing values: {eda_ml.isna().sum().sum()}\")"
      ],
      "metadata": {
        "id": "7nKACjQ7Jlqu",
        "outputId": "465c25fe-8153-403d-e411-dfe772f37bed",
        "colab": {
          "base_uri": "https://localhost:8080/"
        }
      },
      "execution_count": 19,
      "outputs": [
        {
          "output_type": "stream",
          "name": "stdout",
          "text": [
            "Missing values: 3873\n"
          ]
        }
      ]
    },
    {
      "cell_type": "code",
      "source": [
        "# Check to see if there are any duplicate rows\n",
        "print(f\"Duplicates values:{eda_ml.duplicated().sum()}\")"
      ],
      "metadata": {
        "id": "ydDwjjDPJlme",
        "outputId": "6052f28f-4110-4025-81a2-0b88edf0e0e6",
        "colab": {
          "base_uri": "https://localhost:8080/"
        }
      },
      "execution_count": 20,
      "outputs": [
        {
          "output_type": "stream",
          "name": "stdout",
          "text": [
            "Duplicates values:0\n"
          ]
        }
      ]
    },
    {
      "cell_type": "code",
      "source": [
        "# Look at the info from the data\n",
        "eda_ml.info()"
      ],
      "metadata": {
        "id": "ydrg89zVJliq",
        "outputId": "ab2d19ca-0f71-402e-a998-a3a82048f226",
        "colab": {
          "base_uri": "https://localhost:8080/"
        }
      },
      "execution_count": 21,
      "outputs": [
        {
          "output_type": "stream",
          "name": "stdout",
          "text": [
            "<class 'pandas.core.frame.DataFrame'>\n",
            "RangeIndex: 8523 entries, 0 to 8522\n",
            "Data columns (total 12 columns):\n",
            " #   Column                     Non-Null Count  Dtype  \n",
            "---  ------                     --------------  -----  \n",
            " 0   Item_Identifier            8523 non-null   object \n",
            " 1   Item_Weight                7060 non-null   float64\n",
            " 2   Item_Fat_Content           8523 non-null   object \n",
            " 3   Item_Visibility            8523 non-null   float64\n",
            " 4   Item_Type                  8523 non-null   object \n",
            " 5   Item_MRP                   8523 non-null   float64\n",
            " 6   Outlet_Identifier          8523 non-null   object \n",
            " 7   Outlet_Establishment_Year  8523 non-null   int64  \n",
            " 8   Outlet_Size                6113 non-null   object \n",
            " 9   Outlet_Location_Type       8523 non-null   object \n",
            " 10  Outlet_Type                8523 non-null   object \n",
            " 11  Item_Outlet_Sales          8523 non-null   float64\n",
            "dtypes: float64(4), int64(1), object(7)\n",
            "memory usage: 799.2+ KB\n"
          ]
        }
      ]
    },
    {
      "cell_type": "markdown",
      "source": [
        "Ckecking columns with missing values:"
      ],
      "metadata": {
        "id": "XYn4Wm9cKH3Q"
      }
    },
    {
      "cell_type": "code",
      "source": [
        "icols = list(eda_ml.isna().sum().index)\n",
        "ivalues = list(eda_ml.isna().sum())\n",
        "idict = dict(zip(icols,ivalues))\n",
        "tvalues = icols, ivalues\n",
        "\n",
        "print(\"Missing values by column\\n\")\n",
        "\n",
        "icols_with_missing_values =[]\n",
        "\n",
        "for k,v in idict.items():\n",
        "  if not v == 0:\n",
        "    print(f\"col_name[{k}]: {v}\")\n",
        "    icols_with_missing_values.append(k)"
      ],
      "metadata": {
        "id": "GVzfbWzwKKI8",
        "outputId": "e75b7c98-f860-482b-8337-c2faa952d6c0",
        "colab": {
          "base_uri": "https://localhost:8080/"
        }
      },
      "execution_count": 22,
      "outputs": [
        {
          "output_type": "stream",
          "name": "stdout",
          "text": [
            "Missing values by column\n",
            "\n",
            "col_name[Item_Weight]: 1463\n",
            "col_name[Outlet_Size]: 2410\n"
          ]
        }
      ]
    },
    {
      "cell_type": "code",
      "source": [
        "# This colaumns has missing values\n",
        "print(icols_with_missing_values)"
      ],
      "metadata": {
        "id": "K2V3bIarKKFu",
        "outputId": "f4fcd48f-a238-443d-833d-06e292bf418d",
        "colab": {
          "base_uri": "https://localhost:8080/"
        }
      },
      "execution_count": 23,
      "outputs": [
        {
          "output_type": "stream",
          "name": "stdout",
          "text": [
            "['Item_Weight', 'Outlet_Size']\n"
          ]
        }
      ]
    },
    {
      "cell_type": "markdown",
      "source": [
        "> Checking for inconsistencies on Object columns"
      ],
      "metadata": {
        "id": "si7ZHRY6SL-3"
      }
    },
    {
      "cell_type": "code",
      "source": [
        "def pp_unique_cat(df):\n",
        "  categoricals = df.select_dtypes(include='object')\n",
        "\n",
        "  # check value counts for each object column\n",
        "  for col in categoricals.columns:\n",
        "    print(f\"Column name: ****{col}****\")\n",
        "    print(categoricals[col].value_counts(), '\\n')\n",
        "\n",
        "pp_unique_cat(eda_ml)"
      ],
      "metadata": {
        "colab": {
          "base_uri": "https://localhost:8080/"
        },
        "id": "3_JMxvo4TKGQ",
        "outputId": "625161c1-230b-4bcd-b9e9-5fe80f3d49c9"
      },
      "execution_count": 24,
      "outputs": [
        {
          "output_type": "stream",
          "name": "stdout",
          "text": [
            "Column name: ****Item_Identifier****\n",
            "FDW13    10\n",
            "FDG33    10\n",
            "NCY18     9\n",
            "FDD38     9\n",
            "DRE49     9\n",
            "         ..\n",
            "FDY43     1\n",
            "FDQ60     1\n",
            "FDO33     1\n",
            "DRF48     1\n",
            "FDC23     1\n",
            "Name: Item_Identifier, Length: 1559, dtype: int64 \n",
            "\n",
            "Column name: ****Item_Fat_Content****\n",
            "Low Fat    5089\n",
            "Regular    2889\n",
            "LF          316\n",
            "reg         117\n",
            "low fat     112\n",
            "Name: Item_Fat_Content, dtype: int64 \n",
            "\n",
            "Column name: ****Item_Type****\n",
            "Fruits and Vegetables    1232\n",
            "Snack Foods              1200\n",
            "Household                 910\n",
            "Frozen Foods              856\n",
            "Dairy                     682\n",
            "Canned                    649\n",
            "Baking Goods              648\n",
            "Health and Hygiene        520\n",
            "Soft Drinks               445\n",
            "Meat                      425\n",
            "Breads                    251\n",
            "Hard Drinks               214\n",
            "Others                    169\n",
            "Starchy Foods             148\n",
            "Breakfast                 110\n",
            "Seafood                    64\n",
            "Name: Item_Type, dtype: int64 \n",
            "\n",
            "Column name: ****Outlet_Identifier****\n",
            "OUT027    935\n",
            "OUT013    932\n",
            "OUT049    930\n",
            "OUT046    930\n",
            "OUT035    930\n",
            "OUT045    929\n",
            "OUT018    928\n",
            "OUT017    926\n",
            "OUT010    555\n",
            "OUT019    528\n",
            "Name: Outlet_Identifier, dtype: int64 \n",
            "\n",
            "Column name: ****Outlet_Size****\n",
            "Medium    2793\n",
            "Small     2388\n",
            "High       932\n",
            "Name: Outlet_Size, dtype: int64 \n",
            "\n",
            "Column name: ****Outlet_Location_Type****\n",
            "Tier 3    3350\n",
            "Tier 2    2785\n",
            "Tier 1    2388\n",
            "Name: Outlet_Location_Type, dtype: int64 \n",
            "\n",
            "Column name: ****Outlet_Type****\n",
            "Supermarket Type1    5577\n",
            "Grocery Store        1083\n",
            "Supermarket Type3     935\n",
            "Supermarket Type2     928\n",
            "Name: Outlet_Type, dtype: int64 \n",
            "\n"
          ]
        }
      ]
    },
    {
      "cell_type": "markdown",
      "source": [
        "> Repalcing inconsisten values: `'low fat'`, '`LF'`, 'reg'"
      ],
      "metadata": {
        "id": "El3gxkTRT-y3"
      }
    },
    {
      "cell_type": "code",
      "source": [
        "eda_ml.replace({'low fat': 'Low Fat',\n",
        "            'LF': 'Low Fat',\n",
        "            'reg':'Regular'}, inplace = True)"
      ],
      "metadata": {
        "id": "p1qUGWVXT4bt"
      },
      "execution_count": 25,
      "outputs": []
    },
    {
      "cell_type": "markdown",
      "source": [
        ">The Item Identifier will not offer good information for the prediction; this feature is like an ID with 1559 unique values. I am dropping this column"
      ],
      "metadata": {
        "id": "Hn508c3iUAbk"
      }
    },
    {
      "cell_type": "code",
      "source": [
        "eda_ml.drop('Item_Identifier', axis=1, inplace=True)"
      ],
      "metadata": {
        "id": "5rzyXuuKUBfQ"
      },
      "execution_count": 26,
      "outputs": []
    },
    {
      "cell_type": "markdown",
      "source": [
        "### Split the Data (Validation Split)"
      ],
      "metadata": {
        "id": "HykMvOOnLDwN"
      }
    },
    {
      "cell_type": "code",
      "source": [
        "# split X and y, you are predicting price\n",
        "X = eda_ml.drop(columns=['Item_Outlet_Sales']).copy()\n",
        "y = eda_ml['Item_Outlet_Sales'].copy()\n",
        "\n",
        "# split training and test\n",
        "# set random_state to 42 for reproducibility\n",
        "# for test_size I will use the default value: 25% / 75%\n",
        "X_train, X_test, y_train, y_test = train_test_split(X, y, random_state=42)"
      ],
      "metadata": {
        "id": "1sDtRo1vOwUQ"
      },
      "execution_count": 27,
      "outputs": []
    },
    {
      "cell_type": "code",
      "source": [
        "# select only object columns\n",
        "categoricals = X_train.select_dtypes(include='object')\n",
        "\n",
        "# check value counts for each object column\n",
        "for col in categoricals.columns:\n",
        "  print(f\"Column name: ****{col}****\")\n",
        "  print(categoricals[col].value_counts(), '\\n')"
      ],
      "metadata": {
        "colab": {
          "base_uri": "https://localhost:8080/"
        },
        "id": "9yE-gjHoQaU8",
        "outputId": "650d34ab-a9b4-43cc-e3f7-fc7bde13567e"
      },
      "execution_count": 28,
      "outputs": [
        {
          "output_type": "stream",
          "name": "stdout",
          "text": [
            "Column name: ****Item_Fat_Content****\n",
            "Low Fat    4129\n",
            "Regular    2263\n",
            "Name: Item_Fat_Content, dtype: int64 \n",
            "\n",
            "Column name: ****Item_Type****\n",
            "Fruits and Vegetables    948\n",
            "Snack Foods              906\n",
            "Household                695\n",
            "Frozen Foods             632\n",
            "Dairy                    507\n",
            "Canned                   481\n",
            "Baking Goods             478\n",
            "Health and Hygiene       390\n",
            "Soft Drinks              331\n",
            "Meat                     302\n",
            "Breads                   175\n",
            "Hard Drinks              169\n",
            "Others                   130\n",
            "Starchy Foods            122\n",
            "Breakfast                 84\n",
            "Seafood                   42\n",
            "Name: Item_Type, dtype: int64 \n",
            "\n",
            "Column name: ****Outlet_Identifier****\n",
            "OUT027    723\n",
            "OUT035    709\n",
            "OUT018    704\n",
            "OUT045    699\n",
            "OUT017    698\n",
            "OUT046    695\n",
            "OUT013    689\n",
            "OUT049    676\n",
            "OUT010    415\n",
            "OUT019    384\n",
            "Name: Outlet_Identifier, dtype: int64 \n",
            "\n",
            "Column name: ****Outlet_Size****\n",
            "Medium    2103\n",
            "Small     1788\n",
            "High       689\n",
            "Name: Outlet_Size, dtype: int64 \n",
            "\n",
            "Column name: ****Outlet_Location_Type****\n",
            "Tier 3    2531\n",
            "Tier 2    2106\n",
            "Tier 1    1755\n",
            "Name: Outlet_Location_Type, dtype: int64 \n",
            "\n",
            "Column name: ****Outlet_Type****\n",
            "Supermarket Type1    4166\n",
            "Grocery Store         799\n",
            "Supermarket Type3     723\n",
            "Supermarket Type2     704\n",
            "Name: Outlet_Type, dtype: int64 \n",
            "\n"
          ]
        }
      ]
    },
    {
      "cell_type": "markdown",
      "source": [
        "### Identify each feature as numerical, ordinal, or nominal."
      ],
      "metadata": {
        "id": "wN5uI3U9Vnwf"
      }
    },
    {
      "cell_type": "markdown",
      "source": [
        "- Numerical: `'Item_Weight', 'Item_Visibility', 'Item_MRP', 'Outlet_Establishment_Year'`\n",
        "\n",
        "- Categoricals:\n",
        "  - Nominals: `'Outlet_Identifier', 'Item_Fat_Content', 'Item_Type', 'Outlet_Type', 'Outlet_Location_Type'`\n",
        "  - Ordinals: `'Outlet_Size'`\n"
      ],
      "metadata": {
        "id": "3lGeDXReVt8F"
      }
    },
    {
      "cell_type": "markdown",
      "source": [
        "### Instantiate Transformers"
      ],
      "metadata": {
        "id": "g9Q5NM9BUvI0"
      }
    },
    {
      "cell_type": "markdown",
      "source": [
        "> We have missing values on the following columns: 'Item_Weight', 'Outlet_Size'<br>\n",
        "For Item_Weight (Numeric) --> Mean Imputer (distribution is not skewed)"
      ],
      "metadata": {
        "id": "vFkl_ELqU3-1"
      }
    },
    {
      "cell_type": "markdown",
      "source": [
        "![image.png](data:image/png;base64,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)"
      ],
      "metadata": {
        "id": "gTGPK7k_Vyuj"
      }
    },
    {
      "cell_type": "markdown",
      "source": [
        "> For Outlet_Size (Categorical Ordinal) "
      ],
      "metadata": {
        "id": "RSk2wZF_WbJ6"
      }
    },
    {
      "cell_type": "code",
      "source": [
        "#instantiate the StandardScaler, OneHotEncoder, OrdinalEncoder and Imputers\n",
        "scaler = StandardScaler()\n",
        "ohe = OneHotEncoder(sparse=False, handle_unknown='ignore')\n",
        "\n",
        "mean_imputer = SimpleImputer(strategy='mean')\n",
        "freq_imputer = SimpleImputer(strategy='most_frequent')\n",
        "\n",
        "#this is showing for learning purpose but we are not using it here. \n",
        "missing_imputer = SimpleImputer(strategy='constant', fill_value='missing')"
      ],
      "metadata": {
        "id": "hHV5V76QZIwI"
      },
      "execution_count": 29,
      "outputs": []
    },
    {
      "cell_type": "code",
      "source": [
        "#create a list of ordinal labels, in order of least to most\n",
        "\n",
        "oulet_size_labels = ['Small','Medium','High']\n",
        "\n",
        "#combine the ordered list in the order that the columns appear\n",
        "ordered_labels = [oulet_size_labels]\n",
        "\n",
        "#handle_unknown is 'error' by default.  That's a good place to start\n",
        "#but it may cause problems in a production model.  \n",
        "ordinal = OrdinalEncoder(categories = ordered_labels)"
      ],
      "metadata": {
        "id": "4y_JdD-jX9tv"
      },
      "execution_count": 30,
      "outputs": []
    },
    {
      "cell_type": "markdown",
      "source": [
        "### Create a Pipeline Numeric Data and a Pipeline for Categorical Data"
      ],
      "metadata": {
        "id": "85s1aArVZqt_"
      }
    },
    {
      "cell_type": "code",
      "source": [
        "## Need an inputer for the Item_Weight\n",
        "num_pipeline = make_pipeline(mean_imputer, scaler)\n",
        "## Need an inputer for the Outlet_Size feature\n",
        "ord_pipeline = make_pipeline(freq_imputer, ordinal)\n",
        "## No need for an inputer are we don't have missing nominal values\n",
        "nom_pipeline = make_pipeline(ohe)"
      ],
      "metadata": {
        "id": "vdhc5BoEZwKY"
      },
      "execution_count": 31,
      "outputs": []
    },
    {
      "cell_type": "markdown",
      "source": [
        "### Create Tuples to Pair Pipelines with Columns"
      ],
      "metadata": {
        "id": "RTdB0OVxav8e"
      }
    },
    {
      "cell_type": "code",
      "source": [
        "# Create column lists for objects and a number selector\n",
        "ordinal_cols = ['Outlet_Size']\n",
        "nominal_cols = ['Outlet_Identifier', 'Item_Fat_Content', 'Item_Type', 'Outlet_Type', 'Outlet_Location_Type']\n",
        "\n",
        "\n",
        "num_selector = make_column_selector(dtype_include='number')\n",
        "num_selector(X_train)\n",
        "# Setup the tuples to pair the processors with the make column selectors\n",
        "numeric_tuple = (num_pipeline, num_selector(X_train))\n",
        "ordinal_tuple = (ord_pipeline, ordinal_cols)\n",
        "nominal_tuple = (nom_pipeline, nominal_cols)"
      ],
      "metadata": {
        "id": "Ed2zQZ_lazi4"
      },
      "execution_count": 32,
      "outputs": []
    },
    {
      "cell_type": "code",
      "source": [
        "numeric_tuple"
      ],
      "metadata": {
        "id": "kFUdrjgwjnDI",
        "outputId": "a20a8876-3544-4db8-b281-91fb89780bb4",
        "colab": {
          "base_uri": "https://localhost:8080/"
        }
      },
      "execution_count": 33,
      "outputs": [
        {
          "output_type": "execute_result",
          "data": {
            "text/plain": [
              "(Pipeline(steps=[('simpleimputer', SimpleImputer()),\n",
              "                 ('standardscaler', StandardScaler())]),\n",
              " ['Item_Weight', 'Item_Visibility', 'Item_MRP', 'Outlet_Establishment_Year'])"
            ]
          },
          "metadata": {},
          "execution_count": 33
        }
      ]
    },
    {
      "cell_type": "code",
      "source": [
        "ordinal_tuple"
      ],
      "metadata": {
        "id": "uED_By_frDrq",
        "outputId": "a4652ea2-ccfb-43dc-e2cd-2be9641813a5",
        "colab": {
          "base_uri": "https://localhost:8080/"
        }
      },
      "execution_count": 34,
      "outputs": [
        {
          "output_type": "execute_result",
          "data": {
            "text/plain": [
              "(Pipeline(steps=[('simpleimputer', SimpleImputer(strategy='most_frequent')),\n",
              "                 ('ordinalencoder',\n",
              "                  OrdinalEncoder(categories=[['Small', 'Medium', 'High']]))]),\n",
              " ['Outlet_Size'])"
            ]
          },
          "metadata": {},
          "execution_count": 34
        }
      ]
    },
    {
      "cell_type": "code",
      "source": [
        "nominal_tuple"
      ],
      "metadata": {
        "id": "uNnE5EACrH-x",
        "outputId": "028d56a5-f740-47ee-fdfa-03e0f6f0f2e4",
        "colab": {
          "base_uri": "https://localhost:8080/"
        }
      },
      "execution_count": 35,
      "outputs": [
        {
          "output_type": "execute_result",
          "data": {
            "text/plain": [
              "(Pipeline(steps=[('onehotencoder',\n",
              "                  OneHotEncoder(handle_unknown='ignore', sparse=False))]),\n",
              " ['Outlet_Identifier',\n",
              "  'Item_Fat_Content',\n",
              "  'Item_Type',\n",
              "  'Outlet_Type',\n",
              "  'Outlet_Location_Type'])"
            ]
          },
          "metadata": {},
          "execution_count": 35
        }
      ]
    },
    {
      "cell_type": "markdown",
      "source": [
        "### Create Column Transformer to Apply Different Preprocessing to Different Columns"
      ],
      "metadata": {
        "id": "4XZVYUTVbiEH"
      }
    },
    {
      "cell_type": "code",
      "source": [
        "# Instantiate the make column transformer\n",
        "preprocessor = make_column_transformer(ordinal_tuple, \n",
        "                                          numeric_tuple, \n",
        "                                          nominal_tuple, \n",
        "                                          remainder='drop')"
      ],
      "metadata": {
        "id": "ai3XWidCblSN"
      },
      "execution_count": 36,
      "outputs": []
    },
    {
      "cell_type": "code",
      "source": [
        "ordinal_tuple"
      ],
      "metadata": {
        "id": "y6nWyadSpdCB",
        "outputId": "1b3dab0e-aebc-40eb-bce1-94e39cb0792d",
        "colab": {
          "base_uri": "https://localhost:8080/"
        }
      },
      "execution_count": 37,
      "outputs": [
        {
          "output_type": "execute_result",
          "data": {
            "text/plain": [
              "(Pipeline(steps=[('simpleimputer', SimpleImputer(strategy='most_frequent')),\n",
              "                 ('ordinalencoder',\n",
              "                  OrdinalEncoder(categories=[['Small', 'Medium', 'High']]))]),\n",
              " ['Outlet_Size'])"
            ]
          },
          "metadata": {},
          "execution_count": 37
        }
      ]
    },
    {
      "cell_type": "code",
      "source": [
        "# Fit the column transformer on the X_train\n",
        "preprocessor.fit(X_train)"
      ],
      "metadata": {
        "id": "BPJ0j4bhik3O",
        "outputId": "ca133017-0fc7-4732-b7cf-62eb5dc72956",
        "colab": {
          "base_uri": "https://localhost:8080/",
          "height": 152
        }
      },
      "execution_count": 38,
      "outputs": [
        {
          "output_type": "execute_result",
          "data": {
            "text/plain": [
              "ColumnTransformer(transformers=[('pipeline-1',\n",
              "                                 Pipeline(steps=[('simpleimputer',\n",
              "                                                  SimpleImputer(strategy='most_frequent')),\n",
              "                                                 ('ordinalencoder',\n",
              "                                                  OrdinalEncoder(categories=[['Small',\n",
              "                                                                              'Medium',\n",
              "                                                                              'High']]))]),\n",
              "                                 ['Outlet_Size']),\n",
              "                                ('pipeline-2',\n",
              "                                 Pipeline(steps=[('simpleimputer',\n",
              "                                                  SimpleImputer()),\n",
              "                                                 ('standardscaler',\n",
              "                                                  StandardScaler())]),\n",
              "                                 ['Item_Weight', 'Item_Visibility', 'Item_MRP',\n",
              "                                  'Outlet_Establishment_Year']),\n",
              "                                ('pipeline-3',\n",
              "                                 Pipeline(steps=[('onehotencoder',\n",
              "                                                  OneHotEncoder(handle_unknown='ignore',\n",
              "                                                                sparse=False))]),\n",
              "                                 ['Outlet_Identifier', 'Item_Fat_Content',\n",
              "                                  'Item_Type', 'Outlet_Type',\n",
              "                                  'Outlet_Location_Type'])])"
            ],
            "text/html": [
              "<style>#sk-7a37decb-aca7-4b55-b281-358a680d7e64 {color: black;background-color: white;}#sk-7a37decb-aca7-4b55-b281-358a680d7e64 pre{padding: 0;}#sk-7a37decb-aca7-4b55-b281-358a680d7e64 div.sk-toggleable {background-color: white;}#sk-7a37decb-aca7-4b55-b281-358a680d7e64 label.sk-toggleable__label {cursor: pointer;display: block;width: 100%;margin-bottom: 0;padding: 0.3em;box-sizing: border-box;text-align: center;}#sk-7a37decb-aca7-4b55-b281-358a680d7e64 label.sk-toggleable__label-arrow:before {content: \"▸\";float: left;margin-right: 0.25em;color: #696969;}#sk-7a37decb-aca7-4b55-b281-358a680d7e64 label.sk-toggleable__label-arrow:hover:before {color: black;}#sk-7a37decb-aca7-4b55-b281-358a680d7e64 div.sk-estimator:hover label.sk-toggleable__label-arrow:before {color: black;}#sk-7a37decb-aca7-4b55-b281-358a680d7e64 div.sk-toggleable__content {max-height: 0;max-width: 0;overflow: hidden;text-align: left;background-color: #f0f8ff;}#sk-7a37decb-aca7-4b55-b281-358a680d7e64 div.sk-toggleable__content pre {margin: 0.2em;color: black;border-radius: 0.25em;background-color: #f0f8ff;}#sk-7a37decb-aca7-4b55-b281-358a680d7e64 input.sk-toggleable__control:checked~div.sk-toggleable__content {max-height: 200px;max-width: 100%;overflow: auto;}#sk-7a37decb-aca7-4b55-b281-358a680d7e64 input.sk-toggleable__control:checked~label.sk-toggleable__label-arrow:before {content: \"▾\";}#sk-7a37decb-aca7-4b55-b281-358a680d7e64 div.sk-estimator input.sk-toggleable__control:checked~label.sk-toggleable__label {background-color: #d4ebff;}#sk-7a37decb-aca7-4b55-b281-358a680d7e64 div.sk-label input.sk-toggleable__control:checked~label.sk-toggleable__label {background-color: #d4ebff;}#sk-7a37decb-aca7-4b55-b281-358a680d7e64 input.sk-hidden--visually {border: 0;clip: rect(1px 1px 1px 1px);clip: rect(1px, 1px, 1px, 1px);height: 1px;margin: -1px;overflow: hidden;padding: 0;position: absolute;width: 1px;}#sk-7a37decb-aca7-4b55-b281-358a680d7e64 div.sk-estimator {font-family: monospace;background-color: #f0f8ff;border: 1px dotted black;border-radius: 0.25em;box-sizing: border-box;margin-bottom: 0.5em;}#sk-7a37decb-aca7-4b55-b281-358a680d7e64 div.sk-estimator:hover {background-color: #d4ebff;}#sk-7a37decb-aca7-4b55-b281-358a680d7e64 div.sk-parallel-item::after {content: \"\";width: 100%;border-bottom: 1px solid gray;flex-grow: 1;}#sk-7a37decb-aca7-4b55-b281-358a680d7e64 div.sk-label:hover label.sk-toggleable__label {background-color: #d4ebff;}#sk-7a37decb-aca7-4b55-b281-358a680d7e64 div.sk-serial::before {content: \"\";position: absolute;border-left: 1px solid gray;box-sizing: border-box;top: 2em;bottom: 0;left: 50%;}#sk-7a37decb-aca7-4b55-b281-358a680d7e64 div.sk-serial {display: flex;flex-direction: column;align-items: center;background-color: white;padding-right: 0.2em;padding-left: 0.2em;}#sk-7a37decb-aca7-4b55-b281-358a680d7e64 div.sk-item {z-index: 1;}#sk-7a37decb-aca7-4b55-b281-358a680d7e64 div.sk-parallel {display: flex;align-items: stretch;justify-content: center;background-color: white;}#sk-7a37decb-aca7-4b55-b281-358a680d7e64 div.sk-parallel::before {content: \"\";position: absolute;border-left: 1px solid gray;box-sizing: border-box;top: 2em;bottom: 0;left: 50%;}#sk-7a37decb-aca7-4b55-b281-358a680d7e64 div.sk-parallel-item {display: flex;flex-direction: column;position: relative;background-color: white;}#sk-7a37decb-aca7-4b55-b281-358a680d7e64 div.sk-parallel-item:first-child::after {align-self: flex-end;width: 50%;}#sk-7a37decb-aca7-4b55-b281-358a680d7e64 div.sk-parallel-item:last-child::after {align-self: flex-start;width: 50%;}#sk-7a37decb-aca7-4b55-b281-358a680d7e64 div.sk-parallel-item:only-child::after {width: 0;}#sk-7a37decb-aca7-4b55-b281-358a680d7e64 div.sk-dashed-wrapped {border: 1px dashed gray;margin: 0 0.4em 0.5em 0.4em;box-sizing: border-box;padding-bottom: 0.4em;background-color: white;position: relative;}#sk-7a37decb-aca7-4b55-b281-358a680d7e64 div.sk-label label {font-family: monospace;font-weight: bold;background-color: white;display: inline-block;line-height: 1.2em;}#sk-7a37decb-aca7-4b55-b281-358a680d7e64 div.sk-label-container {position: relative;z-index: 2;text-align: center;}#sk-7a37decb-aca7-4b55-b281-358a680d7e64 div.sk-container {/* jupyter's `normalize.less` sets `[hidden] { display: none; }` but bootstrap.min.css set `[hidden] { display: none !important; }` so we also need the `!important` here to be able to override the default hidden behavior on the sphinx rendered scikit-learn.org. See: https://github.com/scikit-learn/scikit-learn/issues/21755 */display: inline-block !important;position: relative;}#sk-7a37decb-aca7-4b55-b281-358a680d7e64 div.sk-text-repr-fallback {display: none;}</style><div id=\"sk-7a37decb-aca7-4b55-b281-358a680d7e64\" class=\"sk-top-container\"><div class=\"sk-text-repr-fallback\"><pre>ColumnTransformer(transformers=[(&#x27;pipeline-1&#x27;,\n",
              "                                 Pipeline(steps=[(&#x27;simpleimputer&#x27;,\n",
              "                                                  SimpleImputer(strategy=&#x27;most_frequent&#x27;)),\n",
              "                                                 (&#x27;ordinalencoder&#x27;,\n",
              "                                                  OrdinalEncoder(categories=[[&#x27;Small&#x27;,\n",
              "                                                                              &#x27;Medium&#x27;,\n",
              "                                                                              &#x27;High&#x27;]]))]),\n",
              "                                 [&#x27;Outlet_Size&#x27;]),\n",
              "                                (&#x27;pipeline-2&#x27;,\n",
              "                                 Pipeline(steps=[(&#x27;simpleimputer&#x27;,\n",
              "                                                  SimpleImputer()),\n",
              "                                                 (&#x27;standardscaler&#x27;,\n",
              "                                                  StandardScaler())]),\n",
              "                                 [&#x27;Item_Weight&#x27;, &#x27;Item_Visibility&#x27;, &#x27;Item_MRP&#x27;,\n",
              "                                  &#x27;Outlet_Establishment_Year&#x27;]),\n",
              "                                (&#x27;pipeline-3&#x27;,\n",
              "                                 Pipeline(steps=[(&#x27;onehotencoder&#x27;,\n",
              "                                                  OneHotEncoder(handle_unknown=&#x27;ignore&#x27;,\n",
              "                                                                sparse=False))]),\n",
              "                                 [&#x27;Outlet_Identifier&#x27;, &#x27;Item_Fat_Content&#x27;,\n",
              "                                  &#x27;Item_Type&#x27;, &#x27;Outlet_Type&#x27;,\n",
              "                                  &#x27;Outlet_Location_Type&#x27;])])</pre><b>Please rerun this cell to show the HTML repr or trust the notebook.</b></div><div class=\"sk-container\" hidden><div class=\"sk-item sk-dashed-wrapped\"><div class=\"sk-label-container\"><div class=\"sk-label sk-toggleable\"><input class=\"sk-toggleable__control sk-hidden--visually\" id=\"f0a25e0d-91a3-44bc-9548-75d7b9d1a390\" type=\"checkbox\" ><label for=\"f0a25e0d-91a3-44bc-9548-75d7b9d1a390\" class=\"sk-toggleable__label sk-toggleable__label-arrow\">ColumnTransformer</label><div class=\"sk-toggleable__content\"><pre>ColumnTransformer(transformers=[(&#x27;pipeline-1&#x27;,\n",
              "                                 Pipeline(steps=[(&#x27;simpleimputer&#x27;,\n",
              "                                                  SimpleImputer(strategy=&#x27;most_frequent&#x27;)),\n",
              "                                                 (&#x27;ordinalencoder&#x27;,\n",
              "                                                  OrdinalEncoder(categories=[[&#x27;Small&#x27;,\n",
              "                                                                              &#x27;Medium&#x27;,\n",
              "                                                                              &#x27;High&#x27;]]))]),\n",
              "                                 [&#x27;Outlet_Size&#x27;]),\n",
              "                                (&#x27;pipeline-2&#x27;,\n",
              "                                 Pipeline(steps=[(&#x27;simpleimputer&#x27;,\n",
              "                                                  SimpleImputer()),\n",
              "                                                 (&#x27;standardscaler&#x27;,\n",
              "                                                  StandardScaler())]),\n",
              "                                 [&#x27;Item_Weight&#x27;, &#x27;Item_Visibility&#x27;, &#x27;Item_MRP&#x27;,\n",
              "                                  &#x27;Outlet_Establishment_Year&#x27;]),\n",
              "                                (&#x27;pipeline-3&#x27;,\n",
              "                                 Pipeline(steps=[(&#x27;onehotencoder&#x27;,\n",
              "                                                  OneHotEncoder(handle_unknown=&#x27;ignore&#x27;,\n",
              "                                                                sparse=False))]),\n",
              "                                 [&#x27;Outlet_Identifier&#x27;, &#x27;Item_Fat_Content&#x27;,\n",
              "                                  &#x27;Item_Type&#x27;, &#x27;Outlet_Type&#x27;,\n",
              "                                  &#x27;Outlet_Location_Type&#x27;])])</pre></div></div></div><div class=\"sk-parallel\"><div class=\"sk-parallel-item\"><div class=\"sk-item\"><div class=\"sk-label-container\"><div class=\"sk-label sk-toggleable\"><input class=\"sk-toggleable__control sk-hidden--visually\" id=\"68a3d8e8-09e7-4f73-a70a-ae6bd73845cc\" type=\"checkbox\" ><label for=\"68a3d8e8-09e7-4f73-a70a-ae6bd73845cc\" class=\"sk-toggleable__label sk-toggleable__label-arrow\">pipeline-1</label><div class=\"sk-toggleable__content\"><pre>[&#x27;Outlet_Size&#x27;]</pre></div></div></div><div class=\"sk-serial\"><div class=\"sk-item\"><div class=\"sk-serial\"><div class=\"sk-item\"><div class=\"sk-estimator sk-toggleable\"><input class=\"sk-toggleable__control sk-hidden--visually\" id=\"3f45f484-4973-4d1a-890c-9099089896b7\" type=\"checkbox\" ><label for=\"3f45f484-4973-4d1a-890c-9099089896b7\" class=\"sk-toggleable__label sk-toggleable__label-arrow\">SimpleImputer</label><div class=\"sk-toggleable__content\"><pre>SimpleImputer(strategy=&#x27;most_frequent&#x27;)</pre></div></div></div><div class=\"sk-item\"><div class=\"sk-estimator sk-toggleable\"><input class=\"sk-toggleable__control sk-hidden--visually\" id=\"ed05e135-69fe-4ef8-b9d6-8a465c93e288\" type=\"checkbox\" ><label for=\"ed05e135-69fe-4ef8-b9d6-8a465c93e288\" class=\"sk-toggleable__label sk-toggleable__label-arrow\">OrdinalEncoder</label><div class=\"sk-toggleable__content\"><pre>OrdinalEncoder(categories=[[&#x27;Small&#x27;, &#x27;Medium&#x27;, &#x27;High&#x27;]])</pre></div></div></div></div></div></div></div></div><div class=\"sk-parallel-item\"><div class=\"sk-item\"><div class=\"sk-label-container\"><div class=\"sk-label sk-toggleable\"><input class=\"sk-toggleable__control sk-hidden--visually\" id=\"ef502ebb-a32a-4ede-9c72-74f46db7d28c\" type=\"checkbox\" ><label for=\"ef502ebb-a32a-4ede-9c72-74f46db7d28c\" class=\"sk-toggleable__label sk-toggleable__label-arrow\">pipeline-2</label><div class=\"sk-toggleable__content\"><pre>[&#x27;Item_Weight&#x27;, &#x27;Item_Visibility&#x27;, &#x27;Item_MRP&#x27;, &#x27;Outlet_Establishment_Year&#x27;]</pre></div></div></div><div class=\"sk-serial\"><div class=\"sk-item\"><div class=\"sk-serial\"><div class=\"sk-item\"><div class=\"sk-estimator sk-toggleable\"><input class=\"sk-toggleable__control sk-hidden--visually\" id=\"137daaaf-fa69-46ef-b5af-deb9886cc475\" type=\"checkbox\" ><label for=\"137daaaf-fa69-46ef-b5af-deb9886cc475\" class=\"sk-toggleable__label sk-toggleable__label-arrow\">SimpleImputer</label><div class=\"sk-toggleable__content\"><pre>SimpleImputer()</pre></div></div></div><div class=\"sk-item\"><div class=\"sk-estimator sk-toggleable\"><input class=\"sk-toggleable__control sk-hidden--visually\" id=\"3dd77830-59a0-416a-8a09-6dd64b02b6a9\" type=\"checkbox\" ><label for=\"3dd77830-59a0-416a-8a09-6dd64b02b6a9\" class=\"sk-toggleable__label sk-toggleable__label-arrow\">StandardScaler</label><div class=\"sk-toggleable__content\"><pre>StandardScaler()</pre></div></div></div></div></div></div></div></div><div class=\"sk-parallel-item\"><div class=\"sk-item\"><div class=\"sk-label-container\"><div class=\"sk-label sk-toggleable\"><input class=\"sk-toggleable__control sk-hidden--visually\" id=\"b006894a-5958-4590-afc1-5bbae99b6f08\" type=\"checkbox\" ><label for=\"b006894a-5958-4590-afc1-5bbae99b6f08\" class=\"sk-toggleable__label sk-toggleable__label-arrow\">pipeline-3</label><div class=\"sk-toggleable__content\"><pre>[&#x27;Outlet_Identifier&#x27;, &#x27;Item_Fat_Content&#x27;, &#x27;Item_Type&#x27;, &#x27;Outlet_Type&#x27;, &#x27;Outlet_Location_Type&#x27;]</pre></div></div></div><div class=\"sk-serial\"><div class=\"sk-item\"><div class=\"sk-serial\"><div class=\"sk-item\"><div class=\"sk-estimator sk-toggleable\"><input class=\"sk-toggleable__control sk-hidden--visually\" id=\"9f54d5bf-6f6e-43b7-83d2-23bd1958a8b0\" type=\"checkbox\" ><label for=\"9f54d5bf-6f6e-43b7-83d2-23bd1958a8b0\" class=\"sk-toggleable__label sk-toggleable__label-arrow\">OneHotEncoder</label><div class=\"sk-toggleable__content\"><pre>OneHotEncoder(handle_unknown=&#x27;ignore&#x27;, sparse=False)</pre></div></div></div></div></div></div></div></div></div></div></div></div>"
            ]
          },
          "metadata": {},
          "execution_count": 38
        }
      ]
    },
    {
      "cell_type": "markdown",
      "source": [
        "### Transform Both Training and Testing Data"
      ],
      "metadata": {
        "id": "rhlq3cVOcNEO"
      }
    },
    {
      "cell_type": "code",
      "source": [
        "# Transform the X_train and the X_test\n",
        "X_train_transformed = preprocessor.transform(X_train)\n",
        "X_test_transformed = preprocessor.transform(X_test)"
      ],
      "metadata": {
        "id": "s355aEdccEbk"
      },
      "execution_count": 39,
      "outputs": []
    },
    {
      "cell_type": "code",
      "source": [
        "X_train_transformed.shape"
      ],
      "metadata": {
        "id": "fYYurPwtcSvW",
        "outputId": "76cb8326-2b25-4470-a4ef-a11d4cd7980e",
        "colab": {
          "base_uri": "https://localhost:8080/"
        }
      },
      "execution_count": 40,
      "outputs": [
        {
          "output_type": "execute_result",
          "data": {
            "text/plain": [
              "(6392, 40)"
            ]
          },
          "metadata": {},
          "execution_count": 40
        }
      ]
    },
    {
      "cell_type": "markdown",
      "source": [
        "### Check the Result"
      ],
      "metadata": {
        "id": "UXqbPfBnsUlm"
      }
    },
    {
      "cell_type": "code",
      "source": [
        "X_train_transformed[:5]"
      ],
      "metadata": {
        "id": "SvG10gHbsQmF",
        "outputId": "c9c3d6a2-992c-49aa-f1a7-a0e1cc9ca2be",
        "colab": {
          "base_uri": "https://localhost:8080/"
        }
      },
      "execution_count": 41,
      "outputs": [
        {
          "output_type": "execute_result",
          "data": {
            "text/plain": [
              "array([[ 1.        ,  0.81724868, -0.71277507,  1.82810922,  1.32784893,\n",
              "         0.        ,  0.        ,  0.        ,  1.        ,  0.        ,\n",
              "         0.        ,  0.        ,  0.        ,  0.        ,  0.        ,\n",
              "         1.        ,  0.        ,  0.        ,  0.        ,  0.        ,\n",
              "         0.        ,  0.        ,  0.        ,  0.        ,  0.        ,\n",
              "         0.        ,  1.        ,  0.        ,  0.        ,  0.        ,\n",
              "         0.        ,  0.        ,  0.        ,  0.        ,  0.        ,\n",
              "         1.        ,  0.        ,  0.        ,  0.        ,  1.        ],\n",
              "       [ 1.        ,  0.5563395 , -1.29105225,  0.60336888,  1.32784893,\n",
              "         0.        ,  0.        ,  0.        ,  1.        ,  0.        ,\n",
              "         0.        ,  0.        ,  0.        ,  0.        ,  0.        ,\n",
              "         0.        ,  1.        ,  0.        ,  0.        ,  0.        ,\n",
              "         0.        ,  0.        ,  0.        ,  0.        ,  0.        ,\n",
              "         0.        ,  0.        ,  0.        ,  0.        ,  0.        ,\n",
              "         1.        ,  0.        ,  0.        ,  0.        ,  0.        ,\n",
              "         1.        ,  0.        ,  0.        ,  0.        ,  1.        ],\n",
              "       [ 1.        , -0.13151196,  1.81331864,  0.24454056,  0.13618724,\n",
              "         0.        ,  0.        ,  0.        ,  0.        ,  0.        ,\n",
              "         0.        ,  0.        ,  0.        ,  0.        ,  1.        ,\n",
              "         0.        ,  1.        ,  0.        ,  0.        ,  0.        ,\n",
              "         0.        ,  0.        ,  0.        ,  0.        ,  0.        ,\n",
              "         0.        ,  0.        ,  1.        ,  0.        ,  0.        ,\n",
              "         0.        ,  0.        ,  0.        ,  0.        ,  1.        ,\n",
              "         0.        ,  0.        ,  1.        ,  0.        ,  0.        ],\n",
              "       [ 0.        , -1.1692189 , -1.00493112, -0.95259072,  0.73201809,\n",
              "         0.        ,  0.        ,  0.        ,  0.        ,  0.        ,\n",
              "         0.        ,  1.        ,  0.        ,  0.        ,  0.        ,\n",
              "         1.        ,  0.        ,  1.        ,  0.        ,  0.        ,\n",
              "         0.        ,  0.        ,  0.        ,  0.        ,  0.        ,\n",
              "         0.        ,  0.        ,  0.        ,  0.        ,  0.        ,\n",
              "         0.        ,  0.        ,  0.        ,  0.        ,  1.        ,\n",
              "         0.        ,  0.        ,  0.        ,  1.        ,  0.        ],\n",
              "       [ 1.        ,  1.52881915, -0.96548425, -0.33646004,  0.49368575,\n",
              "         0.        ,  0.        ,  0.        ,  0.        ,  0.        ,\n",
              "         0.        ,  0.        ,  1.        ,  0.        ,  0.        ,\n",
              "         1.        ,  0.        ,  0.        ,  0.        ,  0.        ,\n",
              "         0.        ,  0.        ,  1.        ,  0.        ,  0.        ,\n",
              "         0.        ,  0.        ,  0.        ,  0.        ,  0.        ,\n",
              "         0.        ,  0.        ,  0.        ,  0.        ,  1.        ,\n",
              "         0.        ,  0.        ,  0.        ,  1.        ,  0.        ]])"
            ]
          },
          "metadata": {},
          "execution_count": 41
        }
      ]
    },
    {
      "cell_type": "markdown",
      "source": [
        "# Project 1 - Part 6"
      ],
      "metadata": {
        "id": "rTbiVrUWZHci"
      }
    },
    {
      "cell_type": "markdown",
      "source": [
        "## Maching Learning - Training the Models"
      ],
      "metadata": {
        "id": "CnnztKbPZQxi"
      }
    },
    {
      "cell_type": "markdown",
      "source": [
        "### Make and fit a Linear Regression Model"
      ],
      "metadata": {
        "id": "skc3-PW_Z15U"
      }
    },
    {
      "cell_type": "code",
      "source": [
        "# Create a function to take the true and predicted values\n",
        "# and print MAE, MSE, RMSE, and R2 metrics\n",
        "def evaluation_model(pipe, model_name='', \n",
        "                     x_train='X_train', x_test='X_test'):\n",
        "  # Train\n",
        "  mae = round(mean_absolute_error(y_train, pipe.predict(x_train)),4)\n",
        "  mse = round(mean_squared_error(y_train, pipe.predict(x_train)),4)\n",
        "  rmse = round(np.sqrt(mean_squared_error(y_train, pipe.predict(x_train))),4)\n",
        "  r2 = round(r2_score(y_train, pipe.predict(x_train)),7)\n",
        "  print(f'{model_name} Train Scores')\n",
        "  print(f'MAE: {mae:,.4f} \\nMSE: {mse:,.4f} \\nRMSE: {rmse:,.4f} \\nR2: {r2:.4f}\\n')\n",
        "\n",
        "  # Test\n",
        "  mae = round(mean_absolute_error(y_test, pipe.predict(x_test)),4)\n",
        "  mse = round(mean_squared_error(y_test, pipe.predict(x_test)),4)\n",
        "  rmse = round(np.sqrt(mean_squared_error(y_test, pipe.predict(x_test))),4)\n",
        "  r2 = round(r2_score(y_test, pipe.predict(x_test)),7)\n",
        "\n",
        "  # Display the metrics for the model\n",
        "  print(f'{model_name} Test Scores')\n",
        "  print(f'MAE: {mae:,.4f} \\nMSE: {mse:,.4f} \\nRMSE: {rmse:,.4f} \\nR2: {r2:.4f}\\n')"
      ],
      "metadata": {
        "id": "I5c4chubbJHJ"
      },
      "execution_count": 43,
      "outputs": []
    },
    {
      "cell_type": "code",
      "source": [
        "reg = LinearRegression()\n",
        "lin_reg_pipe = make_pipeline(preprocessor, reg)\n",
        "\n",
        "lin_reg_pipe.fit(X_train, y_train)"
      ],
      "metadata": {
        "id": "rCjeybAYsbD2",
        "colab": {
          "base_uri": "https://localhost:8080/",
          "height": 227
        },
        "outputId": "6b9a69f1-257b-47f1-9bb2-3b3c58f1d155"
      },
      "execution_count": 42,
      "outputs": [
        {
          "output_type": "execute_result",
          "data": {
            "text/plain": [
              "Pipeline(steps=[('columntransformer',\n",
              "                 ColumnTransformer(transformers=[('pipeline-1',\n",
              "                                                  Pipeline(steps=[('simpleimputer',\n",
              "                                                                   SimpleImputer(strategy='most_frequent')),\n",
              "                                                                  ('ordinalencoder',\n",
              "                                                                   OrdinalEncoder(categories=[['Small',\n",
              "                                                                                               'Medium',\n",
              "                                                                                               'High']]))]),\n",
              "                                                  ['Outlet_Size']),\n",
              "                                                 ('pipeline-2',\n",
              "                                                  Pipeline(steps=[('simpleimputer',\n",
              "                                                                   SimpleImputer()),\n",
              "                                                                  ('standardscaler',\n",
              "                                                                   StandardScaler())]),\n",
              "                                                  ['Item_Weight',\n",
              "                                                   'Item_Visibility',\n",
              "                                                   'Item_MRP',\n",
              "                                                   'Outlet_Establishment_Year']),\n",
              "                                                 ('pipeline-3',\n",
              "                                                  Pipeline(steps=[('onehotencoder',\n",
              "                                                                   OneHotEncoder(handle_unknown='ignore',\n",
              "                                                                                 sparse=False))]),\n",
              "                                                  ['Outlet_Identifier',\n",
              "                                                   'Item_Fat_Content',\n",
              "                                                   'Item_Type', 'Outlet_Type',\n",
              "                                                   'Outlet_Location_Type'])])),\n",
              "                ('linearregression', LinearRegression())])"
            ],
            "text/html": [
              "<style>#sk-764613f3-8395-41e0-b040-88f75076bc61 {color: black;background-color: white;}#sk-764613f3-8395-41e0-b040-88f75076bc61 pre{padding: 0;}#sk-764613f3-8395-41e0-b040-88f75076bc61 div.sk-toggleable {background-color: white;}#sk-764613f3-8395-41e0-b040-88f75076bc61 label.sk-toggleable__label {cursor: pointer;display: block;width: 100%;margin-bottom: 0;padding: 0.3em;box-sizing: border-box;text-align: center;}#sk-764613f3-8395-41e0-b040-88f75076bc61 label.sk-toggleable__label-arrow:before {content: \"▸\";float: left;margin-right: 0.25em;color: #696969;}#sk-764613f3-8395-41e0-b040-88f75076bc61 label.sk-toggleable__label-arrow:hover:before {color: black;}#sk-764613f3-8395-41e0-b040-88f75076bc61 div.sk-estimator:hover label.sk-toggleable__label-arrow:before {color: black;}#sk-764613f3-8395-41e0-b040-88f75076bc61 div.sk-toggleable__content {max-height: 0;max-width: 0;overflow: hidden;text-align: left;background-color: #f0f8ff;}#sk-764613f3-8395-41e0-b040-88f75076bc61 div.sk-toggleable__content pre {margin: 0.2em;color: black;border-radius: 0.25em;background-color: #f0f8ff;}#sk-764613f3-8395-41e0-b040-88f75076bc61 input.sk-toggleable__control:checked~div.sk-toggleable__content {max-height: 200px;max-width: 100%;overflow: auto;}#sk-764613f3-8395-41e0-b040-88f75076bc61 input.sk-toggleable__control:checked~label.sk-toggleable__label-arrow:before {content: \"▾\";}#sk-764613f3-8395-41e0-b040-88f75076bc61 div.sk-estimator input.sk-toggleable__control:checked~label.sk-toggleable__label {background-color: #d4ebff;}#sk-764613f3-8395-41e0-b040-88f75076bc61 div.sk-label input.sk-toggleable__control:checked~label.sk-toggleable__label {background-color: #d4ebff;}#sk-764613f3-8395-41e0-b040-88f75076bc61 input.sk-hidden--visually {border: 0;clip: rect(1px 1px 1px 1px);clip: rect(1px, 1px, 1px, 1px);height: 1px;margin: -1px;overflow: hidden;padding: 0;position: absolute;width: 1px;}#sk-764613f3-8395-41e0-b040-88f75076bc61 div.sk-estimator {font-family: monospace;background-color: #f0f8ff;border: 1px dotted black;border-radius: 0.25em;box-sizing: border-box;margin-bottom: 0.5em;}#sk-764613f3-8395-41e0-b040-88f75076bc61 div.sk-estimator:hover {background-color: #d4ebff;}#sk-764613f3-8395-41e0-b040-88f75076bc61 div.sk-parallel-item::after {content: \"\";width: 100%;border-bottom: 1px solid gray;flex-grow: 1;}#sk-764613f3-8395-41e0-b040-88f75076bc61 div.sk-label:hover label.sk-toggleable__label {background-color: #d4ebff;}#sk-764613f3-8395-41e0-b040-88f75076bc61 div.sk-serial::before {content: \"\";position: absolute;border-left: 1px solid gray;box-sizing: border-box;top: 2em;bottom: 0;left: 50%;}#sk-764613f3-8395-41e0-b040-88f75076bc61 div.sk-serial {display: flex;flex-direction: column;align-items: center;background-color: white;padding-right: 0.2em;padding-left: 0.2em;}#sk-764613f3-8395-41e0-b040-88f75076bc61 div.sk-item {z-index: 1;}#sk-764613f3-8395-41e0-b040-88f75076bc61 div.sk-parallel {display: flex;align-items: stretch;justify-content: center;background-color: white;}#sk-764613f3-8395-41e0-b040-88f75076bc61 div.sk-parallel::before {content: \"\";position: absolute;border-left: 1px solid gray;box-sizing: border-box;top: 2em;bottom: 0;left: 50%;}#sk-764613f3-8395-41e0-b040-88f75076bc61 div.sk-parallel-item {display: flex;flex-direction: column;position: relative;background-color: white;}#sk-764613f3-8395-41e0-b040-88f75076bc61 div.sk-parallel-item:first-child::after {align-self: flex-end;width: 50%;}#sk-764613f3-8395-41e0-b040-88f75076bc61 div.sk-parallel-item:last-child::after {align-self: flex-start;width: 50%;}#sk-764613f3-8395-41e0-b040-88f75076bc61 div.sk-parallel-item:only-child::after {width: 0;}#sk-764613f3-8395-41e0-b040-88f75076bc61 div.sk-dashed-wrapped {border: 1px dashed gray;margin: 0 0.4em 0.5em 0.4em;box-sizing: border-box;padding-bottom: 0.4em;background-color: white;position: relative;}#sk-764613f3-8395-41e0-b040-88f75076bc61 div.sk-label label {font-family: monospace;font-weight: bold;background-color: white;display: inline-block;line-height: 1.2em;}#sk-764613f3-8395-41e0-b040-88f75076bc61 div.sk-label-container {position: relative;z-index: 2;text-align: center;}#sk-764613f3-8395-41e0-b040-88f75076bc61 div.sk-container {/* jupyter's `normalize.less` sets `[hidden] { display: none; }` but bootstrap.min.css set `[hidden] { display: none !important; }` so we also need the `!important` here to be able to override the default hidden behavior on the sphinx rendered scikit-learn.org. See: https://github.com/scikit-learn/scikit-learn/issues/21755 */display: inline-block !important;position: relative;}#sk-764613f3-8395-41e0-b040-88f75076bc61 div.sk-text-repr-fallback {display: none;}</style><div id=\"sk-764613f3-8395-41e0-b040-88f75076bc61\" class=\"sk-top-container\"><div class=\"sk-text-repr-fallback\"><pre>Pipeline(steps=[(&#x27;columntransformer&#x27;,\n",
              "                 ColumnTransformer(transformers=[(&#x27;pipeline-1&#x27;,\n",
              "                                                  Pipeline(steps=[(&#x27;simpleimputer&#x27;,\n",
              "                                                                   SimpleImputer(strategy=&#x27;most_frequent&#x27;)),\n",
              "                                                                  (&#x27;ordinalencoder&#x27;,\n",
              "                                                                   OrdinalEncoder(categories=[[&#x27;Small&#x27;,\n",
              "                                                                                               &#x27;Medium&#x27;,\n",
              "                                                                                               &#x27;High&#x27;]]))]),\n",
              "                                                  [&#x27;Outlet_Size&#x27;]),\n",
              "                                                 (&#x27;pipeline-2&#x27;,\n",
              "                                                  Pipeline(steps=[(&#x27;simpleimputer&#x27;,\n",
              "                                                                   SimpleImputer()),\n",
              "                                                                  (&#x27;standardscaler&#x27;,\n",
              "                                                                   StandardScaler())]),\n",
              "                                                  [&#x27;Item_Weight&#x27;,\n",
              "                                                   &#x27;Item_Visibility&#x27;,\n",
              "                                                   &#x27;Item_MRP&#x27;,\n",
              "                                                   &#x27;Outlet_Establishment_Year&#x27;]),\n",
              "                                                 (&#x27;pipeline-3&#x27;,\n",
              "                                                  Pipeline(steps=[(&#x27;onehotencoder&#x27;,\n",
              "                                                                   OneHotEncoder(handle_unknown=&#x27;ignore&#x27;,\n",
              "                                                                                 sparse=False))]),\n",
              "                                                  [&#x27;Outlet_Identifier&#x27;,\n",
              "                                                   &#x27;Item_Fat_Content&#x27;,\n",
              "                                                   &#x27;Item_Type&#x27;, &#x27;Outlet_Type&#x27;,\n",
              "                                                   &#x27;Outlet_Location_Type&#x27;])])),\n",
              "                (&#x27;linearregression&#x27;, LinearRegression())])</pre><b>Please rerun this cell to show the HTML repr or trust the notebook.</b></div><div class=\"sk-container\" hidden><div class=\"sk-item sk-dashed-wrapped\"><div class=\"sk-label-container\"><div class=\"sk-label sk-toggleable\"><input class=\"sk-toggleable__control sk-hidden--visually\" id=\"3098fa46-5d59-40c4-b21a-7fc86264aab2\" type=\"checkbox\" ><label for=\"3098fa46-5d59-40c4-b21a-7fc86264aab2\" class=\"sk-toggleable__label sk-toggleable__label-arrow\">Pipeline</label><div class=\"sk-toggleable__content\"><pre>Pipeline(steps=[(&#x27;columntransformer&#x27;,\n",
              "                 ColumnTransformer(transformers=[(&#x27;pipeline-1&#x27;,\n",
              "                                                  Pipeline(steps=[(&#x27;simpleimputer&#x27;,\n",
              "                                                                   SimpleImputer(strategy=&#x27;most_frequent&#x27;)),\n",
              "                                                                  (&#x27;ordinalencoder&#x27;,\n",
              "                                                                   OrdinalEncoder(categories=[[&#x27;Small&#x27;,\n",
              "                                                                                               &#x27;Medium&#x27;,\n",
              "                                                                                               &#x27;High&#x27;]]))]),\n",
              "                                                  [&#x27;Outlet_Size&#x27;]),\n",
              "                                                 (&#x27;pipeline-2&#x27;,\n",
              "                                                  Pipeline(steps=[(&#x27;simpleimputer&#x27;,\n",
              "                                                                   SimpleImputer()),\n",
              "                                                                  (&#x27;standardscaler&#x27;,\n",
              "                                                                   StandardScaler())]),\n",
              "                                                  [&#x27;Item_Weight&#x27;,\n",
              "                                                   &#x27;Item_Visibility&#x27;,\n",
              "                                                   &#x27;Item_MRP&#x27;,\n",
              "                                                   &#x27;Outlet_Establishment_Year&#x27;]),\n",
              "                                                 (&#x27;pipeline-3&#x27;,\n",
              "                                                  Pipeline(steps=[(&#x27;onehotencoder&#x27;,\n",
              "                                                                   OneHotEncoder(handle_unknown=&#x27;ignore&#x27;,\n",
              "                                                                                 sparse=False))]),\n",
              "                                                  [&#x27;Outlet_Identifier&#x27;,\n",
              "                                                   &#x27;Item_Fat_Content&#x27;,\n",
              "                                                   &#x27;Item_Type&#x27;, &#x27;Outlet_Type&#x27;,\n",
              "                                                   &#x27;Outlet_Location_Type&#x27;])])),\n",
              "                (&#x27;linearregression&#x27;, LinearRegression())])</pre></div></div></div><div class=\"sk-serial\"><div class=\"sk-item sk-dashed-wrapped\"><div class=\"sk-label-container\"><div class=\"sk-label sk-toggleable\"><input class=\"sk-toggleable__control sk-hidden--visually\" id=\"9d1064d1-56ad-4bad-9fa0-a9e98cdeabb1\" type=\"checkbox\" ><label for=\"9d1064d1-56ad-4bad-9fa0-a9e98cdeabb1\" class=\"sk-toggleable__label sk-toggleable__label-arrow\">columntransformer: ColumnTransformer</label><div class=\"sk-toggleable__content\"><pre>ColumnTransformer(transformers=[(&#x27;pipeline-1&#x27;,\n",
              "                                 Pipeline(steps=[(&#x27;simpleimputer&#x27;,\n",
              "                                                  SimpleImputer(strategy=&#x27;most_frequent&#x27;)),\n",
              "                                                 (&#x27;ordinalencoder&#x27;,\n",
              "                                                  OrdinalEncoder(categories=[[&#x27;Small&#x27;,\n",
              "                                                                              &#x27;Medium&#x27;,\n",
              "                                                                              &#x27;High&#x27;]]))]),\n",
              "                                 [&#x27;Outlet_Size&#x27;]),\n",
              "                                (&#x27;pipeline-2&#x27;,\n",
              "                                 Pipeline(steps=[(&#x27;simpleimputer&#x27;,\n",
              "                                                  SimpleImputer()),\n",
              "                                                 (&#x27;standardscaler&#x27;,\n",
              "                                                  StandardScaler())]),\n",
              "                                 [&#x27;Item_Weight&#x27;, &#x27;Item_Visibility&#x27;, &#x27;Item_MRP&#x27;,\n",
              "                                  &#x27;Outlet_Establishment_Year&#x27;]),\n",
              "                                (&#x27;pipeline-3&#x27;,\n",
              "                                 Pipeline(steps=[(&#x27;onehotencoder&#x27;,\n",
              "                                                  OneHotEncoder(handle_unknown=&#x27;ignore&#x27;,\n",
              "                                                                sparse=False))]),\n",
              "                                 [&#x27;Outlet_Identifier&#x27;, &#x27;Item_Fat_Content&#x27;,\n",
              "                                  &#x27;Item_Type&#x27;, &#x27;Outlet_Type&#x27;,\n",
              "                                  &#x27;Outlet_Location_Type&#x27;])])</pre></div></div></div><div class=\"sk-parallel\"><div class=\"sk-parallel-item\"><div class=\"sk-item\"><div class=\"sk-label-container\"><div class=\"sk-label sk-toggleable\"><input class=\"sk-toggleable__control sk-hidden--visually\" id=\"94301480-d2d3-4f5a-ae4b-96465737bf5a\" type=\"checkbox\" ><label for=\"94301480-d2d3-4f5a-ae4b-96465737bf5a\" class=\"sk-toggleable__label sk-toggleable__label-arrow\">pipeline-1</label><div class=\"sk-toggleable__content\"><pre>[&#x27;Outlet_Size&#x27;]</pre></div></div></div><div class=\"sk-serial\"><div class=\"sk-item\"><div class=\"sk-serial\"><div class=\"sk-item\"><div class=\"sk-estimator sk-toggleable\"><input class=\"sk-toggleable__control sk-hidden--visually\" id=\"a87c31f7-90a8-4edd-b87f-d5118176ee7f\" type=\"checkbox\" ><label for=\"a87c31f7-90a8-4edd-b87f-d5118176ee7f\" class=\"sk-toggleable__label sk-toggleable__label-arrow\">SimpleImputer</label><div class=\"sk-toggleable__content\"><pre>SimpleImputer(strategy=&#x27;most_frequent&#x27;)</pre></div></div></div><div class=\"sk-item\"><div class=\"sk-estimator sk-toggleable\"><input class=\"sk-toggleable__control sk-hidden--visually\" id=\"c6bfa2f1-dda8-4fe9-bab0-461d8ec00191\" type=\"checkbox\" ><label for=\"c6bfa2f1-dda8-4fe9-bab0-461d8ec00191\" class=\"sk-toggleable__label sk-toggleable__label-arrow\">OrdinalEncoder</label><div class=\"sk-toggleable__content\"><pre>OrdinalEncoder(categories=[[&#x27;Small&#x27;, &#x27;Medium&#x27;, &#x27;High&#x27;]])</pre></div></div></div></div></div></div></div></div><div class=\"sk-parallel-item\"><div class=\"sk-item\"><div class=\"sk-label-container\"><div class=\"sk-label sk-toggleable\"><input class=\"sk-toggleable__control sk-hidden--visually\" id=\"6ebac6b6-af78-4491-a44b-20c13d6318da\" type=\"checkbox\" ><label for=\"6ebac6b6-af78-4491-a44b-20c13d6318da\" class=\"sk-toggleable__label sk-toggleable__label-arrow\">pipeline-2</label><div class=\"sk-toggleable__content\"><pre>[&#x27;Item_Weight&#x27;, &#x27;Item_Visibility&#x27;, &#x27;Item_MRP&#x27;, &#x27;Outlet_Establishment_Year&#x27;]</pre></div></div></div><div class=\"sk-serial\"><div class=\"sk-item\"><div class=\"sk-serial\"><div class=\"sk-item\"><div class=\"sk-estimator sk-toggleable\"><input class=\"sk-toggleable__control sk-hidden--visually\" id=\"bf32e763-479b-48d5-893e-5688609b6ae1\" type=\"checkbox\" ><label for=\"bf32e763-479b-48d5-893e-5688609b6ae1\" class=\"sk-toggleable__label sk-toggleable__label-arrow\">SimpleImputer</label><div class=\"sk-toggleable__content\"><pre>SimpleImputer()</pre></div></div></div><div class=\"sk-item\"><div class=\"sk-estimator sk-toggleable\"><input class=\"sk-toggleable__control sk-hidden--visually\" id=\"7d734b93-2d17-462c-a6c5-75174856ef1c\" type=\"checkbox\" ><label for=\"7d734b93-2d17-462c-a6c5-75174856ef1c\" class=\"sk-toggleable__label sk-toggleable__label-arrow\">StandardScaler</label><div class=\"sk-toggleable__content\"><pre>StandardScaler()</pre></div></div></div></div></div></div></div></div><div class=\"sk-parallel-item\"><div class=\"sk-item\"><div class=\"sk-label-container\"><div class=\"sk-label sk-toggleable\"><input class=\"sk-toggleable__control sk-hidden--visually\" id=\"c1c7c979-18c7-4444-9a06-842e7c89ba19\" type=\"checkbox\" ><label for=\"c1c7c979-18c7-4444-9a06-842e7c89ba19\" class=\"sk-toggleable__label sk-toggleable__label-arrow\">pipeline-3</label><div class=\"sk-toggleable__content\"><pre>[&#x27;Outlet_Identifier&#x27;, &#x27;Item_Fat_Content&#x27;, &#x27;Item_Type&#x27;, &#x27;Outlet_Type&#x27;, &#x27;Outlet_Location_Type&#x27;]</pre></div></div></div><div class=\"sk-serial\"><div class=\"sk-item\"><div class=\"sk-serial\"><div class=\"sk-item\"><div class=\"sk-estimator sk-toggleable\"><input class=\"sk-toggleable__control sk-hidden--visually\" id=\"81fd4bd8-f8b5-4507-aa0c-2e206a15daa6\" type=\"checkbox\" ><label for=\"81fd4bd8-f8b5-4507-aa0c-2e206a15daa6\" class=\"sk-toggleable__label sk-toggleable__label-arrow\">OneHotEncoder</label><div class=\"sk-toggleable__content\"><pre>OneHotEncoder(handle_unknown=&#x27;ignore&#x27;, sparse=False)</pre></div></div></div></div></div></div></div></div></div></div><div class=\"sk-item\"><div class=\"sk-estimator sk-toggleable\"><input class=\"sk-toggleable__control sk-hidden--visually\" id=\"eaf92258-3a87-42c3-a7b7-c21d962589d2\" type=\"checkbox\" ><label for=\"eaf92258-3a87-42c3-a7b7-c21d962589d2\" class=\"sk-toggleable__label sk-toggleable__label-arrow\">LinearRegression</label><div class=\"sk-toggleable__content\"><pre>LinearRegression()</pre></div></div></div></div></div></div></div>"
            ]
          },
          "metadata": {},
          "execution_count": 42
        }
      ]
    },
    {
      "cell_type": "markdown",
      "source": [
        "### Linear Regression Model Performance"
      ],
      "metadata": {
        "id": "BRNlNQsnb1fx"
      }
    },
    {
      "cell_type": "code",
      "source": [
        "# Display model performance metrics using a function\n",
        "evaluation_model(pipe=lin_reg_pipe, \n",
        "                 model_name='Linear Regression', \n",
        "                 x_train=X_train,\n",
        "                 x_test=X_test)"
      ],
      "metadata": {
        "colab": {
          "base_uri": "https://localhost:8080/"
        },
        "id": "Ncl8ajQ5azuf",
        "outputId": "49e8fe9f-e842-4533-91ae-6c69eb347db5"
      },
      "execution_count": 44,
      "outputs": [
        {
          "output_type": "stream",
          "name": "stdout",
          "text": [
            "Linear Regression Train Scores\n",
            "MAE: 848.0975 \n",
            "MSE: 1,298,824.5931 \n",
            "RMSE: 1,139.6599 \n",
            "R2: 0.5611\n",
            "\n",
            "Linear Regression Test Scores\n",
            "MAE: 806.9986 \n",
            "MSE: 1,199,546.1670 \n",
            "RMSE: 1,095.2379 \n",
            "R2: 0.5652\n",
            "\n"
          ]
        }
      ]
    },
    {
      "cell_type": "markdown",
      "source": [
        "## Linear Regression Model Observations\n",
        "\n",
        "- This model performs fairly well on the training set. But performs very poorly on the testing set. \n",
        "- Most likely, this data is not well suited for a Linear Model. \n",
        "- Therefore, we will explore using other models to see how they perform."
      ],
      "metadata": {
        "id": "sIhTNslTc0hc"
      }
    },
    {
      "cell_type": "code",
      "source": [],
      "metadata": {
        "id": "iZPVei_lcSpB"
      },
      "execution_count": null,
      "outputs": []
    }
  ]
}