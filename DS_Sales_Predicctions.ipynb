{
  "nbformat": 4,
  "nbformat_minor": 0,
  "metadata": {
    "colab": {
      "provenance": [],
      "toc_visible": true,
      "include_colab_link": true
    },
    "kernelspec": {
      "name": "python3",
      "display_name": "Python 3"
    },
    "language_info": {
      "name": "python"
    }
  },
  "cells": [
    {
      "cell_type": "markdown",
      "metadata": {
        "id": "view-in-github",
        "colab_type": "text"
      },
      "source": [
        "<a href=\"https://colab.research.google.com/github/pylabview/sales-predicctions/blob/main/DS_Sales_Predicctions.ipynb\" target=\"_parent\"><img src=\"https://colab.research.google.com/assets/colab-badge.svg\" alt=\"Open In Colab\"/></a>"
      ]
    },
    {
      "cell_type": "markdown",
      "source": [
        "##Data Science Sales Predicction\n",
        "Rodrigo Arguello-Serrano"
      ],
      "metadata": {
        "id": "ZF4ElsHaCrTu"
      }
    },
    {
      "cell_type": "markdown",
      "source": [
        "#Project 1 - Parts 1 & 2"
      ],
      "metadata": {
        "id": "jTLVKnWFCn7f"
      }
    },
    {
      "cell_type": "markdown",
      "source": [
        "Part 1:\n",
        "\n",
        "This is an overview of the steps you will need to complete for part one of the project. There are more detailed instructions for each section following the overview.\n",
        "\n",
        "1) Create a GitHub Account\n",
        "\n",
        "2) Set up a GitHub repository that will house your first portfolio project.\n",
        "\n",
        "3) Add Markdown cells with your name and section headers to the notebook.\n",
        "\n",
        "4) Add the Google Colab Notebook to your GitHub repository.\n",
        "\n",
        "5) Submit the link to your GitHub repo!"
      ],
      "metadata": {
        "id": "FBTQ_sa2SQCS"
      }
    },
    {
      "cell_type": "markdown",
      "source": [
        "Part 2\n",
        "\n",
        "The first project will be a sales prediction for food items sold at various stores. The goal of this is to help the retailer understand the properties of products and outlets that play crucial roles in increasing sales.\n",
        "\n",
        "For Part 2, the task is to use Pandas to load in the data and start exploring and cleaning it. Here the steps covered on Part 2:\n",
        "\n",
        "- Download the data using this link in the learn platform.\n",
        "- Insert code below the heading \"Loading Data\"\n",
        "  - Use Pandas to read the sales prediction data set into Google Colab.\n",
        "  - Use df.info() and df.head() methods to preview the first rows of your data and a summary of your DataFrame's columns.\n",
        "- Insert code below the heading \"Data Cleaning\"\n",
        "  - Explore the data - what do you need to do to clean this data? Clean it!\n",
        "  - Be sure to address each of the following tasks:\n",
        "\n",
        "1) How many rows and columns?\n",
        "\n",
        "2) What are the datatypes of each variable?\n",
        "\n",
        "3) Are there duplicates? If so, drop any duplicates.\n",
        "\n",
        "4) Identify missing values.\n",
        "\n",
        "5) Decide on how to address the missing values and do it! (This requires your judgement, so explain your choice).\n",
        "\n",
        "6) Confirm that there are no missing values after addressing them.\n",
        "\n",
        "7) Find and fix any inconsistent categories of data (example: fix cat, Cat, and cats so that they are consistent).\n",
        "\n",
        "8) For any numerical columns, obtain the summary statistics of each (min, max, mean)."
      ],
      "metadata": {
        "id": "nPTMtEjTEBCf"
      }
    },
    {
      "cell_type": "markdown",
      "source": [
        "###Data Dictionary \n",
        "<table>\n",
        "  <tr>\n",
        "    <th>Variable Name</th>\n",
        "    <th>Description</th>\n",
        "  </tr>\n",
        "  <tr>\n",
        "    <td>Item_Identifier</td>\n",
        "    <td>Unique product ID</td>\n",
        "  </tr>\n",
        "  <tr>\n",
        "    <td>Item_Weight</td>\n",
        "    <td>Weight of product</td>\n",
        "  </tr>\n",
        "  <tr>\n",
        "    <td>Item_Fat_Content</td>\n",
        "    <td>Whether the product is low fat or regular</td>\n",
        "  </tr>\n",
        "  <tr>\n",
        "    <td>Item_Visibility</td>\n",
        "    <td>The percentage of total display area of all products in a store allocated to the particular product</td>\n",
        "  </tr>\n",
        "  <tr>\n",
        "    <td>Item_Type</td>\n",
        "    <td>The category to which the product belongs</td>\n",
        "  </tr>\n",
        "  <tr>\n",
        "    <td>Item_MRP</td>\n",
        "    <td>Maximum Retail Price (list price) of the product</td>\n",
        "  </tr>\n",
        "  <tr>\n",
        "    <td>Outlet_Identifier</td>\n",
        "    <td>Unique store ID</td>\n",
        "  </tr> \n",
        "  <tr>\n",
        "    <td>Outlet_Establishment_Year</td>\n",
        "    <td>The year in which store was established</td>\n",
        "  </tr> \n",
        "  <tr>\n",
        "    <td>Outlet_Size</td>\n",
        "    <td>The size of the store in terms of ground area covered</td>\n",
        "  </tr> \n",
        "  <tr>\n",
        "    <td>Outlet_Location_Type</td>\n",
        "    <td>The type of area in which the store is located</td>\n",
        "  </tr> \n",
        "  <tr>\n",
        "    <td>Outlet_Type</td>\n",
        "    <td>\tWhether the outlet is a grocery store or some sort of supermarket</td>\n",
        "  </tr> \n",
        "  <tr>\n",
        "    <td>Item_Outlet_Sales</td>\n",
        "    <td>Sales of the product in the particular store. This is the target variable to be predicted.</td>\n",
        "  </tr> \n",
        "</table>"
      ],
      "metadata": {
        "id": "Ueb5v6g0F-Ha"
      }
    },
    {
      "cell_type": "markdown",
      "source": [
        "## Module Imports & Mounting Goolgle Drive"
      ],
      "metadata": {
        "id": "-u-wrY9nDWMU"
      }
    },
    {
      "cell_type": "code",
      "source": [
        "import pandas as pd\n",
        "import numpy as np\n",
        "import matplotlib.pyplot as plt\n",
        "import seaborn as sns\n",
        "from google.colab import drive\n",
        "\n",
        "drive.mount('/content/drive')"
      ],
      "metadata": {
        "id": "mae5Og-TDauv",
        "outputId": "9971438f-532e-47c0-fc4a-487feee0aac4",
        "colab": {
          "base_uri": "https://localhost:8080/"
        }
      },
      "execution_count": 1,
      "outputs": [
        {
          "output_type": "stream",
          "name": "stdout",
          "text": [
            "Mounted at /content/drive\n"
          ]
        }
      ]
    },
    {
      "cell_type": "markdown",
      "source": [
        "## Loading Data"
      ],
      "metadata": {
        "id": "WWat2BFUDAsT"
      }
    },
    {
      "cell_type": "code",
      "source": [
        "df = pd.read_csv(\"/content/drive/MyDrive/Colab Notebooks/Assignments/Data/sales_predictions.csv\")\n",
        "df.head()"
      ],
      "metadata": {
        "colab": {
          "base_uri": "https://localhost:8080/",
          "height": 357
        },
        "id": "rwOXu4m4w5tV",
        "outputId": "ee32e64e-bb84-4b48-bb7f-bd302c6af14b"
      },
      "execution_count": 2,
      "outputs": [
        {
          "output_type": "execute_result",
          "data": {
            "text/plain": [
              "  Item_Identifier  Item_Weight Item_Fat_Content  Item_Visibility  \\\n",
              "0           FDA15         9.30          Low Fat         0.016047   \n",
              "1           DRC01         5.92          Regular         0.019278   \n",
              "2           FDN15        17.50          Low Fat         0.016760   \n",
              "3           FDX07        19.20          Regular         0.000000   \n",
              "4           NCD19         8.93          Low Fat         0.000000   \n",
              "\n",
              "               Item_Type  Item_MRP Outlet_Identifier  \\\n",
              "0                  Dairy  249.8092            OUT049   \n",
              "1            Soft Drinks   48.2692            OUT018   \n",
              "2                   Meat  141.6180            OUT049   \n",
              "3  Fruits and Vegetables  182.0950            OUT010   \n",
              "4              Household   53.8614            OUT013   \n",
              "\n",
              "   Outlet_Establishment_Year Outlet_Size Outlet_Location_Type  \\\n",
              "0                       1999      Medium               Tier 1   \n",
              "1                       2009      Medium               Tier 3   \n",
              "2                       1999      Medium               Tier 1   \n",
              "3                       1998         NaN               Tier 3   \n",
              "4                       1987        High               Tier 3   \n",
              "\n",
              "         Outlet_Type  Item_Outlet_Sales  \n",
              "0  Supermarket Type1          3735.1380  \n",
              "1  Supermarket Type2           443.4228  \n",
              "2  Supermarket Type1          2097.2700  \n",
              "3      Grocery Store           732.3800  \n",
              "4  Supermarket Type1           994.7052  "
            ],
            "text/html": [
              "\n",
              "  <div id=\"df-8cef83c9-5fa5-499c-a4f9-88f602832295\">\n",
              "    <div class=\"colab-df-container\">\n",
              "      <div>\n",
              "<style scoped>\n",
              "    .dataframe tbody tr th:only-of-type {\n",
              "        vertical-align: middle;\n",
              "    }\n",
              "\n",
              "    .dataframe tbody tr th {\n",
              "        vertical-align: top;\n",
              "    }\n",
              "\n",
              "    .dataframe thead th {\n",
              "        text-align: right;\n",
              "    }\n",
              "</style>\n",
              "<table border=\"1\" class=\"dataframe\">\n",
              "  <thead>\n",
              "    <tr style=\"text-align: right;\">\n",
              "      <th></th>\n",
              "      <th>Item_Identifier</th>\n",
              "      <th>Item_Weight</th>\n",
              "      <th>Item_Fat_Content</th>\n",
              "      <th>Item_Visibility</th>\n",
              "      <th>Item_Type</th>\n",
              "      <th>Item_MRP</th>\n",
              "      <th>Outlet_Identifier</th>\n",
              "      <th>Outlet_Establishment_Year</th>\n",
              "      <th>Outlet_Size</th>\n",
              "      <th>Outlet_Location_Type</th>\n",
              "      <th>Outlet_Type</th>\n",
              "      <th>Item_Outlet_Sales</th>\n",
              "    </tr>\n",
              "  </thead>\n",
              "  <tbody>\n",
              "    <tr>\n",
              "      <th>0</th>\n",
              "      <td>FDA15</td>\n",
              "      <td>9.30</td>\n",
              "      <td>Low Fat</td>\n",
              "      <td>0.016047</td>\n",
              "      <td>Dairy</td>\n",
              "      <td>249.8092</td>\n",
              "      <td>OUT049</td>\n",
              "      <td>1999</td>\n",
              "      <td>Medium</td>\n",
              "      <td>Tier 1</td>\n",
              "      <td>Supermarket Type1</td>\n",
              "      <td>3735.1380</td>\n",
              "    </tr>\n",
              "    <tr>\n",
              "      <th>1</th>\n",
              "      <td>DRC01</td>\n",
              "      <td>5.92</td>\n",
              "      <td>Regular</td>\n",
              "      <td>0.019278</td>\n",
              "      <td>Soft Drinks</td>\n",
              "      <td>48.2692</td>\n",
              "      <td>OUT018</td>\n",
              "      <td>2009</td>\n",
              "      <td>Medium</td>\n",
              "      <td>Tier 3</td>\n",
              "      <td>Supermarket Type2</td>\n",
              "      <td>443.4228</td>\n",
              "    </tr>\n",
              "    <tr>\n",
              "      <th>2</th>\n",
              "      <td>FDN15</td>\n",
              "      <td>17.50</td>\n",
              "      <td>Low Fat</td>\n",
              "      <td>0.016760</td>\n",
              "      <td>Meat</td>\n",
              "      <td>141.6180</td>\n",
              "      <td>OUT049</td>\n",
              "      <td>1999</td>\n",
              "      <td>Medium</td>\n",
              "      <td>Tier 1</td>\n",
              "      <td>Supermarket Type1</td>\n",
              "      <td>2097.2700</td>\n",
              "    </tr>\n",
              "    <tr>\n",
              "      <th>3</th>\n",
              "      <td>FDX07</td>\n",
              "      <td>19.20</td>\n",
              "      <td>Regular</td>\n",
              "      <td>0.000000</td>\n",
              "      <td>Fruits and Vegetables</td>\n",
              "      <td>182.0950</td>\n",
              "      <td>OUT010</td>\n",
              "      <td>1998</td>\n",
              "      <td>NaN</td>\n",
              "      <td>Tier 3</td>\n",
              "      <td>Grocery Store</td>\n",
              "      <td>732.3800</td>\n",
              "    </tr>\n",
              "    <tr>\n",
              "      <th>4</th>\n",
              "      <td>NCD19</td>\n",
              "      <td>8.93</td>\n",
              "      <td>Low Fat</td>\n",
              "      <td>0.000000</td>\n",
              "      <td>Household</td>\n",
              "      <td>53.8614</td>\n",
              "      <td>OUT013</td>\n",
              "      <td>1987</td>\n",
              "      <td>High</td>\n",
              "      <td>Tier 3</td>\n",
              "      <td>Supermarket Type1</td>\n",
              "      <td>994.7052</td>\n",
              "    </tr>\n",
              "  </tbody>\n",
              "</table>\n",
              "</div>\n",
              "      <button class=\"colab-df-convert\" onclick=\"convertToInteractive('df-8cef83c9-5fa5-499c-a4f9-88f602832295')\"\n",
              "              title=\"Convert this dataframe to an interactive table.\"\n",
              "              style=\"display:none;\">\n",
              "        \n",
              "  <svg xmlns=\"http://www.w3.org/2000/svg\" height=\"24px\"viewBox=\"0 0 24 24\"\n",
              "       width=\"24px\">\n",
              "    <path d=\"M0 0h24v24H0V0z\" fill=\"none\"/>\n",
              "    <path d=\"M18.56 5.44l.94 2.06.94-2.06 2.06-.94-2.06-.94-.94-2.06-.94 2.06-2.06.94zm-11 1L8.5 8.5l.94-2.06 2.06-.94-2.06-.94L8.5 2.5l-.94 2.06-2.06.94zm10 10l.94 2.06.94-2.06 2.06-.94-2.06-.94-.94-2.06-.94 2.06-2.06.94z\"/><path d=\"M17.41 7.96l-1.37-1.37c-.4-.4-.92-.59-1.43-.59-.52 0-1.04.2-1.43.59L10.3 9.45l-7.72 7.72c-.78.78-.78 2.05 0 2.83L4 21.41c.39.39.9.59 1.41.59.51 0 1.02-.2 1.41-.59l7.78-7.78 2.81-2.81c.8-.78.8-2.07 0-2.86zM5.41 20L4 18.59l7.72-7.72 1.47 1.35L5.41 20z\"/>\n",
              "  </svg>\n",
              "      </button>\n",
              "      \n",
              "  <style>\n",
              "    .colab-df-container {\n",
              "      display:flex;\n",
              "      flex-wrap:wrap;\n",
              "      gap: 12px;\n",
              "    }\n",
              "\n",
              "    .colab-df-convert {\n",
              "      background-color: #E8F0FE;\n",
              "      border: none;\n",
              "      border-radius: 50%;\n",
              "      cursor: pointer;\n",
              "      display: none;\n",
              "      fill: #1967D2;\n",
              "      height: 32px;\n",
              "      padding: 0 0 0 0;\n",
              "      width: 32px;\n",
              "    }\n",
              "\n",
              "    .colab-df-convert:hover {\n",
              "      background-color: #E2EBFA;\n",
              "      box-shadow: 0px 1px 2px rgba(60, 64, 67, 0.3), 0px 1px 3px 1px rgba(60, 64, 67, 0.15);\n",
              "      fill: #174EA6;\n",
              "    }\n",
              "\n",
              "    [theme=dark] .colab-df-convert {\n",
              "      background-color: #3B4455;\n",
              "      fill: #D2E3FC;\n",
              "    }\n",
              "\n",
              "    [theme=dark] .colab-df-convert:hover {\n",
              "      background-color: #434B5C;\n",
              "      box-shadow: 0px 1px 3px 1px rgba(0, 0, 0, 0.15);\n",
              "      filter: drop-shadow(0px 1px 2px rgba(0, 0, 0, 0.3));\n",
              "      fill: #FFFFFF;\n",
              "    }\n",
              "  </style>\n",
              "\n",
              "      <script>\n",
              "        const buttonEl =\n",
              "          document.querySelector('#df-8cef83c9-5fa5-499c-a4f9-88f602832295 button.colab-df-convert');\n",
              "        buttonEl.style.display =\n",
              "          google.colab.kernel.accessAllowed ? 'block' : 'none';\n",
              "\n",
              "        async function convertToInteractive(key) {\n",
              "          const element = document.querySelector('#df-8cef83c9-5fa5-499c-a4f9-88f602832295');\n",
              "          const dataTable =\n",
              "            await google.colab.kernel.invokeFunction('convertToInteractive',\n",
              "                                                     [key], {});\n",
              "          if (!dataTable) return;\n",
              "\n",
              "          const docLinkHtml = 'Like what you see? Visit the ' +\n",
              "            '<a target=\"_blank\" href=https://colab.research.google.com/notebooks/data_table.ipynb>data table notebook</a>'\n",
              "            + ' to learn more about interactive tables.';\n",
              "          element.innerHTML = '';\n",
              "          dataTable['output_type'] = 'display_data';\n",
              "          await google.colab.output.renderOutput(dataTable, element);\n",
              "          const docLink = document.createElement('div');\n",
              "          docLink.innerHTML = docLinkHtml;\n",
              "          element.appendChild(docLink);\n",
              "        }\n",
              "      </script>\n",
              "    </div>\n",
              "  </div>\n",
              "  "
            ]
          },
          "metadata": {},
          "execution_count": 2
        }
      ]
    },
    {
      "cell_type": "code",
      "source": [
        "# Setting Item_Identifier column as index\n",
        "df.set_index('Item_Identifier', inplace=True)\n",
        "#Cheking the head again\n",
        "df.head()"
      ],
      "metadata": {
        "colab": {
          "base_uri": "https://localhost:8080/",
          "height": 388
        },
        "id": "Zq8D-M1l3tmI",
        "outputId": "f5cb2a68-48aa-41dd-ce72-36a96aac2abe"
      },
      "execution_count": 3,
      "outputs": [
        {
          "output_type": "execute_result",
          "data": {
            "text/plain": [
              "                 Item_Weight Item_Fat_Content  Item_Visibility  \\\n",
              "Item_Identifier                                                  \n",
              "FDA15                   9.30          Low Fat         0.016047   \n",
              "DRC01                   5.92          Regular         0.019278   \n",
              "FDN15                  17.50          Low Fat         0.016760   \n",
              "FDX07                  19.20          Regular         0.000000   \n",
              "NCD19                   8.93          Low Fat         0.000000   \n",
              "\n",
              "                             Item_Type  Item_MRP Outlet_Identifier  \\\n",
              "Item_Identifier                                                      \n",
              "FDA15                            Dairy  249.8092            OUT049   \n",
              "DRC01                      Soft Drinks   48.2692            OUT018   \n",
              "FDN15                             Meat  141.6180            OUT049   \n",
              "FDX07            Fruits and Vegetables  182.0950            OUT010   \n",
              "NCD19                        Household   53.8614            OUT013   \n",
              "\n",
              "                 Outlet_Establishment_Year Outlet_Size Outlet_Location_Type  \\\n",
              "Item_Identifier                                                               \n",
              "FDA15                                 1999      Medium               Tier 1   \n",
              "DRC01                                 2009      Medium               Tier 3   \n",
              "FDN15                                 1999      Medium               Tier 1   \n",
              "FDX07                                 1998         NaN               Tier 3   \n",
              "NCD19                                 1987        High               Tier 3   \n",
              "\n",
              "                       Outlet_Type  Item_Outlet_Sales  \n",
              "Item_Identifier                                        \n",
              "FDA15            Supermarket Type1          3735.1380  \n",
              "DRC01            Supermarket Type2           443.4228  \n",
              "FDN15            Supermarket Type1          2097.2700  \n",
              "FDX07                Grocery Store           732.3800  \n",
              "NCD19            Supermarket Type1           994.7052  "
            ],
            "text/html": [
              "\n",
              "  <div id=\"df-376a8012-2d76-4285-851e-440bac204b77\">\n",
              "    <div class=\"colab-df-container\">\n",
              "      <div>\n",
              "<style scoped>\n",
              "    .dataframe tbody tr th:only-of-type {\n",
              "        vertical-align: middle;\n",
              "    }\n",
              "\n",
              "    .dataframe tbody tr th {\n",
              "        vertical-align: top;\n",
              "    }\n",
              "\n",
              "    .dataframe thead th {\n",
              "        text-align: right;\n",
              "    }\n",
              "</style>\n",
              "<table border=\"1\" class=\"dataframe\">\n",
              "  <thead>\n",
              "    <tr style=\"text-align: right;\">\n",
              "      <th></th>\n",
              "      <th>Item_Weight</th>\n",
              "      <th>Item_Fat_Content</th>\n",
              "      <th>Item_Visibility</th>\n",
              "      <th>Item_Type</th>\n",
              "      <th>Item_MRP</th>\n",
              "      <th>Outlet_Identifier</th>\n",
              "      <th>Outlet_Establishment_Year</th>\n",
              "      <th>Outlet_Size</th>\n",
              "      <th>Outlet_Location_Type</th>\n",
              "      <th>Outlet_Type</th>\n",
              "      <th>Item_Outlet_Sales</th>\n",
              "    </tr>\n",
              "    <tr>\n",
              "      <th>Item_Identifier</th>\n",
              "      <th></th>\n",
              "      <th></th>\n",
              "      <th></th>\n",
              "      <th></th>\n",
              "      <th></th>\n",
              "      <th></th>\n",
              "      <th></th>\n",
              "      <th></th>\n",
              "      <th></th>\n",
              "      <th></th>\n",
              "      <th></th>\n",
              "    </tr>\n",
              "  </thead>\n",
              "  <tbody>\n",
              "    <tr>\n",
              "      <th>FDA15</th>\n",
              "      <td>9.30</td>\n",
              "      <td>Low Fat</td>\n",
              "      <td>0.016047</td>\n",
              "      <td>Dairy</td>\n",
              "      <td>249.8092</td>\n",
              "      <td>OUT049</td>\n",
              "      <td>1999</td>\n",
              "      <td>Medium</td>\n",
              "      <td>Tier 1</td>\n",
              "      <td>Supermarket Type1</td>\n",
              "      <td>3735.1380</td>\n",
              "    </tr>\n",
              "    <tr>\n",
              "      <th>DRC01</th>\n",
              "      <td>5.92</td>\n",
              "      <td>Regular</td>\n",
              "      <td>0.019278</td>\n",
              "      <td>Soft Drinks</td>\n",
              "      <td>48.2692</td>\n",
              "      <td>OUT018</td>\n",
              "      <td>2009</td>\n",
              "      <td>Medium</td>\n",
              "      <td>Tier 3</td>\n",
              "      <td>Supermarket Type2</td>\n",
              "      <td>443.4228</td>\n",
              "    </tr>\n",
              "    <tr>\n",
              "      <th>FDN15</th>\n",
              "      <td>17.50</td>\n",
              "      <td>Low Fat</td>\n",
              "      <td>0.016760</td>\n",
              "      <td>Meat</td>\n",
              "      <td>141.6180</td>\n",
              "      <td>OUT049</td>\n",
              "      <td>1999</td>\n",
              "      <td>Medium</td>\n",
              "      <td>Tier 1</td>\n",
              "      <td>Supermarket Type1</td>\n",
              "      <td>2097.2700</td>\n",
              "    </tr>\n",
              "    <tr>\n",
              "      <th>FDX07</th>\n",
              "      <td>19.20</td>\n",
              "      <td>Regular</td>\n",
              "      <td>0.000000</td>\n",
              "      <td>Fruits and Vegetables</td>\n",
              "      <td>182.0950</td>\n",
              "      <td>OUT010</td>\n",
              "      <td>1998</td>\n",
              "      <td>NaN</td>\n",
              "      <td>Tier 3</td>\n",
              "      <td>Grocery Store</td>\n",
              "      <td>732.3800</td>\n",
              "    </tr>\n",
              "    <tr>\n",
              "      <th>NCD19</th>\n",
              "      <td>8.93</td>\n",
              "      <td>Low Fat</td>\n",
              "      <td>0.000000</td>\n",
              "      <td>Household</td>\n",
              "      <td>53.8614</td>\n",
              "      <td>OUT013</td>\n",
              "      <td>1987</td>\n",
              "      <td>High</td>\n",
              "      <td>Tier 3</td>\n",
              "      <td>Supermarket Type1</td>\n",
              "      <td>994.7052</td>\n",
              "    </tr>\n",
              "  </tbody>\n",
              "</table>\n",
              "</div>\n",
              "      <button class=\"colab-df-convert\" onclick=\"convertToInteractive('df-376a8012-2d76-4285-851e-440bac204b77')\"\n",
              "              title=\"Convert this dataframe to an interactive table.\"\n",
              "              style=\"display:none;\">\n",
              "        \n",
              "  <svg xmlns=\"http://www.w3.org/2000/svg\" height=\"24px\"viewBox=\"0 0 24 24\"\n",
              "       width=\"24px\">\n",
              "    <path d=\"M0 0h24v24H0V0z\" fill=\"none\"/>\n",
              "    <path d=\"M18.56 5.44l.94 2.06.94-2.06 2.06-.94-2.06-.94-.94-2.06-.94 2.06-2.06.94zm-11 1L8.5 8.5l.94-2.06 2.06-.94-2.06-.94L8.5 2.5l-.94 2.06-2.06.94zm10 10l.94 2.06.94-2.06 2.06-.94-2.06-.94-.94-2.06-.94 2.06-2.06.94z\"/><path d=\"M17.41 7.96l-1.37-1.37c-.4-.4-.92-.59-1.43-.59-.52 0-1.04.2-1.43.59L10.3 9.45l-7.72 7.72c-.78.78-.78 2.05 0 2.83L4 21.41c.39.39.9.59 1.41.59.51 0 1.02-.2 1.41-.59l7.78-7.78 2.81-2.81c.8-.78.8-2.07 0-2.86zM5.41 20L4 18.59l7.72-7.72 1.47 1.35L5.41 20z\"/>\n",
              "  </svg>\n",
              "      </button>\n",
              "      \n",
              "  <style>\n",
              "    .colab-df-container {\n",
              "      display:flex;\n",
              "      flex-wrap:wrap;\n",
              "      gap: 12px;\n",
              "    }\n",
              "\n",
              "    .colab-df-convert {\n",
              "      background-color: #E8F0FE;\n",
              "      border: none;\n",
              "      border-radius: 50%;\n",
              "      cursor: pointer;\n",
              "      display: none;\n",
              "      fill: #1967D2;\n",
              "      height: 32px;\n",
              "      padding: 0 0 0 0;\n",
              "      width: 32px;\n",
              "    }\n",
              "\n",
              "    .colab-df-convert:hover {\n",
              "      background-color: #E2EBFA;\n",
              "      box-shadow: 0px 1px 2px rgba(60, 64, 67, 0.3), 0px 1px 3px 1px rgba(60, 64, 67, 0.15);\n",
              "      fill: #174EA6;\n",
              "    }\n",
              "\n",
              "    [theme=dark] .colab-df-convert {\n",
              "      background-color: #3B4455;\n",
              "      fill: #D2E3FC;\n",
              "    }\n",
              "\n",
              "    [theme=dark] .colab-df-convert:hover {\n",
              "      background-color: #434B5C;\n",
              "      box-shadow: 0px 1px 3px 1px rgba(0, 0, 0, 0.15);\n",
              "      filter: drop-shadow(0px 1px 2px rgba(0, 0, 0, 0.3));\n",
              "      fill: #FFFFFF;\n",
              "    }\n",
              "  </style>\n",
              "\n",
              "      <script>\n",
              "        const buttonEl =\n",
              "          document.querySelector('#df-376a8012-2d76-4285-851e-440bac204b77 button.colab-df-convert');\n",
              "        buttonEl.style.display =\n",
              "          google.colab.kernel.accessAllowed ? 'block' : 'none';\n",
              "\n",
              "        async function convertToInteractive(key) {\n",
              "          const element = document.querySelector('#df-376a8012-2d76-4285-851e-440bac204b77');\n",
              "          const dataTable =\n",
              "            await google.colab.kernel.invokeFunction('convertToInteractive',\n",
              "                                                     [key], {});\n",
              "          if (!dataTable) return;\n",
              "\n",
              "          const docLinkHtml = 'Like what you see? Visit the ' +\n",
              "            '<a target=\"_blank\" href=https://colab.research.google.com/notebooks/data_table.ipynb>data table notebook</a>'\n",
              "            + ' to learn more about interactive tables.';\n",
              "          element.innerHTML = '';\n",
              "          dataTable['output_type'] = 'display_data';\n",
              "          await google.colab.output.renderOutput(dataTable, element);\n",
              "          const docLink = document.createElement('div');\n",
              "          docLink.innerHTML = docLinkHtml;\n",
              "          element.appendChild(docLink);\n",
              "        }\n",
              "      </script>\n",
              "    </div>\n",
              "  </div>\n",
              "  "
            ]
          },
          "metadata": {},
          "execution_count": 3
        }
      ]
    },
    {
      "cell_type": "code",
      "source": [
        "df.info()"
      ],
      "metadata": {
        "colab": {
          "base_uri": "https://localhost:8080/"
        },
        "id": "Zytpi-iSxfnB",
        "outputId": "26e4a3d2-de92-463d-df91-d817395c9869"
      },
      "execution_count": 4,
      "outputs": [
        {
          "output_type": "stream",
          "name": "stdout",
          "text": [
            "<class 'pandas.core.frame.DataFrame'>\n",
            "Index: 8523 entries, FDA15 to DRG01\n",
            "Data columns (total 11 columns):\n",
            " #   Column                     Non-Null Count  Dtype  \n",
            "---  ------                     --------------  -----  \n",
            " 0   Item_Weight                7060 non-null   float64\n",
            " 1   Item_Fat_Content           8523 non-null   object \n",
            " 2   Item_Visibility            8523 non-null   float64\n",
            " 3   Item_Type                  8523 non-null   object \n",
            " 4   Item_MRP                   8523 non-null   float64\n",
            " 5   Outlet_Identifier          8523 non-null   object \n",
            " 6   Outlet_Establishment_Year  8523 non-null   int64  \n",
            " 7   Outlet_Size                6113 non-null   object \n",
            " 8   Outlet_Location_Type       8523 non-null   object \n",
            " 9   Outlet_Type                8523 non-null   object \n",
            " 10  Item_Outlet_Sales          8523 non-null   float64\n",
            "dtypes: float64(4), int64(1), object(6)\n",
            "memory usage: 799.0+ KB\n"
          ]
        }
      ]
    },
    {
      "cell_type": "markdown",
      "source": [
        "## Data Cleaning"
      ],
      "metadata": {
        "id": "ekARQyaZCx1Y"
      }
    },
    {
      "cell_type": "code",
      "source": [
        "# 1) How many rows and columns?\n",
        "num_cols,num_rows = df.shape\n",
        "print(f\"Number of Columns: {num_cols}, Number or rows: {num_rows}\")"
      ],
      "metadata": {
        "id": "S_DzIDKzDM2K",
        "colab": {
          "base_uri": "https://localhost:8080/"
        },
        "outputId": "a3cb7182-db58-4d71-896d-ff4054a78ec6"
      },
      "execution_count": 5,
      "outputs": [
        {
          "output_type": "stream",
          "name": "stdout",
          "text": [
            "Number of Columns: 8523, Number or rows: 11\n"
          ]
        }
      ]
    },
    {
      "cell_type": "code",
      "source": [
        "# 2) What are the datatypes of each variable?\n",
        "df.dtypes"
      ],
      "metadata": {
        "colab": {
          "base_uri": "https://localhost:8080/"
        },
        "id": "FeufKImQycsk",
        "outputId": "4c1c942a-9e4f-4109-ef13-c2653aff39cc"
      },
      "execution_count": 6,
      "outputs": [
        {
          "output_type": "execute_result",
          "data": {
            "text/plain": [
              "Item_Weight                  float64\n",
              "Item_Fat_Content              object\n",
              "Item_Visibility              float64\n",
              "Item_Type                     object\n",
              "Item_MRP                     float64\n",
              "Outlet_Identifier             object\n",
              "Outlet_Establishment_Year      int64\n",
              "Outlet_Size                   object\n",
              "Outlet_Location_Type          object\n",
              "Outlet_Type                   object\n",
              "Item_Outlet_Sales            float64\n",
              "dtype: object"
            ]
          },
          "metadata": {},
          "execution_count": 6
        }
      ]
    },
    {
      "cell_type": "code",
      "source": [
        "# Are there duplicates? If so, drop any duplicates.\n",
        "dups = df.duplicated().sum()\n",
        "print(f\"Number of duplicates: {dups}\")"
      ],
      "metadata": {
        "colab": {
          "base_uri": "https://localhost:8080/"
        },
        "id": "Dvm4gHldycpA",
        "outputId": "edb32f73-12c2-4be7-c7f9-141b6becae7c"
      },
      "execution_count": 7,
      "outputs": [
        {
          "output_type": "stream",
          "name": "stdout",
          "text": [
            "Number of duplicates: 0\n"
          ]
        }
      ]
    },
    {
      "cell_type": "code",
      "source": [
        "# 4) Identify missing values.\n",
        "total_missing_series = df.isna().sum()\n",
        "total_missing_series_idx = df.isna().sum().index\n",
        "total_cols = len(total_missing_series_idx )\n",
        "\n",
        "for i in range(total_cols):\n",
        "  if total_missing_series[i] > 0:\n",
        "    print(f\"Row index {total_missing_series_idx[i]}, number of missing {total_missing_series[i]}\")"
      ],
      "metadata": {
        "colab": {
          "base_uri": "https://localhost:8080/"
        },
        "id": "fXr1Zs7Cyckk",
        "outputId": "7296d83a-b8e5-40d2-fcc2-8ada2c8fb35e"
      },
      "execution_count": 8,
      "outputs": [
        {
          "output_type": "stream",
          "name": "stdout",
          "text": [
            "Row index Item_Weight, number of missing 1463\n",
            "Row index Outlet_Size, number of missing 2410\n"
          ]
        }
      ]
    },
    {
      "cell_type": "code",
      "source": [
        "# Inputing missing data for Item_Weight with the column average, as the data type is a float\n",
        "df['Item_Weight'].fillna(value = df['Item_Weight'].mean(), inplace = True)\n",
        "\n",
        "#Dropping Outlet_Size, the misssing values are >5% and this column should not affect the food sales prediction\n",
        "\n",
        "df.drop(columns=['Outlet_Size'],inplace=True)\n",
        "\n"
      ],
      "metadata": {
        "id": "Sn5z5oviycSD"
      },
      "execution_count": 9,
      "outputs": []
    },
    {
      "cell_type": "code",
      "source": [
        "# 6) Confirm that there are no missing values after addressing them.\n",
        "print(f\"Are All missing values removed? {df.isna().sum().sum()==0}\")"
      ],
      "metadata": {
        "colab": {
          "base_uri": "https://localhost:8080/"
        },
        "id": "jSc_dtJc8Vb4",
        "outputId": "b89ab7e0-c8bb-4ceb-9fdf-e30a48909363"
      },
      "execution_count": 10,
      "outputs": [
        {
          "output_type": "stream",
          "name": "stdout",
          "text": [
            "Are All missing values removed? True\n"
          ]
        }
      ]
    },
    {
      "cell_type": "code",
      "source": [
        "# 7) Find and fix any inconsistent categories of data \n",
        "## Item_Fat_Content\n",
        "\n",
        "df['Item_Fat_Content'].unique()"
      ],
      "metadata": {
        "colab": {
          "base_uri": "https://localhost:8080/"
        },
        "id": "7SM1aOCr8VUE",
        "outputId": "73eb0546-5012-4c26-d55e-8f2a279b5a7b"
      },
      "execution_count": 11,
      "outputs": [
        {
          "output_type": "execute_result",
          "data": {
            "text/plain": [
              "array(['Low Fat', 'Regular', 'low fat', 'LF', 'reg'], dtype=object)"
            ]
          },
          "metadata": {},
          "execution_count": 11
        }
      ]
    },
    {
      "cell_type": "code",
      "source": [
        "#Repalcing inconsisten values: 'low fat', 'LF', 'reg'\n",
        "df.replace({'low fat': 'Low Fat',\n",
        "            'LF': 'Low Fat',\n",
        "            'reg':'Regular'}, inplace = True)"
      ],
      "metadata": {
        "id": "S_JiCZQNAJ1o"
      },
      "execution_count": 12,
      "outputs": []
    },
    {
      "cell_type": "code",
      "source": [
        "#Cheking everything is OK!\n",
        "\n",
        "df['Item_Fat_Content'].unique()"
      ],
      "metadata": {
        "colab": {
          "base_uri": "https://localhost:8080/"
        },
        "id": "BQaDppR9Bbhp",
        "outputId": "64b0fca3-7813-4a40-9151-cd35337b0f35"
      },
      "execution_count": 13,
      "outputs": [
        {
          "output_type": "execute_result",
          "data": {
            "text/plain": [
              "array(['Low Fat', 'Regular'], dtype=object)"
            ]
          },
          "metadata": {},
          "execution_count": 13
        }
      ]
    },
    {
      "cell_type": "code",
      "source": [
        "## Fixing Data Type for Outlet_Establishment_Year from float64 to datetime64\n",
        "\n",
        "df['Outlet_Establishment_Year'] = pd.to_datetime(df['Outlet_Establishment_Year'])"
      ],
      "metadata": {
        "id": "Tgd2ZLj_Brc3"
      },
      "execution_count": 14,
      "outputs": []
    },
    {
      "cell_type": "code",
      "source": [
        "#8) For any numerical columns, obtain the summary statistics of each (min, max, mean).\n",
        "df.describe()"
      ],
      "metadata": {
        "colab": {
          "base_uri": "https://localhost:8080/",
          "height": 300
        },
        "id": "8LhikhHsBrZy",
        "outputId": "52438661-9e91-4b15-edb1-47c6ed765c3b"
      },
      "execution_count": 15,
      "outputs": [
        {
          "output_type": "execute_result",
          "data": {
            "text/plain": [
              "       Item_Weight  Item_Visibility     Item_MRP  Item_Outlet_Sales\n",
              "count  8523.000000      8523.000000  8523.000000        8523.000000\n",
              "mean     12.857645         0.066132   140.992782        2181.288914\n",
              "std       4.226124         0.051598    62.275067        1706.499616\n",
              "min       4.555000         0.000000    31.290000          33.290000\n",
              "25%       9.310000         0.026989    93.826500         834.247400\n",
              "50%      12.857645         0.053931   143.012800        1794.331000\n",
              "75%      16.000000         0.094585   185.643700        3101.296400\n",
              "max      21.350000         0.328391   266.888400       13086.964800"
            ],
            "text/html": [
              "\n",
              "  <div id=\"df-497383b3-e892-4096-8161-57ef76941a1b\">\n",
              "    <div class=\"colab-df-container\">\n",
              "      <div>\n",
              "<style scoped>\n",
              "    .dataframe tbody tr th:only-of-type {\n",
              "        vertical-align: middle;\n",
              "    }\n",
              "\n",
              "    .dataframe tbody tr th {\n",
              "        vertical-align: top;\n",
              "    }\n",
              "\n",
              "    .dataframe thead th {\n",
              "        text-align: right;\n",
              "    }\n",
              "</style>\n",
              "<table border=\"1\" class=\"dataframe\">\n",
              "  <thead>\n",
              "    <tr style=\"text-align: right;\">\n",
              "      <th></th>\n",
              "      <th>Item_Weight</th>\n",
              "      <th>Item_Visibility</th>\n",
              "      <th>Item_MRP</th>\n",
              "      <th>Item_Outlet_Sales</th>\n",
              "    </tr>\n",
              "  </thead>\n",
              "  <tbody>\n",
              "    <tr>\n",
              "      <th>count</th>\n",
              "      <td>8523.000000</td>\n",
              "      <td>8523.000000</td>\n",
              "      <td>8523.000000</td>\n",
              "      <td>8523.000000</td>\n",
              "    </tr>\n",
              "    <tr>\n",
              "      <th>mean</th>\n",
              "      <td>12.857645</td>\n",
              "      <td>0.066132</td>\n",
              "      <td>140.992782</td>\n",
              "      <td>2181.288914</td>\n",
              "    </tr>\n",
              "    <tr>\n",
              "      <th>std</th>\n",
              "      <td>4.226124</td>\n",
              "      <td>0.051598</td>\n",
              "      <td>62.275067</td>\n",
              "      <td>1706.499616</td>\n",
              "    </tr>\n",
              "    <tr>\n",
              "      <th>min</th>\n",
              "      <td>4.555000</td>\n",
              "      <td>0.000000</td>\n",
              "      <td>31.290000</td>\n",
              "      <td>33.290000</td>\n",
              "    </tr>\n",
              "    <tr>\n",
              "      <th>25%</th>\n",
              "      <td>9.310000</td>\n",
              "      <td>0.026989</td>\n",
              "      <td>93.826500</td>\n",
              "      <td>834.247400</td>\n",
              "    </tr>\n",
              "    <tr>\n",
              "      <th>50%</th>\n",
              "      <td>12.857645</td>\n",
              "      <td>0.053931</td>\n",
              "      <td>143.012800</td>\n",
              "      <td>1794.331000</td>\n",
              "    </tr>\n",
              "    <tr>\n",
              "      <th>75%</th>\n",
              "      <td>16.000000</td>\n",
              "      <td>0.094585</td>\n",
              "      <td>185.643700</td>\n",
              "      <td>3101.296400</td>\n",
              "    </tr>\n",
              "    <tr>\n",
              "      <th>max</th>\n",
              "      <td>21.350000</td>\n",
              "      <td>0.328391</td>\n",
              "      <td>266.888400</td>\n",
              "      <td>13086.964800</td>\n",
              "    </tr>\n",
              "  </tbody>\n",
              "</table>\n",
              "</div>\n",
              "      <button class=\"colab-df-convert\" onclick=\"convertToInteractive('df-497383b3-e892-4096-8161-57ef76941a1b')\"\n",
              "              title=\"Convert this dataframe to an interactive table.\"\n",
              "              style=\"display:none;\">\n",
              "        \n",
              "  <svg xmlns=\"http://www.w3.org/2000/svg\" height=\"24px\"viewBox=\"0 0 24 24\"\n",
              "       width=\"24px\">\n",
              "    <path d=\"M0 0h24v24H0V0z\" fill=\"none\"/>\n",
              "    <path d=\"M18.56 5.44l.94 2.06.94-2.06 2.06-.94-2.06-.94-.94-2.06-.94 2.06-2.06.94zm-11 1L8.5 8.5l.94-2.06 2.06-.94-2.06-.94L8.5 2.5l-.94 2.06-2.06.94zm10 10l.94 2.06.94-2.06 2.06-.94-2.06-.94-.94-2.06-.94 2.06-2.06.94z\"/><path d=\"M17.41 7.96l-1.37-1.37c-.4-.4-.92-.59-1.43-.59-.52 0-1.04.2-1.43.59L10.3 9.45l-7.72 7.72c-.78.78-.78 2.05 0 2.83L4 21.41c.39.39.9.59 1.41.59.51 0 1.02-.2 1.41-.59l7.78-7.78 2.81-2.81c.8-.78.8-2.07 0-2.86zM5.41 20L4 18.59l7.72-7.72 1.47 1.35L5.41 20z\"/>\n",
              "  </svg>\n",
              "      </button>\n",
              "      \n",
              "  <style>\n",
              "    .colab-df-container {\n",
              "      display:flex;\n",
              "      flex-wrap:wrap;\n",
              "      gap: 12px;\n",
              "    }\n",
              "\n",
              "    .colab-df-convert {\n",
              "      background-color: #E8F0FE;\n",
              "      border: none;\n",
              "      border-radius: 50%;\n",
              "      cursor: pointer;\n",
              "      display: none;\n",
              "      fill: #1967D2;\n",
              "      height: 32px;\n",
              "      padding: 0 0 0 0;\n",
              "      width: 32px;\n",
              "    }\n",
              "\n",
              "    .colab-df-convert:hover {\n",
              "      background-color: #E2EBFA;\n",
              "      box-shadow: 0px 1px 2px rgba(60, 64, 67, 0.3), 0px 1px 3px 1px rgba(60, 64, 67, 0.15);\n",
              "      fill: #174EA6;\n",
              "    }\n",
              "\n",
              "    [theme=dark] .colab-df-convert {\n",
              "      background-color: #3B4455;\n",
              "      fill: #D2E3FC;\n",
              "    }\n",
              "\n",
              "    [theme=dark] .colab-df-convert:hover {\n",
              "      background-color: #434B5C;\n",
              "      box-shadow: 0px 1px 3px 1px rgba(0, 0, 0, 0.15);\n",
              "      filter: drop-shadow(0px 1px 2px rgba(0, 0, 0, 0.3));\n",
              "      fill: #FFFFFF;\n",
              "    }\n",
              "  </style>\n",
              "\n",
              "      <script>\n",
              "        const buttonEl =\n",
              "          document.querySelector('#df-497383b3-e892-4096-8161-57ef76941a1b button.colab-df-convert');\n",
              "        buttonEl.style.display =\n",
              "          google.colab.kernel.accessAllowed ? 'block' : 'none';\n",
              "\n",
              "        async function convertToInteractive(key) {\n",
              "          const element = document.querySelector('#df-497383b3-e892-4096-8161-57ef76941a1b');\n",
              "          const dataTable =\n",
              "            await google.colab.kernel.invokeFunction('convertToInteractive',\n",
              "                                                     [key], {});\n",
              "          if (!dataTable) return;\n",
              "\n",
              "          const docLinkHtml = 'Like what you see? Visit the ' +\n",
              "            '<a target=\"_blank\" href=https://colab.research.google.com/notebooks/data_table.ipynb>data table notebook</a>'\n",
              "            + ' to learn more about interactive tables.';\n",
              "          element.innerHTML = '';\n",
              "          dataTable['output_type'] = 'display_data';\n",
              "          await google.colab.output.renderOutput(dataTable, element);\n",
              "          const docLink = document.createElement('div');\n",
              "          docLink.innerHTML = docLinkHtml;\n",
              "          element.appendChild(docLink);\n",
              "        }\n",
              "      </script>\n",
              "    </div>\n",
              "  </div>\n",
              "  "
            ]
          },
          "metadata": {},
          "execution_count": 15
        }
      ]
    },
    {
      "cell_type": "markdown",
      "source": [
        "# Project 1 - Part 3"
      ],
      "metadata": {
        "id": "0-aK3Hu7GoTd"
      }
    },
    {
      "cell_type": "markdown",
      "source": [
        "The goal of this third part  is to understand the data as it relates to the products and outlets that play crucial roles in increasing sales. I will complete any statistical analyses that might help you to understand, explain, or model with your data. The following is inckuded:\n",
        "\n",
        "- Histogram to view the distributions of various features in your dataset.\n",
        "- Boxplot to view statistical summaries of various features in your dataset.\n",
        "- Heatmap of the correlation between features.\n"
      ],
      "metadata": {
        "id": "TWGGFfJDHcVz"
      }
    },
    {
      "cell_type": "markdown",
      "source": [
        "## Exploratory Visuals"
      ],
      "metadata": {
        "id": "_eGkbj4rDEi8"
      }
    },
    {
      "cell_type": "markdown",
      "source": [
        "- Approaches\n",
        "We will go Column-by-Column with the EDA using a function (plus markdown interpretations for each)"
      ],
      "metadata": {
        "id": "mWzPpS8Kyi8R"
      }
    },
    {
      "cell_type": "code",
      "source": [
        "# Checking info again\n",
        "df.info()\n",
        "\n",
        "# Converting back Outlet_Establishment_Year form datetime to int64\n",
        "df = df.astype({'Outlet_Establishment_Year': 'int'})\n"
      ],
      "metadata": {
        "id": "rczPWtB3DNXg",
        "outputId": "20c433df-39f4-4b67-caf8-7210751a856e",
        "colab": {
          "base_uri": "https://localhost:8080/"
        }
      },
      "execution_count": 16,
      "outputs": [
        {
          "output_type": "stream",
          "name": "stdout",
          "text": [
            "<class 'pandas.core.frame.DataFrame'>\n",
            "Index: 8523 entries, FDA15 to DRG01\n",
            "Data columns (total 10 columns):\n",
            " #   Column                     Non-Null Count  Dtype         \n",
            "---  ------                     --------------  -----         \n",
            " 0   Item_Weight                8523 non-null   float64       \n",
            " 1   Item_Fat_Content           8523 non-null   object        \n",
            " 2   Item_Visibility            8523 non-null   float64       \n",
            " 3   Item_Type                  8523 non-null   object        \n",
            " 4   Item_MRP                   8523 non-null   float64       \n",
            " 5   Outlet_Identifier          8523 non-null   object        \n",
            " 6   Outlet_Establishment_Year  8523 non-null   datetime64[ns]\n",
            " 7   Outlet_Location_Type       8523 non-null   object        \n",
            " 8   Outlet_Type                8523 non-null   object        \n",
            " 9   Item_Outlet_Sales          8523 non-null   float64       \n",
            "dtypes: datetime64[ns](1), float64(4), object(5)\n",
            "memory usage: 732.4+ KB\n"
          ]
        },
        {
          "output_type": "stream",
          "name": "stderr",
          "text": [
            "<ipython-input-16-acef1667732d>:5: FutureWarning: casting datetime64[ns] values to int64 with .astype(...) is deprecated and will raise in a future version. Use .view(...) instead.\n",
            "  df = df.astype({'Outlet_Establishment_Year': 'int'})\n"
          ]
        }
      ]
    },
    {
      "cell_type": "markdown",
      "source": [
        "- For each numeric feature, we will plot the distribution and a boxplot."
      ],
      "metadata": {
        "id": "_h2WSLY2y7x7"
      }
    },
    {
      "cell_type": "code",
      "source": [
        "# Helper Function\n",
        "def print_num_cols(df):\n",
        "  num_columns = df.select_dtypes('number').columns\n",
        "  return list(num_columns)"
      ],
      "metadata": {
        "id": "ca_raD-gRvRH"
      },
      "execution_count": 17,
      "outputs": []
    },
    {
      "cell_type": "code",
      "source": [
        "print_num_cols(df)"
      ],
      "metadata": {
        "colab": {
          "base_uri": "https://localhost:8080/"
        },
        "id": "HbwmDpsZcR4O",
        "outputId": "d9f48775-dc7d-402a-9f07-a3283acd5003"
      },
      "execution_count": 18,
      "outputs": [
        {
          "output_type": "execute_result",
          "data": {
            "text/plain": [
              "['Item_Weight',\n",
              " 'Item_Visibility',\n",
              " 'Item_MRP',\n",
              " 'Outlet_Establishment_Year',\n",
              " 'Item_Outlet_Sales']"
            ]
          },
          "metadata": {},
          "execution_count": 18
        }
      ]
    },
    {
      "cell_type": "markdown",
      "source": [
        "## 1. EDA Using Loops"
      ],
      "metadata": {
        "id": "wRwm60qvzA0e"
      }
    },
    {
      "cell_type": "markdown",
      "source": [
        "## Column-by-Column EDA using a function (plus markdown interpretations for each)"
      ],
      "metadata": {
        "id": "mtrnqmh6zKjS"
      }
    },
    {
      "cell_type": "markdown",
      "source": [
        "- Below, I chose to visual all columns:`Item_Outlet_Sales`, `Item_Visibility`, `Item_MRP` and `Item_Weight`.\n",
        "\n",
        "`Item_MRP`: The retail price is relevant to the sales predition, as it makes it more accessible to all buyers.\n",
        "\n",
        "`Item_Visibility`: The onsite marketing will include the items the buyers select, helping his sales.\n",
        "\n",
        "`Item_Outlet_Sales`: include as it is the variable to be predicted.\n",
        "\n",
        "`Item_Weight`: This feature might not affect the analysis/predition, but I am curious to see if so. "
      ],
      "metadata": {
        "id": "vvZsIpQmzRMl"
      }
    },
    {
      "cell_type": "code",
      "source": [
        " # Source : https://github.com/coding-dojo-data-science/Project1_Exemplar/blob/main/DS_Salaries.ipynb\n",
        "\n",
        "def plot_numeric(df,col):\n",
        "  \"\"\"EDA function to plot a histogram and boxplot for the selected column\"\"\"\n",
        "  ## make the figure and axes sharing the same x-axis\n",
        "  fig, axes = plt.subplots(nrows=2, figsize=(10,5), sharex=True)\n",
        "\n",
        "  ## Use seaborn plots with ax=axes[i]\n",
        "  sns.histplot(data=df,x = col,ax = axes[0])\n",
        "  mean_value = df[col].mean()\n",
        "  axes[0].axvline(mean_value,color='red', ls='--', \n",
        "           label=f\"Mean Value = ${mean_value:,.2f}\",);\n",
        "\n",
        "  med_value = df[col].median()\n",
        "  axes[0].axvline(med_value,color='black', ls='--', \n",
        "           label=f\"Median Value = ${med_value:,.2f}\");\n",
        "\n",
        "\n",
        "  sns.boxplot(data=df, x = col, ax = axes[1])\n",
        "\n",
        "  ## Updating title of top graph \n",
        "  axes[0].set_title(f'EDA for {col}')\n",
        "\n",
        "  ## Fixing any overlapping labels and showing\n",
        "  plt.tight_layout()\n",
        "  plt.show()"
      ],
      "metadata": {
        "id": "BrbbI7-7Qrxg"
      },
      "execution_count": 19,
      "outputs": []
    },
    {
      "cell_type": "code",
      "source": [
        "df_no_index = df.reset_index()\n",
        "plot_numeric(df_no_index,'Item_MRP')"
      ],
      "metadata": {
        "id": "LbelEEJWtKT6",
        "colab": {
          "base_uri": "https://localhost:8080/",
          "height": 369
        },
        "outputId": "a12d1b45-dc77-4b8f-930a-c148ef999c1f"
      },
      "execution_count": 20,
      "outputs": [
        {
          "output_type": "display_data",
          "data": {
            "text/plain": [
              "<Figure size 720x360 with 2 Axes>"
            ],
            "image/png": "[encoded data removed]"
          },
          "metadata": {
            "needs_background": "light"
          }
        }
      ]
    },
    {
      "cell_type": "markdown",
      "source": [
        "To comment"
      ],
      "metadata": {
        "id": "ecfuu2ohX7Bb"
      }
    },
    {
      "cell_type": "code",
      "source": [
        "plot_numeric(df_no_index,'Item_Visibility')"
      ],
      "metadata": {
        "colab": {
          "base_uri": "https://localhost:8080/",
          "height": 369
        },
        "id": "0MGeLHbAUezZ",
        "outputId": "cddf4753-0f87-45ba-e78a-339b22d41a26"
      },
      "execution_count": 21,
      "outputs": [
        {
          "output_type": "display_data",
          "data": {
            "text/plain": [
              "<Figure size 720x360 with 2 Axes>"
            ],
            "image/png": "[encoded data removed]"
          },
          "metadata": {
            "needs_background": "light"
          }
        }
      ]
    },
    {
      "cell_type": "markdown",
      "source": [
        "Several outliers items with> 20% total display, and I am keeping them as they have a better chance of being sold. The rest is within the 75th percentile"
      ],
      "metadata": {
        "id": "nJ7ERcAGX_Rj"
      }
    },
    {
      "cell_type": "code",
      "source": [
        "plot_numeric(df_no_index,'Item_Weight')"
      ],
      "metadata": {
        "colab": {
          "base_uri": "https://localhost:8080/",
          "height": 369
        },
        "id": "gh-WIr1rWy1T",
        "outputId": "bb87e734-7729-4739-f2e9-7492e4970b32"
      },
      "execution_count": 22,
      "outputs": [
        {
          "output_type": "display_data",
          "data": {
            "text/plain": [
              "<Figure size 720x360 with 2 Axes>"
            ],
            "image/png": "[encoded data removed]"
          },
          "metadata": {
            "needs_background": "light"
          }
        }
      ]
    },
    {
      "cell_type": "markdown",
      "source": [
        "The mayority weight is ~12.5, there is not outliers"
      ],
      "metadata": {
        "id": "bFjzxVT3YFHa"
      }
    },
    {
      "cell_type": "markdown",
      "source": [
        "### Visualizing with Barplots\n",
        "- We will view the categorical counts of all of the object type columns and visualize this information with a barplot. "
      ],
      "metadata": {
        "id": "3mZl6fyyYhm_"
      }
    },
    {
      "cell_type": "code",
      "source": [
        "## Source : https://github.com/coding-dojo-data-science/Project1_Exemplar/blob/main/DS_Salaries.ipynb\n",
        "## functionize a barplot and call it plot_bar\n",
        "\n",
        "def plot_bar(data,x, y, figsize=(20,5)):\n",
        "    ## Make a larger fig/ax before plotting\n",
        "    fig, ax = plt.subplots(figsize=figsize)\n",
        "\n",
        "    ## Plot barplot\n",
        "    \n",
        "    ## counts, counts up the categories, sort the values, then puts them in a \n",
        "    ## data frame.\n",
        "    \n",
        "    counts = df[x].value_counts().sort_values(ascending=False).to_frame()\n",
        "    ## ploting the barplot\n",
        "\n",
        "    sns.barplot(data=counts,x=counts.index, y = counts[x],ax=ax)\n",
        "\n",
        "    plt.xticks(rotation= 90)\n",
        "    ax.set_title(f'Categorical Frequencies of {y}', fontsize = 20, fontweight = 'bold');\n",
        "    ax.set_xlabel(f'Categories for {y}', fontsize = 15, fontweight = 'bold')\n",
        "    ax.set_ylabel('Counts', fontsize = 15, fontweight = 'bold')\n",
        "\n",
        "    return fig,ax"
      ],
      "metadata": {
        "id": "0x3eq-9AYkPB"
      },
      "execution_count": 23,
      "outputs": []
    },
    {
      "cell_type": "code",
      "source": [
        "## Helper Funtion\n",
        "def print_obj_cols(df):\n",
        "  obj_columns = df.select_dtypes('object').columns\n",
        "  print(f\"\"\"Dataset numeric columns count:\n",
        "            {list(obj_columns)}\"\"\")"
      ],
      "metadata": {
        "id": "GdnDtpS0ZhWW"
      },
      "execution_count": 24,
      "outputs": []
    },
    {
      "cell_type": "code",
      "source": [
        "print_obj_cols(df)"
      ],
      "metadata": {
        "colab": {
          "base_uri": "https://localhost:8080/"
        },
        "id": "bVcKc2mPb02O",
        "outputId": "31a099f5-c402-4713-96b1-2c22aa3887a5"
      },
      "execution_count": 25,
      "outputs": [
        {
          "output_type": "stream",
          "name": "stdout",
          "text": [
            "Dataset numeric columns count:\n",
            "            ['Item_Fat_Content', 'Item_Type', 'Outlet_Identifier', 'Outlet_Location_Type', 'Outlet_Type']\n"
          ]
        }
      ]
    },
    {
      "cell_type": "code",
      "source": [
        "fig, ax = plot_bar(df, 'Item_Fat_Content', 'Item Fat Content');\n",
        "print(df['Item_Fat_Content'].value_counts())"
      ],
      "metadata": {
        "colab": {
          "base_uri": "https://localhost:8080/",
          "height": 0
        },
        "id": "EEOL6T5bZC4W",
        "outputId": "d156a84f-50ed-4fa6-9091-7d3fd3fd3079"
      },
      "execution_count": 26,
      "outputs": [
        {
          "output_type": "stream",
          "name": "stdout",
          "text": [
            "Low Fat    5517\n",
            "Regular    3006\n",
            "Name: Item_Fat_Content, dtype: int64\n"
          ]
        },
        {
          "output_type": "display_data",
          "data": {
            "text/plain": [
              "<Figure size 1440x360 with 1 Axes>"
            ],
            "image/png": "[encoded data removed]"
          },
          "metadata": {
            "needs_background": "light"
          }
        }
      ]
    },
    {
      "cell_type": "markdown",
      "source": [
        "There are more Low Fat items; it could get a better chance of getting sold"
      ],
      "metadata": {
        "id": "XIJEX2e7YxEH"
      }
    },
    {
      "cell_type": "code",
      "source": [
        "fig, ax = plot_bar(df, 'Item_Type', 'Item Type');\n",
        "print(df['Item_Type'].value_counts())"
      ],
      "metadata": {
        "colab": {
          "base_uri": "https://localhost:8080/",
          "height": 0
        },
        "id": "Q9hdb22pZ2Is",
        "outputId": "bbcd505f-757a-4c41-8217-4c18caa68b78"
      },
      "execution_count": 27,
      "outputs": [
        {
          "output_type": "stream",
          "name": "stdout",
          "text": [
            "Fruits and Vegetables    1232\n",
            "Snack Foods              1200\n",
            "Household                 910\n",
            "Frozen Foods              856\n",
            "Dairy                     682\n",
            "Canned                    649\n",
            "Baking Goods              648\n",
            "Health and Hygiene        520\n",
            "Soft Drinks               445\n",
            "Meat                      425\n",
            "Breads                    251\n",
            "Hard Drinks               214\n",
            "Others                    169\n",
            "Starchy Foods             148\n",
            "Breakfast                 110\n",
            "Seafood                    64\n",
            "Name: Item_Type, dtype: int64\n"
          ]
        },
        {
          "output_type": "display_data",
          "data": {
            "text/plain": [
              "<Figure size 1440x360 with 1 Axes>"
            ],
            "image/png": "[encoded data removed]"
          },
          "metadata": {
            "needs_background": "light"
          }
        }
      ]
    },
    {
      "cell_type": "markdown",
      "source": [
        "Most items are fruits/Veggies & snacks, and Seafood a the fewer ones."
      ],
      "metadata": {
        "id": "vHU4H6AtaYDG"
      }
    },
    {
      "cell_type": "code",
      "source": [
        "fig, ax = plot_bar(df, 'Outlet_Identifier', 'Outlet Identifier');\n",
        "print(df['Outlet_Identifier'].value_counts())"
      ],
      "metadata": {
        "colab": {
          "base_uri": "https://localhost:8080/",
          "height": 0
        },
        "id": "8G-WimgVZ10y",
        "outputId": "cd0b0d29-4836-4654-e703-abb81db4e71e"
      },
      "execution_count": 28,
      "outputs": [
        {
          "output_type": "stream",
          "name": "stdout",
          "text": [
            "OUT027    935\n",
            "OUT013    932\n",
            "OUT049    930\n",
            "OUT046    930\n",
            "OUT035    930\n",
            "OUT045    929\n",
            "OUT018    928\n",
            "OUT017    926\n",
            "OUT010    555\n",
            "OUT019    528\n",
            "Name: Outlet_Identifier, dtype: int64\n"
          ]
        },
        {
          "output_type": "display_data",
          "data": {
            "text/plain": [
              "<Figure size 1440x360 with 1 Axes>"
            ],
            "image/png": "[encoded data removed]"
          },
          "metadata": {
            "needs_background": "light"
          }
        }
      ]
    },
    {
      "cell_type": "markdown",
      "source": [
        "Mostly of the stores offers ~900 counts, but 10 and 19"
      ],
      "metadata": {
        "id": "1ytRtsVhepko"
      }
    },
    {
      "cell_type": "code",
      "source": [
        "# Barplot with seaborn\n",
        "sns.barplot(data=df, y='Item_Type', x='Item_MRP');"
      ],
      "metadata": {
        "colab": {
          "base_uri": "https://localhost:8080/",
          "height": 0
        },
        "id": "EAGl68pfBVxx",
        "outputId": "912342c3-e840-4e64-fb99-11dab0dab5f2"
      },
      "execution_count": 29,
      "outputs": [
        {
          "output_type": "display_data",
          "data": {
            "text/plain": [
              "<Figure size 432x288 with 1 Axes>"
            ],
            "image/png": "[encoded data removed]"
          },
          "metadata": {
            "needs_background": "light"
          }
        }
      ]
    },
    {
      "cell_type": "markdown",
      "source": [
        "The MRP is about the same between all items"
      ],
      "metadata": {
        "id": "usv9sPH1vTdk"
      }
    },
    {
      "cell_type": "code",
      "source": [
        "# Barplot with seaborn\n",
        "sns.barplot(data=df, y='Item_Type', x='Item_Outlet_Sales');"
      ],
      "metadata": {
        "id": "1bg6zafiB1tH",
        "outputId": "b47202c1-9f5f-4806-f8cb-a89061c7d075",
        "colab": {
          "base_uri": "https://localhost:8080/",
          "height": 0
        }
      },
      "execution_count": 30,
      "outputs": [
        {
          "output_type": "display_data",
          "data": {
            "text/plain": [
              "<Figure size 432x288 with 1 Axes>"
            ],
            "image/png": "[encoded data removed]"
          },
          "metadata": {
            "needs_background": "light"
          }
        }
      ]
    },
    {
      "cell_type": "markdown",
      "source": [
        "Seafood and Starchy have higher Sales, and baking & Soft has lowest"
      ],
      "metadata": {
        "id": "ZhvlWCV-ve3N"
      }
    },
    {
      "cell_type": "markdown",
      "source": [
        "### EDA for Correlated Features"
      ],
      "metadata": {
        "id": "mxsvxdmJc0nr"
      }
    },
    {
      "cell_type": "code",
      "source": [
        "plt.figure(figsize=(10,10))\n",
        "sns.heatmap(df.corr(),annot=True,cmap='Blues');"
      ],
      "metadata": {
        "id": "DXfuOHbvh4Fk",
        "outputId": "250031b9-ecd5-4614-cfa6-b7d4509a0764",
        "colab": {
          "base_uri": "https://localhost:8080/",
          "height": 719
        }
      },
      "execution_count": 31,
      "outputs": [
        {
          "output_type": "display_data",
          "data": {
            "text/plain": [
              "<Figure size 720x720 with 2 Axes>"
            ],
            "image/png": "[encoded data removed]"
          },
          "metadata": {
            "needs_background": "light"
          }
        }
      ]
    },
    {
      "cell_type": "markdown",
      "source": [
        "There is a moderate correlatiom between Item_MRP and Item_Outlet_Sales"
      ],
      "metadata": {
        "id": "HM9AhKaq2Hdk"
      }
    },
    {
      "cell_type": "markdown",
      "source": [
        "# Project 1 - Part 4"
      ],
      "metadata": {
        "id": "JJPSgJxsGwv9"
      }
    },
    {
      "cell_type": "markdown",
      "source": [
        "## Explanatory Visuals"
      ],
      "metadata": {
        "id": "SgyFyi0gDG-4"
      }
    },
    {
      "cell_type": "markdown",
      "source": [
        "### Possible Questions to Answer:\n",
        "  1. Which products sell the most?\n",
        "  2. Which products sell the most by fat content?\n",
        "  3. Which products sell the most by visibility?\n",
        "  4. Which store has better sales?\n",
        "  5. Which store sells more by establishment year?.\n",
        "  6. Stores sells by location type"
      ],
      "metadata": {
        "id": "Wwvf1rsX1Mvc"
      }
    },
    {
      "cell_type": "code",
      "source": [
        "df.info()"
      ],
      "metadata": {
        "id": "QaFonZQJDN3A",
        "colab": {
          "base_uri": "https://localhost:8080/"
        },
        "outputId": "664364b0-2ca4-405c-839a-452612fcd120"
      },
      "execution_count": 32,
      "outputs": [
        {
          "output_type": "stream",
          "name": "stdout",
          "text": [
            "<class 'pandas.core.frame.DataFrame'>\n",
            "Index: 8523 entries, FDA15 to DRG01\n",
            "Data columns (total 10 columns):\n",
            " #   Column                     Non-Null Count  Dtype  \n",
            "---  ------                     --------------  -----  \n",
            " 0   Item_Weight                8523 non-null   float64\n",
            " 1   Item_Fat_Content           8523 non-null   object \n",
            " 2   Item_Visibility            8523 non-null   float64\n",
            " 3   Item_Type                  8523 non-null   object \n",
            " 4   Item_MRP                   8523 non-null   float64\n",
            " 5   Outlet_Identifier          8523 non-null   object \n",
            " 6   Outlet_Establishment_Year  8523 non-null   int64  \n",
            " 7   Outlet_Location_Type       8523 non-null   object \n",
            " 8   Outlet_Type                8523 non-null   object \n",
            " 9   Item_Outlet_Sales          8523 non-null   float64\n",
            "dtypes: float64(4), int64(1), object(5)\n",
            "memory usage: 990.5+ KB\n"
          ]
        }
      ]
    },
    {
      "cell_type": "markdown",
      "source": [
        "1.1 Which products sell the most?"
      ],
      "metadata": {
        "id": "uIQav09E4lB3"
      }
    },
    {
      "cell_type": "code",
      "source": [
        "Item_means = df.groupby(['Item_Type'])['Item_Outlet_Sales'].mean().sort_values(ascending=False)\n",
        "Item_means"
      ],
      "metadata": {
        "colab": {
          "base_uri": "https://localhost:8080/"
        },
        "id": "_IyGLQed18Cg",
        "outputId": "09afeb9c-792f-42eb-8b38-55f8be5d5dd9"
      },
      "execution_count": 42,
      "outputs": [
        {
          "output_type": "execute_result",
          "data": {
            "text/plain": [
              "Item_Type\n",
              "Starchy Foods            2374.332773\n",
              "Seafood                  2326.065928\n",
              "Fruits and Vegetables    2289.009592\n",
              "Snack Foods              2277.321739\n",
              "Household                2258.784300\n",
              "Dairy                    2232.542597\n",
              "Canned                   2225.194904\n",
              "Breads                   2204.132226\n",
              "Meat                     2158.977911\n",
              "Hard Drinks              2139.221622\n",
              "Frozen Foods             2132.867744\n",
              "Breakfast                2111.808651\n",
              "Health and Hygiene       2010.000265\n",
              "Soft Drinks              2006.511735\n",
              "Baking Goods             1952.971207\n",
              "Others                   1926.139702\n",
              "Name: Item_Outlet_Sales, dtype: float64"
            ]
          },
          "metadata": {},
          "execution_count": 42
        }
      ]
    },
    {
      "cell_type": "code",
      "source": [
        "from matplotlib.ticker import FuncFormatter\n",
        "fig, ax = plt.subplots(figsize=(20,10))\n",
        "\n",
        "ax = sns.barplot(data=df,x='Item_Type', y = 'Item_Outlet_Sales', order = Item_means.index, ci = None)\n",
        "plt.xticks(rotation = 90)\n",
        "ax.set_title('Average Sales vs. Item Type', fontsize = 20, fontweight = 'bold');\n",
        "ax.set_xlabel('Item Outlet Sales', fontsize = 15, fontweight = 'bold')\n",
        "ax.set_ylabel('Item Type', fontsize = 15, fontweight = 'bold');\n",
        "\n",
        "def hundred_k(x,pos):\n",
        "  \"\"\"function for use with matplotlib FuncFormatter - formats money in millions\"\"\"\n",
        "  return f'${x*1e-3:,.0f}K'\n",
        "\n",
        "price_fmt_100k = FuncFormatter(hundred_k)\n",
        "\n",
        "ax.yaxis.set_major_formatter(price_fmt_100k)"
      ],
      "metadata": {
        "id": "CqOA2MWNsYxq",
        "outputId": "4914591e-2560-4e97-b82b-f243f3c682c3",
        "colab": {
          "base_uri": "https://localhost:8080/",
          "height": 729
        }
      },
      "execution_count": 50,
      "outputs": [
        {
          "output_type": "display_data",
          "data": {
            "text/plain": [
              "<Figure size 1440x720 with 1 Axes>"
            ],
            "image/png": "[encoded data removed]"
          },
          "metadata": {
            "needs_background": "light"
          }
        }
      ]
    },
    {
      "cell_type": "markdown",
      "source": [
        "1.2 Which products sell the most by fat content?"
      ],
      "metadata": {
        "id": "KHcdlxBj9Mm_"
      }
    },
    {
      "cell_type": "code",
      "source": [
        "Fat_means = df.groupby('Item_Fat_Content')['Item_Outlet_Sales'].mean().sort_values(ascending=False)\n",
        "Fat_means"
      ],
      "metadata": {
        "colab": {
          "base_uri": "https://localhost:8080/"
        },
        "id": "kOG0zobs47Wl",
        "outputId": "4f951ed8-812d-4677-b68c-f2c86bbf3761"
      },
      "execution_count": 43,
      "outputs": [
        {
          "output_type": "execute_result",
          "data": {
            "text/plain": [
              "Item_Fat_Content\n",
              "Regular    2224.561170\n",
              "Low Fat    2157.711534\n",
              "Name: Item_Outlet_Sales, dtype: float64"
            ]
          },
          "metadata": {},
          "execution_count": 43
        }
      ]
    },
    {
      "cell_type": "markdown",
      "source": [
        "1.3 Which products sell the most by visibility?"
      ],
      "metadata": {
        "id": "WD4pBiuGpw9c"
      }
    },
    {
      "cell_type": "code",
      "source": [
        "Vis_means = df.groupby(['Item_Type','Item_Visibility'])['Item_Outlet_Sales'].mean().sort_values(ascending=False)\n",
        "Vis_means"
      ],
      "metadata": {
        "id": "lHMfVSxm9rnR",
        "outputId": "bec42bc9-53fd-4d61-8e91-98c99df764fa",
        "colab": {
          "base_uri": "https://localhost:8080/"
        }
      },
      "execution_count": 44,
      "outputs": [
        {
          "output_type": "execute_result",
          "data": {
            "text/plain": [
              "Item_Type              Item_Visibility\n",
              "Household              0.010551           13086.9648\n",
              "Fruits and Vegetables  0.014296           12117.5600\n",
              "Snack Foods            0.088840           10993.6896\n",
              "Canned                 0.030693           10306.5840\n",
              "Dairy                  0.019495           10256.6490\n",
              "                                             ...    \n",
              "Frozen Foods           0.024546              36.6190\n",
              "Breads                 0.281510              35.2874\n",
              "Health and Hygiene     0.073077              34.6216\n",
              "Snack Foods            0.134328              33.9558\n",
              "Household              0.064411              33.2900\n",
              "Name: Item_Outlet_Sales, Length: 8006, dtype: float64"
            ]
          },
          "metadata": {},
          "execution_count": 44
        }
      ]
    },
    {
      "cell_type": "markdown",
      "source": [
        "1.4 Which store has better sales?"
      ],
      "metadata": {
        "id": "Qiv3FpVDqDL8"
      }
    },
    {
      "cell_type": "code",
      "source": [
        "Store_means = df.groupby('Outlet_Identifier')['Item_Outlet_Sales'].mean().sort_values(ascending=False)\n",
        "Store_means"
      ],
      "metadata": {
        "id": "jU4wRn8TADzH",
        "outputId": "c5ce31e2-2387-4678-9470-9f8c96c2d4bc",
        "colab": {
          "base_uri": "https://localhost:8080/"
        }
      },
      "execution_count": 45,
      "outputs": [
        {
          "output_type": "execute_result",
          "data": {
            "text/plain": [
              "Outlet_Identifier\n",
              "OUT027    3694.038558\n",
              "OUT035    2438.841866\n",
              "OUT049    2348.354635\n",
              "OUT017    2340.675263\n",
              "OUT013    2298.995256\n",
              "OUT046    2277.844267\n",
              "OUT045    2192.384798\n",
              "OUT018    1995.498739\n",
              "OUT019     340.329723\n",
              "OUT010     339.351662\n",
              "Name: Item_Outlet_Sales, dtype: float64"
            ]
          },
          "metadata": {},
          "execution_count": 45
        }
      ]
    },
    {
      "cell_type": "markdown",
      "source": [
        "1.5 Which store sells more by establishment year?"
      ],
      "metadata": {
        "id": "96n-IHQXqYAJ"
      }
    },
    {
      "cell_type": "code",
      "source": [
        "Store_means = df.groupby(['Outlet_Identifier','Outlet_Establishment_Year'])['Item_Outlet_Sales'].mean().sort_values(ascending=False)\n",
        "Store_means"
      ],
      "metadata": {
        "id": "9iBqFTaMB3AD",
        "outputId": "cf528a5e-d0ad-4131-9252-e30d659933eb",
        "colab": {
          "base_uri": "https://localhost:8080/"
        }
      },
      "execution_count": 46,
      "outputs": [
        {
          "output_type": "execute_result",
          "data": {
            "text/plain": [
              "Outlet_Identifier  Outlet_Establishment_Year\n",
              "OUT027             1985                         3694.038558\n",
              "OUT035             2004                         2438.841866\n",
              "OUT049             1999                         2348.354635\n",
              "OUT017             2007                         2340.675263\n",
              "OUT013             1987                         2298.995256\n",
              "OUT046             1997                         2277.844267\n",
              "OUT045             2002                         2192.384798\n",
              "OUT018             2009                         1995.498739\n",
              "OUT019             1985                          340.329723\n",
              "OUT010             1998                          339.351662\n",
              "Name: Item_Outlet_Sales, dtype: float64"
            ]
          },
          "metadata": {},
          "execution_count": 46
        }
      ]
    },
    {
      "cell_type": "markdown",
      "source": [
        "1.6 Stores sells by location type"
      ],
      "metadata": {
        "id": "vnE1Nftrroy2"
      }
    },
    {
      "cell_type": "code",
      "source": [
        "Store_ID_Location_means = df.groupby(['Outlet_Identifier','Outlet_Location_Type'])['Item_Outlet_Sales'].mean().sort_values(ascending=False)\n",
        "Store_ID_Location_means "
      ],
      "metadata": {
        "id": "yhPebzNV4giF",
        "outputId": "98520fb4-9ec8-450e-8010-122f34cf7eba",
        "colab": {
          "base_uri": "https://localhost:8080/"
        }
      },
      "execution_count": 48,
      "outputs": [
        {
          "output_type": "execute_result",
          "data": {
            "text/plain": [
              "Outlet_Identifier  Outlet_Location_Type\n",
              "OUT027             Tier 3                  3694.038558\n",
              "OUT035             Tier 2                  2438.841866\n",
              "OUT049             Tier 1                  2348.354635\n",
              "OUT017             Tier 2                  2340.675263\n",
              "OUT013             Tier 3                  2298.995256\n",
              "OUT046             Tier 1                  2277.844267\n",
              "OUT045             Tier 2                  2192.384798\n",
              "OUT018             Tier 3                  1995.498739\n",
              "OUT019             Tier 1                   340.329723\n",
              "OUT010             Tier 3                   339.351662\n",
              "Name: Item_Outlet_Sales, dtype: float64"
            ]
          },
          "metadata": {},
          "execution_count": 48
        }
      ]
    },
    {
      "cell_type": "code",
      "source": [],
      "metadata": {
        "id": "QMbVfdI-5Fc6"
      },
      "execution_count": 40,
      "outputs": []
    }
  ]
}