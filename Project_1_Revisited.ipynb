{
 "cells": [
  {
   "cell_type": "markdown",
   "metadata": {
    "colab_type": "text",
    "id": "view-in-github"
   },
   "source": [
    "<a href=\"https://colab.research.google.com/github/pylabview/sales-predicctions/blob/main/Project_1_Revisited.ipynb\" target=\"_parent\"><img src=\"https://colab.research.google.com/assets/colab-badge.svg\" alt=\"Open In Colab\"/></a>"
   ]
  },
  {
   "cell_type": "code",
   "execution_count": null,
   "metadata": {},
   "outputs": [],
   "source": []
  },
  {
   "cell_type": "markdown",
   "metadata": {
    "id": "khfoSV-oVI2w"
   },
   "source": [
    "## Imports"
   ]
  },
  {
   "cell_type": "code",
   "execution_count": 1,
   "metadata": {
    "colab": {
     "base_uri": "https://localhost:8080/"
    },
    "id": "VyLvjlpcRTBQ",
    "outputId": "1a1b7273-c7fa-4a77-b359-3fc86c1f15a3"
   },
   "outputs": [
    {
     "name": "stderr",
     "output_type": "stream",
     "text": [
      "/var/folders/6z/wccfr6994pg1zc7gyrxzjvdw0000gn/T/ipykernel_1642/2516318757.py:24: MatplotlibDeprecationWarning: The seaborn styles shipped by Matplotlib are deprecated since 3.6, as they no longer correspond to the styles shipped by seaborn. However, they will remain available as 'seaborn-v0_8-<style>'. Alternatively, directly use the seaborn API instead.\n",
      "  plt.style.use(['dark_background','seaborn-muted', 'seaborn-poster'])\n",
      "/var/folders/6z/wccfr6994pg1zc7gyrxzjvdw0000gn/T/ipykernel_1642/2516318757.py:24: MatplotlibDeprecationWarning: The seaborn styles shipped by Matplotlib are deprecated since 3.6, as they no longer correspond to the styles shipped by seaborn. However, they will remain available as 'seaborn-v0_8-<style>'. Alternatively, directly use the seaborn API instead.\n",
      "  plt.style.use(['dark_background','seaborn-muted', 'seaborn-poster'])\n"
     ]
    }
   ],
   "source": [
    "## Our standard imports\n",
    "import pandas as pd\n",
    "import numpy as np\n",
    "import matplotlib.pyplot as plt\n",
    "import seaborn as sns\n",
    "import missingno as miss\n",
    "\n",
    "## Preprocessing tools\n",
    "from sklearn.model_selection import train_test_split\n",
    "from sklearn.compose import make_column_transformer, make_column_selector\n",
    "from sklearn.pipeline import make_pipeline\n",
    "from sklearn.preprocessing import OneHotEncoder, StandardScaler\n",
    "from sklearn.impute import SimpleImputer\n",
    "\n",
    "## Models & evaluation metrics\n",
    "from sklearn import metrics\n",
    "from sklearn.linear_model import LinearRegression\n",
    "from sklearn.tree import DecisionTreeRegressor\n",
    "from sklearn.ensemble import RandomForestRegressor\n",
    "import joblib\n",
    "\n",
    "\n",
    "#Setting plots styles\n",
    "plt.style.use(['dark_background','seaborn-muted', 'seaborn-poster'])\n",
    "\n",
    "\n",
    "## setting random state for reproducibility\n",
    "SEED = 321\n",
    "np.random.seed(SEED)\n",
    "## Matplotlib style\n",
    "fav_style = ('ggplot','tableau-colorblind10')\n",
    "fav_context  ={'context':'notebook', 'font_scale':1.1}\n",
    "plt.style.use(fav_style)\n",
    "sns.set_context(**fav_context)\n",
    "plt.rcParams['savefig.transparent'] = False\n",
    "plt.rcParams['savefig.bbox'] = 'tight'\n",
    "\n",
    "## Importing Custom Functions\n",
    "import sys,os\n",
    "sys.path.append(os.path.abspath(\"../\"))\n",
    "%load_ext autoreload\n",
    "%autoreload 2\n",
    "from CODE import data_enrichment as de"
   ]
  },
  {
   "cell_type": "markdown",
   "metadata": {
    "id": "CfC2exAaVEEj"
   },
   "source": [
    "## Loading Data"
   ]
  },
  {
   "cell_type": "code",
   "execution_count": 2,
   "metadata": {
    "colab": {
     "base_uri": "https://localhost:8080/",
     "height": 337
    },
    "id": "fWaKvnvWUbAv",
    "outputId": "b8ffc0f3-741b-4136-e624-0d6e5f703900"
   },
   "outputs": [
    {
     "data": {
      "text/html": [
       "<div>\n",
       "<style scoped>\n",
       "    .dataframe tbody tr th:only-of-type {\n",
       "        vertical-align: middle;\n",
       "    }\n",
       "\n",
       "    .dataframe tbody tr th {\n",
       "        vertical-align: top;\n",
       "    }\n",
       "\n",
       "    .dataframe thead th {\n",
       "        text-align: right;\n",
       "    }\n",
       "</style>\n",
       "<table border=\"1\" class=\"dataframe\">\n",
       "  <thead>\n",
       "    <tr style=\"text-align: right;\">\n",
       "      <th></th>\n",
       "      <th>Item_Identifier</th>\n",
       "      <th>Item_Weight</th>\n",
       "      <th>Item_Fat_Content</th>\n",
       "      <th>Item_Visibility</th>\n",
       "      <th>Item_Type</th>\n",
       "      <th>Item_MRP</th>\n",
       "      <th>Outlet_Identifier</th>\n",
       "      <th>Outlet_Establishment_Year</th>\n",
       "      <th>Outlet_Size</th>\n",
       "      <th>Outlet_Location_Type</th>\n",
       "      <th>Outlet_Type</th>\n",
       "      <th>Item_Outlet_Sales</th>\n",
       "    </tr>\n",
       "  </thead>\n",
       "  <tbody>\n",
       "    <tr>\n",
       "      <th>0</th>\n",
       "      <td>FDA15</td>\n",
       "      <td>9.30</td>\n",
       "      <td>Low Fat</td>\n",
       "      <td>0.016047</td>\n",
       "      <td>Dairy</td>\n",
       "      <td>249.8092</td>\n",
       "      <td>OUT049</td>\n",
       "      <td>1999</td>\n",
       "      <td>Medium</td>\n",
       "      <td>Tier 1</td>\n",
       "      <td>Supermarket Type1</td>\n",
       "      <td>3735.1380</td>\n",
       "    </tr>\n",
       "    <tr>\n",
       "      <th>1</th>\n",
       "      <td>DRC01</td>\n",
       "      <td>5.92</td>\n",
       "      <td>Regular</td>\n",
       "      <td>0.019278</td>\n",
       "      <td>Soft Drinks</td>\n",
       "      <td>48.2692</td>\n",
       "      <td>OUT018</td>\n",
       "      <td>2009</td>\n",
       "      <td>Medium</td>\n",
       "      <td>Tier 3</td>\n",
       "      <td>Supermarket Type2</td>\n",
       "      <td>443.4228</td>\n",
       "    </tr>\n",
       "    <tr>\n",
       "      <th>2</th>\n",
       "      <td>FDN15</td>\n",
       "      <td>17.50</td>\n",
       "      <td>Low Fat</td>\n",
       "      <td>0.016760</td>\n",
       "      <td>Meat</td>\n",
       "      <td>141.6180</td>\n",
       "      <td>OUT049</td>\n",
       "      <td>1999</td>\n",
       "      <td>Medium</td>\n",
       "      <td>Tier 1</td>\n",
       "      <td>Supermarket Type1</td>\n",
       "      <td>2097.2700</td>\n",
       "    </tr>\n",
       "    <tr>\n",
       "      <th>3</th>\n",
       "      <td>FDX07</td>\n",
       "      <td>19.20</td>\n",
       "      <td>Regular</td>\n",
       "      <td>0.000000</td>\n",
       "      <td>Fruits and Vegetables</td>\n",
       "      <td>182.0950</td>\n",
       "      <td>OUT010</td>\n",
       "      <td>1998</td>\n",
       "      <td>NaN</td>\n",
       "      <td>Tier 3</td>\n",
       "      <td>Grocery Store</td>\n",
       "      <td>732.3800</td>\n",
       "    </tr>\n",
       "    <tr>\n",
       "      <th>4</th>\n",
       "      <td>NCD19</td>\n",
       "      <td>8.93</td>\n",
       "      <td>Low Fat</td>\n",
       "      <td>0.000000</td>\n",
       "      <td>Household</td>\n",
       "      <td>53.8614</td>\n",
       "      <td>OUT013</td>\n",
       "      <td>1987</td>\n",
       "      <td>High</td>\n",
       "      <td>Tier 3</td>\n",
       "      <td>Supermarket Type1</td>\n",
       "      <td>994.7052</td>\n",
       "    </tr>\n",
       "  </tbody>\n",
       "</table>\n",
       "</div>"
      ],
      "text/plain": [
       "  Item_Identifier  Item_Weight Item_Fat_Content  Item_Visibility  \\\n",
       "0           FDA15         9.30          Low Fat         0.016047   \n",
       "1           DRC01         5.92          Regular         0.019278   \n",
       "2           FDN15        17.50          Low Fat         0.016760   \n",
       "3           FDX07        19.20          Regular         0.000000   \n",
       "4           NCD19         8.93          Low Fat         0.000000   \n",
       "\n",
       "               Item_Type  Item_MRP Outlet_Identifier  \\\n",
       "0                  Dairy  249.8092            OUT049   \n",
       "1            Soft Drinks   48.2692            OUT018   \n",
       "2                   Meat  141.6180            OUT049   \n",
       "3  Fruits and Vegetables  182.0950            OUT010   \n",
       "4              Household   53.8614            OUT013   \n",
       "\n",
       "   Outlet_Establishment_Year Outlet_Size Outlet_Location_Type  \\\n",
       "0                       1999      Medium               Tier 1   \n",
       "1                       2009      Medium               Tier 3   \n",
       "2                       1999      Medium               Tier 1   \n",
       "3                       1998         NaN               Tier 3   \n",
       "4                       1987        High               Tier 3   \n",
       "\n",
       "         Outlet_Type  Item_Outlet_Sales  \n",
       "0  Supermarket Type1          3735.1380  \n",
       "1  Supermarket Type2           443.4228  \n",
       "2  Supermarket Type1          2097.2700  \n",
       "3      Grocery Store           732.3800  \n",
       "4  Supermarket Type1           994.7052  "
      ]
     },
     "execution_count": 2,
     "metadata": {},
     "output_type": "execute_result"
    }
   ],
   "source": [
    "df = pd.read_csv(\"./Data/sales_predictions.csv\")\n",
    "df.head()"
   ]
  },
  {
   "cell_type": "markdown",
   "metadata": {
    "id": "62qh65ZHVfa4"
   },
   "source": [
    "## Cleaning Data"
   ]
  },
  {
   "cell_type": "code",
   "execution_count": 3,
   "metadata": {
    "colab": {
     "base_uri": "https://localhost:8080/"
    },
    "id": "Dvm4gHldycpA",
    "outputId": "d12952a2-8c51-4d07-a0c8-d9ecf9480906"
   },
   "outputs": [
    {
     "name": "stdout",
     "output_type": "stream",
     "text": [
      "Number of duplicates: 0\n"
     ]
    }
   ],
   "source": [
    "# Are there duplicates? If so, drop any duplicates.\n",
    "dups = df.duplicated().sum()\n",
    "print(f\"Number of duplicates: {dups}\")"
   ]
  },
  {
   "cell_type": "code",
   "execution_count": 4,
   "metadata": {
    "colab": {
     "base_uri": "https://localhost:8080/"
    },
    "id": "fXr1Zs7Cyckk",
    "outputId": "b78ed480-9753-424f-d2de-fcf44452e3bf"
   },
   "outputs": [
    {
     "name": "stdout",
     "output_type": "stream",
     "text": [
      "Row index Item_Weight, number of missing 1463\n",
      "Row index Outlet_Size, number of missing 2410\n"
     ]
    }
   ],
   "source": [
    "# 4) Identify missing values.\n",
    "total_missing_series = df.isna().sum()\n",
    "total_missing_series_idx = df.isna().sum().index\n",
    "total_cols = len(total_missing_series_idx )\n",
    "\n",
    "for i in range(total_cols):\n",
    "    if total_missing_series[i] > 0:\n",
    "        print(f\"Row index {total_missing_series_idx[i]}, number of missing {total_missing_series[i]}\")"
   ]
  },
  {
   "cell_type": "code",
   "execution_count": 5,
   "metadata": {
    "id": "Sn5z5oviycSD"
   },
   "outputs": [],
   "source": [
    "# Inputing missing data for Item_Weight with the column average, as the data type is a float\n",
    "df['Item_Weight'].fillna(value = df['Item_Weight'].mean(), inplace = True)\n",
    "\n",
    "#Dropping Outlet_Size, the misssing values are >5% and this column should not affect the food sales prediction\n",
    "\n",
    "df.drop(columns=['Outlet_Size'],inplace=True)\n",
    "\n"
   ]
  },
  {
   "cell_type": "code",
   "execution_count": 6,
   "metadata": {
    "colab": {
     "base_uri": "https://localhost:8080/"
    },
    "id": "jSc_dtJc8Vb4",
    "outputId": "cce7ee58-218c-4954-ae6e-c6839ba21080"
   },
   "outputs": [
    {
     "name": "stdout",
     "output_type": "stream",
     "text": [
      "Are All missing values removed? True\n"
     ]
    }
   ],
   "source": [
    "# 6) Confirm that there are no missing values after addressing them.\n",
    "print(f\"Are All missing values removed? {df.isna().sum().sum()==0}\")"
   ]
  },
  {
   "cell_type": "code",
   "execution_count": 7,
   "metadata": {
    "colab": {
     "base_uri": "https://localhost:8080/"
    },
    "id": "7SM1aOCr8VUE",
    "outputId": "8b57e175-1023-451c-9f87-405cf364fcb5"
   },
   "outputs": [
    {
     "data": {
      "text/plain": [
       "array(['Low Fat', 'Regular', 'low fat', 'LF', 'reg'], dtype=object)"
      ]
     },
     "execution_count": 7,
     "metadata": {},
     "output_type": "execute_result"
    }
   ],
   "source": [
    "# 7) Find and fix any inconsistent categories of data \n",
    "## Item_Fat_Content\n",
    "\n",
    "df['Item_Fat_Content'].unique()"
   ]
  },
  {
   "cell_type": "code",
   "execution_count": 8,
   "metadata": {
    "id": "S_JiCZQNAJ1o"
   },
   "outputs": [],
   "source": [
    "#Repalcing inconsisten values: 'low fat', 'LF', 'reg'\n",
    "df.replace({'low fat': 'Low Fat',\n",
    "            'LF': 'Low Fat',\n",
    "            'reg':'Regular'}, inplace = True)"
   ]
  },
  {
   "cell_type": "code",
   "execution_count": 9,
   "metadata": {
    "colab": {
     "base_uri": "https://localhost:8080/"
    },
    "id": "BQaDppR9Bbhp",
    "outputId": "f7aefd12-8a36-4364-9472-23a1acf103d0"
   },
   "outputs": [
    {
     "data": {
      "text/plain": [
       "array(['Low Fat', 'Regular'], dtype=object)"
      ]
     },
     "execution_count": 9,
     "metadata": {},
     "output_type": "execute_result"
    }
   ],
   "source": [
    "#Cheking everything is OK!\n",
    "\n",
    "df['Item_Fat_Content'].unique()"
   ]
  },
  {
   "cell_type": "code",
   "execution_count": 10,
   "metadata": {
    "colab": {
     "base_uri": "https://localhost:8080/",
     "height": 300
    },
    "id": "8LhikhHsBrZy",
    "outputId": "9bdd5fbc-8969-4b04-c5ef-74fe0d1ae03a"
   },
   "outputs": [
    {
     "data": {
      "text/html": [
       "<div>\n",
       "<style scoped>\n",
       "    .dataframe tbody tr th:only-of-type {\n",
       "        vertical-align: middle;\n",
       "    }\n",
       "\n",
       "    .dataframe tbody tr th {\n",
       "        vertical-align: top;\n",
       "    }\n",
       "\n",
       "    .dataframe thead th {\n",
       "        text-align: right;\n",
       "    }\n",
       "</style>\n",
       "<table border=\"1\" class=\"dataframe\">\n",
       "  <thead>\n",
       "    <tr style=\"text-align: right;\">\n",
       "      <th></th>\n",
       "      <th>Item_Weight</th>\n",
       "      <th>Item_Visibility</th>\n",
       "      <th>Item_MRP</th>\n",
       "      <th>Outlet_Establishment_Year</th>\n",
       "      <th>Item_Outlet_Sales</th>\n",
       "    </tr>\n",
       "  </thead>\n",
       "  <tbody>\n",
       "    <tr>\n",
       "      <th>count</th>\n",
       "      <td>8523.000000</td>\n",
       "      <td>8523.000000</td>\n",
       "      <td>8523.000000</td>\n",
       "      <td>8523.000000</td>\n",
       "      <td>8523.000000</td>\n",
       "    </tr>\n",
       "    <tr>\n",
       "      <th>mean</th>\n",
       "      <td>12.857645</td>\n",
       "      <td>0.066132</td>\n",
       "      <td>140.992782</td>\n",
       "      <td>1997.831867</td>\n",
       "      <td>2181.288914</td>\n",
       "    </tr>\n",
       "    <tr>\n",
       "      <th>std</th>\n",
       "      <td>4.226124</td>\n",
       "      <td>0.051598</td>\n",
       "      <td>62.275067</td>\n",
       "      <td>8.371760</td>\n",
       "      <td>1706.499616</td>\n",
       "    </tr>\n",
       "    <tr>\n",
       "      <th>min</th>\n",
       "      <td>4.555000</td>\n",
       "      <td>0.000000</td>\n",
       "      <td>31.290000</td>\n",
       "      <td>1985.000000</td>\n",
       "      <td>33.290000</td>\n",
       "    </tr>\n",
       "    <tr>\n",
       "      <th>25%</th>\n",
       "      <td>9.310000</td>\n",
       "      <td>0.026989</td>\n",
       "      <td>93.826500</td>\n",
       "      <td>1987.000000</td>\n",
       "      <td>834.247400</td>\n",
       "    </tr>\n",
       "    <tr>\n",
       "      <th>50%</th>\n",
       "      <td>12.857645</td>\n",
       "      <td>0.053931</td>\n",
       "      <td>143.012800</td>\n",
       "      <td>1999.000000</td>\n",
       "      <td>1794.331000</td>\n",
       "    </tr>\n",
       "    <tr>\n",
       "      <th>75%</th>\n",
       "      <td>16.000000</td>\n",
       "      <td>0.094585</td>\n",
       "      <td>185.643700</td>\n",
       "      <td>2004.000000</td>\n",
       "      <td>3101.296400</td>\n",
       "    </tr>\n",
       "    <tr>\n",
       "      <th>max</th>\n",
       "      <td>21.350000</td>\n",
       "      <td>0.328391</td>\n",
       "      <td>266.888400</td>\n",
       "      <td>2009.000000</td>\n",
       "      <td>13086.964800</td>\n",
       "    </tr>\n",
       "  </tbody>\n",
       "</table>\n",
       "</div>"
      ],
      "text/plain": [
       "       Item_Weight  Item_Visibility     Item_MRP  Outlet_Establishment_Year  \\\n",
       "count  8523.000000      8523.000000  8523.000000                8523.000000   \n",
       "mean     12.857645         0.066132   140.992782                1997.831867   \n",
       "std       4.226124         0.051598    62.275067                   8.371760   \n",
       "min       4.555000         0.000000    31.290000                1985.000000   \n",
       "25%       9.310000         0.026989    93.826500                1987.000000   \n",
       "50%      12.857645         0.053931   143.012800                1999.000000   \n",
       "75%      16.000000         0.094585   185.643700                2004.000000   \n",
       "max      21.350000         0.328391   266.888400                2009.000000   \n",
       "\n",
       "       Item_Outlet_Sales  \n",
       "count        8523.000000  \n",
       "mean         2181.288914  \n",
       "std          1706.499616  \n",
       "min            33.290000  \n",
       "25%           834.247400  \n",
       "50%          1794.331000  \n",
       "75%          3101.296400  \n",
       "max         13086.964800  "
      ]
     },
     "execution_count": 10,
     "metadata": {},
     "output_type": "execute_result"
    }
   ],
   "source": [
    "#8) For any numerical columns, obtain the summary statistics of each (min, max, mean).\n",
    "df.describe()"
   ]
  },
  {
   "cell_type": "code",
   "execution_count": 11,
   "metadata": {},
   "outputs": [
    {
     "name": "stdout",
     "output_type": "stream",
     "text": [
      "<class 'pandas.core.frame.DataFrame'>\n",
      "RangeIndex: 8523 entries, 0 to 8522\n",
      "Data columns (total 11 columns):\n",
      " #   Column                     Non-Null Count  Dtype  \n",
      "---  ------                     --------------  -----  \n",
      " 0   Item_Identifier            8523 non-null   object \n",
      " 1   Item_Weight                8523 non-null   float64\n",
      " 2   Item_Fat_Content           8523 non-null   object \n",
      " 3   Item_Visibility            8523 non-null   float64\n",
      " 4   Item_Type                  8523 non-null   object \n",
      " 5   Item_MRP                   8523 non-null   float64\n",
      " 6   Outlet_Identifier          8523 non-null   object \n",
      " 7   Outlet_Establishment_Year  8523 non-null   int64  \n",
      " 8   Outlet_Location_Type       8523 non-null   object \n",
      " 9   Outlet_Type                8523 non-null   object \n",
      " 10  Item_Outlet_Sales          8523 non-null   float64\n",
      "dtypes: float64(4), int64(1), object(6)\n",
      "memory usage: 732.6+ KB\n"
     ]
    }
   ],
   "source": [
    "df.info()"
   ]
  },
  {
   "cell_type": "markdown",
   "metadata": {
    "id": "0-aK3Hu7GoTd"
   },
   "source": [
    "## EDA"
   ]
  },
  {
   "cell_type": "code",
   "execution_count": 12,
   "metadata": {
    "colab": {
     "base_uri": "https://localhost:8080/"
    },
    "id": "1ErprOA1Wwq3",
    "outputId": "98087dda-dc8d-4c2a-9463-30e535cdc792"
   },
   "outputs": [
    {
     "data": {
      "text/plain": [
       "Item_Identifier              0\n",
       "Item_Weight                  0\n",
       "Item_Fat_Content             0\n",
       "Item_Visibility              0\n",
       "Item_Type                    0\n",
       "Item_MRP                     0\n",
       "Outlet_Identifier            0\n",
       "Outlet_Establishment_Year    0\n",
       "Outlet_Location_Type         0\n",
       "Outlet_Type                  0\n",
       "Item_Outlet_Sales            0\n",
       "dtype: int64"
      ]
     },
     "execution_count": 12,
     "metadata": {},
     "output_type": "execute_result"
    }
   ],
   "source": [
    "df.isna().sum()"
   ]
  },
  {
   "cell_type": "markdown",
   "metadata": {
    "id": "nBo6OLGQXYCZ"
   },
   "source": [
    "## Preprocessing (with Sklearn v1.1+)"
   ]
  },
  {
   "cell_type": "code",
   "execution_count": 13,
   "metadata": {
    "colab": {
     "base_uri": "https://localhost:8080/"
    },
    "id": "tibb3tW5WzkN",
    "outputId": "327a39c2-cae6-4400-b0db-c151dbeadc46"
   },
   "outputs": [
    {
     "name": "stdout",
     "output_type": "stream",
     "text": [
      "Python 3.9.15\n",
      "sklearn version: 1.1.3\n"
     ]
    }
   ],
   "source": [
    "# Run the following command on your local computer to check the version of sklearn\n",
    "import sklearn\n",
    "!python --version\n",
    "print(f\"sklearn version: {sklearn.__version__}\")"
   ]
  },
  {
   "cell_type": "code",
   "execution_count": 14,
   "metadata": {
    "colab": {
     "base_uri": "https://localhost:8080/",
     "height": 143
    },
    "id": "gdPObZanXLCi",
    "outputId": "3a9fc6b3-25de-4c48-a67f-dc7ca7d97860"
   },
   "outputs": [
    {
     "data": {
      "text/html": [
       "<div>\n",
       "<style scoped>\n",
       "    .dataframe tbody tr th:only-of-type {\n",
       "        vertical-align: middle;\n",
       "    }\n",
       "\n",
       "    .dataframe tbody tr th {\n",
       "        vertical-align: top;\n",
       "    }\n",
       "\n",
       "    .dataframe thead th {\n",
       "        text-align: right;\n",
       "    }\n",
       "</style>\n",
       "<table border=\"1\" class=\"dataframe\">\n",
       "  <thead>\n",
       "    <tr style=\"text-align: right;\">\n",
       "      <th></th>\n",
       "      <th>Item_Weight</th>\n",
       "      <th>Item_Fat_Content</th>\n",
       "      <th>Item_Visibility</th>\n",
       "      <th>Item_Type</th>\n",
       "      <th>Item_MRP</th>\n",
       "      <th>Outlet_Identifier</th>\n",
       "      <th>Outlet_Establishment_Year</th>\n",
       "      <th>Outlet_Location_Type</th>\n",
       "      <th>Outlet_Type</th>\n",
       "    </tr>\n",
       "  </thead>\n",
       "  <tbody>\n",
       "    <tr>\n",
       "      <th>8269</th>\n",
       "      <td>7.220</td>\n",
       "      <td>Regular</td>\n",
       "      <td>0.064142</td>\n",
       "      <td>Baking Goods</td>\n",
       "      <td>61.2510</td>\n",
       "      <td>OUT010</td>\n",
       "      <td>1998</td>\n",
       "      <td>Tier 3</td>\n",
       "      <td>Grocery Store</td>\n",
       "    </tr>\n",
       "    <tr>\n",
       "      <th>7604</th>\n",
       "      <td>6.135</td>\n",
       "      <td>Low Fat</td>\n",
       "      <td>0.079294</td>\n",
       "      <td>Soft Drinks</td>\n",
       "      <td>111.2860</td>\n",
       "      <td>OUT018</td>\n",
       "      <td>2009</td>\n",
       "      <td>Tier 3</td>\n",
       "      <td>Supermarket Type2</td>\n",
       "    </tr>\n",
       "    <tr>\n",
       "      <th>2762</th>\n",
       "      <td>12.150</td>\n",
       "      <td>Low Fat</td>\n",
       "      <td>0.028593</td>\n",
       "      <td>Household</td>\n",
       "      <td>151.0708</td>\n",
       "      <td>OUT035</td>\n",
       "      <td>2004</td>\n",
       "      <td>Tier 2</td>\n",
       "      <td>Supermarket Type1</td>\n",
       "    </tr>\n",
       "  </tbody>\n",
       "</table>\n",
       "</div>"
      ],
      "text/plain": [
       "      Item_Weight Item_Fat_Content  Item_Visibility     Item_Type  Item_MRP  \\\n",
       "8269        7.220          Regular         0.064142  Baking Goods   61.2510   \n",
       "7604        6.135          Low Fat         0.079294   Soft Drinks  111.2860   \n",
       "2762       12.150          Low Fat         0.028593     Household  151.0708   \n",
       "\n",
       "     Outlet_Identifier  Outlet_Establishment_Year Outlet_Location_Type  \\\n",
       "8269            OUT010                       1998               Tier 3   \n",
       "7604            OUT018                       2009               Tier 3   \n",
       "2762            OUT035                       2004               Tier 2   \n",
       "\n",
       "            Outlet_Type  \n",
       "8269      Grocery Store  \n",
       "7604  Supermarket Type2  \n",
       "2762  Supermarket Type1  "
      ]
     },
     "execution_count": 14,
     "metadata": {},
     "output_type": "execute_result"
    }
   ],
   "source": [
    "# ### Train Test Split\n",
    "## Make x and y variables\n",
    "target = \"Item_Outlet_Sales\"\n",
    "drop_feats = ['Item_Identifier']\n",
    "\n",
    "y = df[target].copy()\n",
    "X = df.drop(columns=[target, *drop_feats]).copy()\n",
    "\n",
    "## train-test-split with random state for reproducibility\n",
    "X_train, X_test, y_train, y_test = train_test_split(X,y, random_state=SEED)\n",
    "X_train.head(3)"
   ]
  },
  {
   "cell_type": "code",
   "execution_count": null,
   "metadata": {
    "id": "03P0JVocX1uF"
   },
   "outputs": [],
   "source": []
  },
  {
   "cell_type": "markdown",
   "metadata": {
    "id": "6RQSQg9807VU"
   },
   "source": [
    "\n",
    "### Column Selector"
   ]
  },
  {
   "cell_type": "markdown",
   "metadata": {
    "id": "4j5uVH6_1_4Q"
   },
   "source": [
    "Identifying features (Numerical, Categorical)\n",
    "- Numerical: `'Item_Weight', 'Item_Visibility', 'Item_MRP', 'Outlet_Establishment_Year'`\n",
    "\n",
    "- Categoricals:\n",
    "  - Nominals: `'Outlet_Identifier', 'Item_Fat_Content', 'Item_Type', 'Outlet_Type', 'Outlet_Location_Type'`\n"
   ]
  },
  {
   "cell_type": "code",
   "execution_count": 15,
   "metadata": {
    "id": "pwavCDZZ0_nN"
   },
   "outputs": [],
   "source": [
    "## Make a column selector for categories & test it /sanity check\n",
    "cat_features = ['Outlet_Identifier', 'Item_Fat_Content', 'Item_Type', 'Outlet_Type', 'Outlet_Location_Type']\n",
    "num_selector = make_column_selector(dtype_include='number')\n",
    "cat_selector = cat_features\n"
   ]
  },
  {
   "cell_type": "markdown",
   "metadata": {
    "id": "uRmw-xpC1XGc"
   },
   "source": [
    "### **Transformers**"
   ]
  },
  {
   "cell_type": "code",
   "execution_count": 16,
   "metadata": {
    "id": "PpiMlGzF1dwt"
   },
   "outputs": [],
   "source": [
    "# Instantiate the transformers\n",
    "scaler = StandardScaler()\n",
    "ohe = OneHotEncoder(sparse=False, handle_unknown='ignore')\n",
    "\n",
    "mean_imputer = SimpleImputer(strategy='mean')"
   ]
  },
  {
   "cell_type": "markdown",
   "metadata": {
    "id": "qCRls5KJ4xHQ"
   },
   "source": [
    "### Pipeline Numeric Data and a Pipeline for Categorical Data"
   ]
  },
  {
   "cell_type": "code",
   "execution_count": 17,
   "metadata": {
    "id": "Tpz0oGoj4-X9"
   },
   "outputs": [],
   "source": [
    "num_pipeline = make_pipeline(mean_imputer, scaler)\n"
   ]
  },
  {
   "cell_type": "markdown",
   "metadata": {
    "id": "tanIP8m91lsO"
   },
   "source": [
    "### **Tuples**"
   ]
  },
  {
   "cell_type": "code",
   "execution_count": 18,
   "metadata": {
    "id": "WySkSWrf1nkw"
   },
   "outputs": [],
   "source": [
    "# Create tuples\n",
    "number_tuple = (num_pipeline, num_selector)\n",
    "category_tuple = (ohe,cat_selector)"
   ]
  },
  {
   "cell_type": "markdown",
   "metadata": {
    "id": "RHYNygee1wfh"
   },
   "source": [
    "### **ColumnTransformer**"
   ]
  },
  {
   "cell_type": "code",
   "execution_count": 19,
   "metadata": {
    "colab": {
     "base_uri": "https://localhost:8080/",
     "height": 152
    },
    "id": "wF4G8-K312m-",
    "outputId": "97ba9a86-8627-49cf-e15f-4aaafa4e1404"
   },
   "outputs": [
    {
     "data": {
      "text/html": [
       "<style>#sk-container-id-1 {color: black;background-color: white;}#sk-container-id-1 pre{padding: 0;}#sk-container-id-1 div.sk-toggleable {background-color: white;}#sk-container-id-1 label.sk-toggleable__label {cursor: pointer;display: block;width: 100%;margin-bottom: 0;padding: 0.3em;box-sizing: border-box;text-align: center;}#sk-container-id-1 label.sk-toggleable__label-arrow:before {content: \"▸\";float: left;margin-right: 0.25em;color: #696969;}#sk-container-id-1 label.sk-toggleable__label-arrow:hover:before {color: black;}#sk-container-id-1 div.sk-estimator:hover label.sk-toggleable__label-arrow:before {color: black;}#sk-container-id-1 div.sk-toggleable__content {max-height: 0;max-width: 0;overflow: hidden;text-align: left;background-color: #f0f8ff;}#sk-container-id-1 div.sk-toggleable__content pre {margin: 0.2em;color: black;border-radius: 0.25em;background-color: #f0f8ff;}#sk-container-id-1 input.sk-toggleable__control:checked~div.sk-toggleable__content {max-height: 200px;max-width: 100%;overflow: auto;}#sk-container-id-1 input.sk-toggleable__control:checked~label.sk-toggleable__label-arrow:before {content: \"▾\";}#sk-container-id-1 div.sk-estimator input.sk-toggleable__control:checked~label.sk-toggleable__label {background-color: #d4ebff;}#sk-container-id-1 div.sk-label input.sk-toggleable__control:checked~label.sk-toggleable__label {background-color: #d4ebff;}#sk-container-id-1 input.sk-hidden--visually {border: 0;clip: rect(1px 1px 1px 1px);clip: rect(1px, 1px, 1px, 1px);height: 1px;margin: -1px;overflow: hidden;padding: 0;position: absolute;width: 1px;}#sk-container-id-1 div.sk-estimator {font-family: monospace;background-color: #f0f8ff;border: 1px dotted black;border-radius: 0.25em;box-sizing: border-box;margin-bottom: 0.5em;}#sk-container-id-1 div.sk-estimator:hover {background-color: #d4ebff;}#sk-container-id-1 div.sk-parallel-item::after {content: \"\";width: 100%;border-bottom: 1px solid gray;flex-grow: 1;}#sk-container-id-1 div.sk-label:hover label.sk-toggleable__label {background-color: #d4ebff;}#sk-container-id-1 div.sk-serial::before {content: \"\";position: absolute;border-left: 1px solid gray;box-sizing: border-box;top: 0;bottom: 0;left: 50%;z-index: 0;}#sk-container-id-1 div.sk-serial {display: flex;flex-direction: column;align-items: center;background-color: white;padding-right: 0.2em;padding-left: 0.2em;position: relative;}#sk-container-id-1 div.sk-item {position: relative;z-index: 1;}#sk-container-id-1 div.sk-parallel {display: flex;align-items: stretch;justify-content: center;background-color: white;position: relative;}#sk-container-id-1 div.sk-item::before, #sk-container-id-1 div.sk-parallel-item::before {content: \"\";position: absolute;border-left: 1px solid gray;box-sizing: border-box;top: 0;bottom: 0;left: 50%;z-index: -1;}#sk-container-id-1 div.sk-parallel-item {display: flex;flex-direction: column;z-index: 1;position: relative;background-color: white;}#sk-container-id-1 div.sk-parallel-item:first-child::after {align-self: flex-end;width: 50%;}#sk-container-id-1 div.sk-parallel-item:last-child::after {align-self: flex-start;width: 50%;}#sk-container-id-1 div.sk-parallel-item:only-child::after {width: 0;}#sk-container-id-1 div.sk-dashed-wrapped {border: 1px dashed gray;margin: 0 0.4em 0.5em 0.4em;box-sizing: border-box;padding-bottom: 0.4em;background-color: white;}#sk-container-id-1 div.sk-label label {font-family: monospace;font-weight: bold;display: inline-block;line-height: 1.2em;}#sk-container-id-1 div.sk-label-container {text-align: center;}#sk-container-id-1 div.sk-container {/* jupyter's `normalize.less` sets `[hidden] { display: none; }` but bootstrap.min.css set `[hidden] { display: none !important; }` so we also need the `!important` here to be able to override the default hidden behavior on the sphinx rendered scikit-learn.org. See: https://github.com/scikit-learn/scikit-learn/issues/21755 */display: inline-block !important;position: relative;}#sk-container-id-1 div.sk-text-repr-fallback {display: none;}</style><div id=\"sk-container-id-1\" class=\"sk-top-container\"><div class=\"sk-text-repr-fallback\"><pre>ColumnTransformer(transformers=[(&#x27;pipeline&#x27;,\n",
       "                                 Pipeline(steps=[(&#x27;simpleimputer&#x27;,\n",
       "                                                  SimpleImputer()),\n",
       "                                                 (&#x27;standardscaler&#x27;,\n",
       "                                                  StandardScaler())]),\n",
       "                                 &lt;sklearn.compose._column_transformer.make_column_selector object at 0x28e9c12e0&gt;),\n",
       "                                (&#x27;onehotencoder&#x27;,\n",
       "                                 OneHotEncoder(handle_unknown=&#x27;ignore&#x27;,\n",
       "                                               sparse=False),\n",
       "                                 [&#x27;Outlet_Identifier&#x27;, &#x27;Item_Fat_Content&#x27;,\n",
       "                                  &#x27;Item_Type&#x27;, &#x27;Outlet_Type&#x27;,\n",
       "                                  &#x27;Outlet_Location_Type&#x27;])])</pre><b>In a Jupyter environment, please rerun this cell to show the HTML representation or trust the notebook. <br />On GitHub, the HTML representation is unable to render, please try loading this page with nbviewer.org.</b></div><div class=\"sk-container\" hidden><div class=\"sk-item sk-dashed-wrapped\"><div class=\"sk-label-container\"><div class=\"sk-label sk-toggleable\"><input class=\"sk-toggleable__control sk-hidden--visually\" id=\"sk-estimator-id-1\" type=\"checkbox\" ><label for=\"sk-estimator-id-1\" class=\"sk-toggleable__label sk-toggleable__label-arrow\">ColumnTransformer</label><div class=\"sk-toggleable__content\"><pre>ColumnTransformer(transformers=[(&#x27;pipeline&#x27;,\n",
       "                                 Pipeline(steps=[(&#x27;simpleimputer&#x27;,\n",
       "                                                  SimpleImputer()),\n",
       "                                                 (&#x27;standardscaler&#x27;,\n",
       "                                                  StandardScaler())]),\n",
       "                                 &lt;sklearn.compose._column_transformer.make_column_selector object at 0x28e9c12e0&gt;),\n",
       "                                (&#x27;onehotencoder&#x27;,\n",
       "                                 OneHotEncoder(handle_unknown=&#x27;ignore&#x27;,\n",
       "                                               sparse=False),\n",
       "                                 [&#x27;Outlet_Identifier&#x27;, &#x27;Item_Fat_Content&#x27;,\n",
       "                                  &#x27;Item_Type&#x27;, &#x27;Outlet_Type&#x27;,\n",
       "                                  &#x27;Outlet_Location_Type&#x27;])])</pre></div></div></div><div class=\"sk-parallel\"><div class=\"sk-parallel-item\"><div class=\"sk-item\"><div class=\"sk-label-container\"><div class=\"sk-label sk-toggleable\"><input class=\"sk-toggleable__control sk-hidden--visually\" id=\"sk-estimator-id-2\" type=\"checkbox\" ><label for=\"sk-estimator-id-2\" class=\"sk-toggleable__label sk-toggleable__label-arrow\">pipeline</label><div class=\"sk-toggleable__content\"><pre>&lt;sklearn.compose._column_transformer.make_column_selector object at 0x28e9c12e0&gt;</pre></div></div></div><div class=\"sk-serial\"><div class=\"sk-item\"><div class=\"sk-serial\"><div class=\"sk-item\"><div class=\"sk-estimator sk-toggleable\"><input class=\"sk-toggleable__control sk-hidden--visually\" id=\"sk-estimator-id-3\" type=\"checkbox\" ><label for=\"sk-estimator-id-3\" class=\"sk-toggleable__label sk-toggleable__label-arrow\">SimpleImputer</label><div class=\"sk-toggleable__content\"><pre>SimpleImputer()</pre></div></div></div><div class=\"sk-item\"><div class=\"sk-estimator sk-toggleable\"><input class=\"sk-toggleable__control sk-hidden--visually\" id=\"sk-estimator-id-4\" type=\"checkbox\" ><label for=\"sk-estimator-id-4\" class=\"sk-toggleable__label sk-toggleable__label-arrow\">StandardScaler</label><div class=\"sk-toggleable__content\"><pre>StandardScaler()</pre></div></div></div></div></div></div></div></div><div class=\"sk-parallel-item\"><div class=\"sk-item\"><div class=\"sk-label-container\"><div class=\"sk-label sk-toggleable\"><input class=\"sk-toggleable__control sk-hidden--visually\" id=\"sk-estimator-id-5\" type=\"checkbox\" ><label for=\"sk-estimator-id-5\" class=\"sk-toggleable__label sk-toggleable__label-arrow\">onehotencoder</label><div class=\"sk-toggleable__content\"><pre>[&#x27;Outlet_Identifier&#x27;, &#x27;Item_Fat_Content&#x27;, &#x27;Item_Type&#x27;, &#x27;Outlet_Type&#x27;, &#x27;Outlet_Location_Type&#x27;]</pre></div></div></div><div class=\"sk-serial\"><div class=\"sk-item\"><div class=\"sk-estimator sk-toggleable\"><input class=\"sk-toggleable__control sk-hidden--visually\" id=\"sk-estimator-id-6\" type=\"checkbox\" ><label for=\"sk-estimator-id-6\" class=\"sk-toggleable__label sk-toggleable__label-arrow\">OneHotEncoder</label><div class=\"sk-toggleable__content\"><pre>OneHotEncoder(handle_unknown=&#x27;ignore&#x27;, sparse=False)</pre></div></div></div></div></div></div></div></div></div></div>"
      ],
      "text/plain": [
       "ColumnTransformer(transformers=[('pipeline',\n",
       "                                 Pipeline(steps=[('simpleimputer',\n",
       "                                                  SimpleImputer()),\n",
       "                                                 ('standardscaler',\n",
       "                                                  StandardScaler())]),\n",
       "                                 <sklearn.compose._column_transformer.make_column_selector object at 0x28e9c12e0>),\n",
       "                                ('onehotencoder',\n",
       "                                 OneHotEncoder(handle_unknown='ignore',\n",
       "                                               sparse=False),\n",
       "                                 ['Outlet_Identifier', 'Item_Fat_Content',\n",
       "                                  'Item_Type', 'Outlet_Type',\n",
       "                                  'Outlet_Location_Type'])])"
      ]
     },
     "execution_count": 19,
     "metadata": {},
     "output_type": "execute_result"
    }
   ],
   "source": [
    "# Create the preprocessor using make_column_transformer\n",
    "preprocessor = make_column_transformer(number_tuple, \n",
    "                                       category_tuple, \n",
    "                                       remainder='drop')\n",
    "preprocessor"
   ]
  },
  {
   "cell_type": "code",
   "execution_count": 20,
   "metadata": {},
   "outputs": [
    {
     "data": {
      "text/html": [
       "<style>#sk-container-id-2 {color: black;background-color: white;}#sk-container-id-2 pre{padding: 0;}#sk-container-id-2 div.sk-toggleable {background-color: white;}#sk-container-id-2 label.sk-toggleable__label {cursor: pointer;display: block;width: 100%;margin-bottom: 0;padding: 0.3em;box-sizing: border-box;text-align: center;}#sk-container-id-2 label.sk-toggleable__label-arrow:before {content: \"▸\";float: left;margin-right: 0.25em;color: #696969;}#sk-container-id-2 label.sk-toggleable__label-arrow:hover:before {color: black;}#sk-container-id-2 div.sk-estimator:hover label.sk-toggleable__label-arrow:before {color: black;}#sk-container-id-2 div.sk-toggleable__content {max-height: 0;max-width: 0;overflow: hidden;text-align: left;background-color: #f0f8ff;}#sk-container-id-2 div.sk-toggleable__content pre {margin: 0.2em;color: black;border-radius: 0.25em;background-color: #f0f8ff;}#sk-container-id-2 input.sk-toggleable__control:checked~div.sk-toggleable__content {max-height: 200px;max-width: 100%;overflow: auto;}#sk-container-id-2 input.sk-toggleable__control:checked~label.sk-toggleable__label-arrow:before {content: \"▾\";}#sk-container-id-2 div.sk-estimator input.sk-toggleable__control:checked~label.sk-toggleable__label {background-color: #d4ebff;}#sk-container-id-2 div.sk-label input.sk-toggleable__control:checked~label.sk-toggleable__label {background-color: #d4ebff;}#sk-container-id-2 input.sk-hidden--visually {border: 0;clip: rect(1px 1px 1px 1px);clip: rect(1px, 1px, 1px, 1px);height: 1px;margin: -1px;overflow: hidden;padding: 0;position: absolute;width: 1px;}#sk-container-id-2 div.sk-estimator {font-family: monospace;background-color: #f0f8ff;border: 1px dotted black;border-radius: 0.25em;box-sizing: border-box;margin-bottom: 0.5em;}#sk-container-id-2 div.sk-estimator:hover {background-color: #d4ebff;}#sk-container-id-2 div.sk-parallel-item::after {content: \"\";width: 100%;border-bottom: 1px solid gray;flex-grow: 1;}#sk-container-id-2 div.sk-label:hover label.sk-toggleable__label {background-color: #d4ebff;}#sk-container-id-2 div.sk-serial::before {content: \"\";position: absolute;border-left: 1px solid gray;box-sizing: border-box;top: 0;bottom: 0;left: 50%;z-index: 0;}#sk-container-id-2 div.sk-serial {display: flex;flex-direction: column;align-items: center;background-color: white;padding-right: 0.2em;padding-left: 0.2em;position: relative;}#sk-container-id-2 div.sk-item {position: relative;z-index: 1;}#sk-container-id-2 div.sk-parallel {display: flex;align-items: stretch;justify-content: center;background-color: white;position: relative;}#sk-container-id-2 div.sk-item::before, #sk-container-id-2 div.sk-parallel-item::before {content: \"\";position: absolute;border-left: 1px solid gray;box-sizing: border-box;top: 0;bottom: 0;left: 50%;z-index: -1;}#sk-container-id-2 div.sk-parallel-item {display: flex;flex-direction: column;z-index: 1;position: relative;background-color: white;}#sk-container-id-2 div.sk-parallel-item:first-child::after {align-self: flex-end;width: 50%;}#sk-container-id-2 div.sk-parallel-item:last-child::after {align-self: flex-start;width: 50%;}#sk-container-id-2 div.sk-parallel-item:only-child::after {width: 0;}#sk-container-id-2 div.sk-dashed-wrapped {border: 1px dashed gray;margin: 0 0.4em 0.5em 0.4em;box-sizing: border-box;padding-bottom: 0.4em;background-color: white;}#sk-container-id-2 div.sk-label label {font-family: monospace;font-weight: bold;display: inline-block;line-height: 1.2em;}#sk-container-id-2 div.sk-label-container {text-align: center;}#sk-container-id-2 div.sk-container {/* jupyter's `normalize.less` sets `[hidden] { display: none; }` but bootstrap.min.css set `[hidden] { display: none !important; }` so we also need the `!important` here to be able to override the default hidden behavior on the sphinx rendered scikit-learn.org. See: https://github.com/scikit-learn/scikit-learn/issues/21755 */display: inline-block !important;position: relative;}#sk-container-id-2 div.sk-text-repr-fallback {display: none;}</style><div id=\"sk-container-id-2\" class=\"sk-top-container\"><div class=\"sk-text-repr-fallback\"><pre>ColumnTransformer(transformers=[(&#x27;pipeline&#x27;,\n",
       "                                 Pipeline(steps=[(&#x27;simpleimputer&#x27;,\n",
       "                                                  SimpleImputer()),\n",
       "                                                 (&#x27;standardscaler&#x27;,\n",
       "                                                  StandardScaler())]),\n",
       "                                 &lt;sklearn.compose._column_transformer.make_column_selector object at 0x28e9c12e0&gt;),\n",
       "                                (&#x27;onehotencoder&#x27;,\n",
       "                                 OneHotEncoder(handle_unknown=&#x27;ignore&#x27;,\n",
       "                                               sparse=False),\n",
       "                                 [&#x27;Outlet_Identifier&#x27;, &#x27;Item_Fat_Content&#x27;,\n",
       "                                  &#x27;Item_Type&#x27;, &#x27;Outlet_Type&#x27;,\n",
       "                                  &#x27;Outlet_Location_Type&#x27;])])</pre><b>In a Jupyter environment, please rerun this cell to show the HTML representation or trust the notebook. <br />On GitHub, the HTML representation is unable to render, please try loading this page with nbviewer.org.</b></div><div class=\"sk-container\" hidden><div class=\"sk-item sk-dashed-wrapped\"><div class=\"sk-label-container\"><div class=\"sk-label sk-toggleable\"><input class=\"sk-toggleable__control sk-hidden--visually\" id=\"sk-estimator-id-7\" type=\"checkbox\" ><label for=\"sk-estimator-id-7\" class=\"sk-toggleable__label sk-toggleable__label-arrow\">ColumnTransformer</label><div class=\"sk-toggleable__content\"><pre>ColumnTransformer(transformers=[(&#x27;pipeline&#x27;,\n",
       "                                 Pipeline(steps=[(&#x27;simpleimputer&#x27;,\n",
       "                                                  SimpleImputer()),\n",
       "                                                 (&#x27;standardscaler&#x27;,\n",
       "                                                  StandardScaler())]),\n",
       "                                 &lt;sklearn.compose._column_transformer.make_column_selector object at 0x28e9c12e0&gt;),\n",
       "                                (&#x27;onehotencoder&#x27;,\n",
       "                                 OneHotEncoder(handle_unknown=&#x27;ignore&#x27;,\n",
       "                                               sparse=False),\n",
       "                                 [&#x27;Outlet_Identifier&#x27;, &#x27;Item_Fat_Content&#x27;,\n",
       "                                  &#x27;Item_Type&#x27;, &#x27;Outlet_Type&#x27;,\n",
       "                                  &#x27;Outlet_Location_Type&#x27;])])</pre></div></div></div><div class=\"sk-parallel\"><div class=\"sk-parallel-item\"><div class=\"sk-item\"><div class=\"sk-label-container\"><div class=\"sk-label sk-toggleable\"><input class=\"sk-toggleable__control sk-hidden--visually\" id=\"sk-estimator-id-8\" type=\"checkbox\" ><label for=\"sk-estimator-id-8\" class=\"sk-toggleable__label sk-toggleable__label-arrow\">pipeline</label><div class=\"sk-toggleable__content\"><pre>&lt;sklearn.compose._column_transformer.make_column_selector object at 0x28e9c12e0&gt;</pre></div></div></div><div class=\"sk-serial\"><div class=\"sk-item\"><div class=\"sk-serial\"><div class=\"sk-item\"><div class=\"sk-estimator sk-toggleable\"><input class=\"sk-toggleable__control sk-hidden--visually\" id=\"sk-estimator-id-9\" type=\"checkbox\" ><label for=\"sk-estimator-id-9\" class=\"sk-toggleable__label sk-toggleable__label-arrow\">SimpleImputer</label><div class=\"sk-toggleable__content\"><pre>SimpleImputer()</pre></div></div></div><div class=\"sk-item\"><div class=\"sk-estimator sk-toggleable\"><input class=\"sk-toggleable__control sk-hidden--visually\" id=\"sk-estimator-id-10\" type=\"checkbox\" ><label for=\"sk-estimator-id-10\" class=\"sk-toggleable__label sk-toggleable__label-arrow\">StandardScaler</label><div class=\"sk-toggleable__content\"><pre>StandardScaler()</pre></div></div></div></div></div></div></div></div><div class=\"sk-parallel-item\"><div class=\"sk-item\"><div class=\"sk-label-container\"><div class=\"sk-label sk-toggleable\"><input class=\"sk-toggleable__control sk-hidden--visually\" id=\"sk-estimator-id-11\" type=\"checkbox\" ><label for=\"sk-estimator-id-11\" class=\"sk-toggleable__label sk-toggleable__label-arrow\">onehotencoder</label><div class=\"sk-toggleable__content\"><pre>[&#x27;Outlet_Identifier&#x27;, &#x27;Item_Fat_Content&#x27;, &#x27;Item_Type&#x27;, &#x27;Outlet_Type&#x27;, &#x27;Outlet_Location_Type&#x27;]</pre></div></div></div><div class=\"sk-serial\"><div class=\"sk-item\"><div class=\"sk-estimator sk-toggleable\"><input class=\"sk-toggleable__control sk-hidden--visually\" id=\"sk-estimator-id-12\" type=\"checkbox\" ><label for=\"sk-estimator-id-12\" class=\"sk-toggleable__label sk-toggleable__label-arrow\">OneHotEncoder</label><div class=\"sk-toggleable__content\"><pre>OneHotEncoder(handle_unknown=&#x27;ignore&#x27;, sparse=False)</pre></div></div></div></div></div></div></div></div></div></div>"
      ],
      "text/plain": [
       "ColumnTransformer(transformers=[('pipeline',\n",
       "                                 Pipeline(steps=[('simpleimputer',\n",
       "                                                  SimpleImputer()),\n",
       "                                                 ('standardscaler',\n",
       "                                                  StandardScaler())]),\n",
       "                                 <sklearn.compose._column_transformer.make_column_selector object at 0x28e9c12e0>),\n",
       "                                ('onehotencoder',\n",
       "                                 OneHotEncoder(handle_unknown='ignore',\n",
       "                                               sparse=False),\n",
       "                                 ['Outlet_Identifier', 'Item_Fat_Content',\n",
       "                                  'Item_Type', 'Outlet_Type',\n",
       "                                  'Outlet_Location_Type'])])"
      ]
     },
     "execution_count": 20,
     "metadata": {},
     "output_type": "execute_result"
    }
   ],
   "source": [
    "preprocessor.fit(X_train)"
   ]
  },
  {
   "cell_type": "markdown",
   "metadata": {
    "id": "NpvLjx-paO9l"
   },
   "source": [
    "### Make X_train_df and X_test_df, dataframe verisons of processed X_train/X_test."
   ]
  },
  {
   "cell_type": "code",
   "execution_count": 21,
   "metadata": {
    "colab": {
     "base_uri": "https://localhost:8080/",
     "height": 540
    },
    "id": "cmwDx1P7Yv2c",
    "outputId": "c1a3080c-7c26-4f39-94b8-2de2cdcb44d3"
   },
   "outputs": [
    {
     "data": {
      "text/html": [
       "<div>\n",
       "<style scoped>\n",
       "    .dataframe tbody tr th:only-of-type {\n",
       "        vertical-align: middle;\n",
       "    }\n",
       "\n",
       "    .dataframe tbody tr th {\n",
       "        vertical-align: top;\n",
       "    }\n",
       "\n",
       "    .dataframe thead th {\n",
       "        text-align: right;\n",
       "    }\n",
       "</style>\n",
       "<table border=\"1\" class=\"dataframe\">\n",
       "  <thead>\n",
       "    <tr style=\"text-align: right;\">\n",
       "      <th></th>\n",
       "      <th>pipeline__Item_Weight</th>\n",
       "      <th>pipeline__Item_Visibility</th>\n",
       "      <th>pipeline__Item_MRP</th>\n",
       "      <th>pipeline__Outlet_Establishment_Year</th>\n",
       "      <th>onehotencoder__Outlet_Identifier_OUT010</th>\n",
       "      <th>onehotencoder__Outlet_Identifier_OUT013</th>\n",
       "      <th>onehotencoder__Outlet_Identifier_OUT017</th>\n",
       "      <th>onehotencoder__Outlet_Identifier_OUT018</th>\n",
       "      <th>onehotencoder__Outlet_Identifier_OUT019</th>\n",
       "      <th>onehotencoder__Outlet_Identifier_OUT027</th>\n",
       "      <th>...</th>\n",
       "      <th>onehotencoder__Item_Type_Snack Foods</th>\n",
       "      <th>onehotencoder__Item_Type_Soft Drinks</th>\n",
       "      <th>onehotencoder__Item_Type_Starchy Foods</th>\n",
       "      <th>onehotencoder__Outlet_Type_Grocery Store</th>\n",
       "      <th>onehotencoder__Outlet_Type_Supermarket Type1</th>\n",
       "      <th>onehotencoder__Outlet_Type_Supermarket Type2</th>\n",
       "      <th>onehotencoder__Outlet_Type_Supermarket Type3</th>\n",
       "      <th>onehotencoder__Outlet_Location_Type_Tier 1</th>\n",
       "      <th>onehotencoder__Outlet_Location_Type_Tier 2</th>\n",
       "      <th>onehotencoder__Outlet_Location_Type_Tier 3</th>\n",
       "    </tr>\n",
       "  </thead>\n",
       "  <tbody>\n",
       "    <tr>\n",
       "      <th>8269</th>\n",
       "      <td>-1.320469</td>\n",
       "      <td>-0.043295</td>\n",
       "      <td>-1.268171</td>\n",
       "      <td>0.026015</td>\n",
       "      <td>1.0</td>\n",
       "      <td>0.0</td>\n",
       "      <td>0.0</td>\n",
       "      <td>0.0</td>\n",
       "      <td>0.0</td>\n",
       "      <td>0.0</td>\n",
       "      <td>...</td>\n",
       "      <td>0.0</td>\n",
       "      <td>0.0</td>\n",
       "      <td>0.0</td>\n",
       "      <td>1.0</td>\n",
       "      <td>0.0</td>\n",
       "      <td>0.0</td>\n",
       "      <td>0.0</td>\n",
       "      <td>0.0</td>\n",
       "      <td>0.0</td>\n",
       "      <td>1.0</td>\n",
       "    </tr>\n",
       "    <tr>\n",
       "      <th>7604</th>\n",
       "      <td>-1.575911</td>\n",
       "      <td>0.248066</td>\n",
       "      <td>-0.459996</td>\n",
       "      <td>1.338206</td>\n",
       "      <td>0.0</td>\n",
       "      <td>0.0</td>\n",
       "      <td>0.0</td>\n",
       "      <td>1.0</td>\n",
       "      <td>0.0</td>\n",
       "      <td>0.0</td>\n",
       "      <td>...</td>\n",
       "      <td>0.0</td>\n",
       "      <td>1.0</td>\n",
       "      <td>0.0</td>\n",
       "      <td>0.0</td>\n",
       "      <td>0.0</td>\n",
       "      <td>1.0</td>\n",
       "      <td>0.0</td>\n",
       "      <td>0.0</td>\n",
       "      <td>0.0</td>\n",
       "      <td>1.0</td>\n",
       "    </tr>\n",
       "    <tr>\n",
       "      <th>2762</th>\n",
       "      <td>-0.159793</td>\n",
       "      <td>-0.726880</td>\n",
       "      <td>0.182616</td>\n",
       "      <td>0.741756</td>\n",
       "      <td>0.0</td>\n",
       "      <td>0.0</td>\n",
       "      <td>0.0</td>\n",
       "      <td>0.0</td>\n",
       "      <td>0.0</td>\n",
       "      <td>0.0</td>\n",
       "      <td>...</td>\n",
       "      <td>0.0</td>\n",
       "      <td>0.0</td>\n",
       "      <td>0.0</td>\n",
       "      <td>0.0</td>\n",
       "      <td>1.0</td>\n",
       "      <td>0.0</td>\n",
       "      <td>0.0</td>\n",
       "      <td>0.0</td>\n",
       "      <td>1.0</td>\n",
       "      <td>0.0</td>\n",
       "    </tr>\n",
       "    <tr>\n",
       "      <th>6464</th>\n",
       "      <td>-1.620643</td>\n",
       "      <td>0.511794</td>\n",
       "      <td>-0.192206</td>\n",
       "      <td>0.741756</td>\n",
       "      <td>0.0</td>\n",
       "      <td>0.0</td>\n",
       "      <td>0.0</td>\n",
       "      <td>0.0</td>\n",
       "      <td>0.0</td>\n",
       "      <td>0.0</td>\n",
       "      <td>...</td>\n",
       "      <td>0.0</td>\n",
       "      <td>0.0</td>\n",
       "      <td>0.0</td>\n",
       "      <td>0.0</td>\n",
       "      <td>1.0</td>\n",
       "      <td>0.0</td>\n",
       "      <td>0.0</td>\n",
       "      <td>0.0</td>\n",
       "      <td>1.0</td>\n",
       "      <td>0.0</td>\n",
       "    </tr>\n",
       "    <tr>\n",
       "      <th>4707</th>\n",
       "      <td>1.264565</td>\n",
       "      <td>-0.002094</td>\n",
       "      <td>1.735461</td>\n",
       "      <td>0.741756</td>\n",
       "      <td>0.0</td>\n",
       "      <td>0.0</td>\n",
       "      <td>0.0</td>\n",
       "      <td>0.0</td>\n",
       "      <td>0.0</td>\n",
       "      <td>0.0</td>\n",
       "      <td>...</td>\n",
       "      <td>0.0</td>\n",
       "      <td>0.0</td>\n",
       "      <td>0.0</td>\n",
       "      <td>0.0</td>\n",
       "      <td>1.0</td>\n",
       "      <td>0.0</td>\n",
       "      <td>0.0</td>\n",
       "      <td>0.0</td>\n",
       "      <td>1.0</td>\n",
       "      <td>0.0</td>\n",
       "    </tr>\n",
       "    <tr>\n",
       "      <th>...</th>\n",
       "      <td>...</td>\n",
       "      <td>...</td>\n",
       "      <td>...</td>\n",
       "      <td>...</td>\n",
       "      <td>...</td>\n",
       "      <td>...</td>\n",
       "      <td>...</td>\n",
       "      <td>...</td>\n",
       "      <td>...</td>\n",
       "      <td>...</td>\n",
       "      <td>...</td>\n",
       "      <td>...</td>\n",
       "      <td>...</td>\n",
       "      <td>...</td>\n",
       "      <td>...</td>\n",
       "      <td>...</td>\n",
       "      <td>...</td>\n",
       "      <td>...</td>\n",
       "      <td>...</td>\n",
       "      <td>...</td>\n",
       "      <td>...</td>\n",
       "    </tr>\n",
       "    <tr>\n",
       "      <th>3482</th>\n",
       "      <td>0.006809</td>\n",
       "      <td>-1.041803</td>\n",
       "      <td>0.371897</td>\n",
       "      <td>-1.524756</td>\n",
       "      <td>0.0</td>\n",
       "      <td>0.0</td>\n",
       "      <td>0.0</td>\n",
       "      <td>0.0</td>\n",
       "      <td>0.0</td>\n",
       "      <td>1.0</td>\n",
       "      <td>...</td>\n",
       "      <td>0.0</td>\n",
       "      <td>0.0</td>\n",
       "      <td>0.0</td>\n",
       "      <td>0.0</td>\n",
       "      <td>0.0</td>\n",
       "      <td>0.0</td>\n",
       "      <td>1.0</td>\n",
       "      <td>0.0</td>\n",
       "      <td>0.0</td>\n",
       "      <td>1.0</td>\n",
       "    </tr>\n",
       "    <tr>\n",
       "      <th>8360</th>\n",
       "      <td>-0.312823</td>\n",
       "      <td>-0.990499</td>\n",
       "      <td>0.561178</td>\n",
       "      <td>0.145305</td>\n",
       "      <td>0.0</td>\n",
       "      <td>0.0</td>\n",
       "      <td>0.0</td>\n",
       "      <td>0.0</td>\n",
       "      <td>0.0</td>\n",
       "      <td>0.0</td>\n",
       "      <td>...</td>\n",
       "      <td>0.0</td>\n",
       "      <td>0.0</td>\n",
       "      <td>1.0</td>\n",
       "      <td>0.0</td>\n",
       "      <td>1.0</td>\n",
       "      <td>0.0</td>\n",
       "      <td>0.0</td>\n",
       "      <td>1.0</td>\n",
       "      <td>0.0</td>\n",
       "      <td>0.0</td>\n",
       "    </tr>\n",
       "    <tr>\n",
       "      <th>5929</th>\n",
       "      <td>-1.817228</td>\n",
       "      <td>-0.604724</td>\n",
       "      <td>0.344948</td>\n",
       "      <td>0.503176</td>\n",
       "      <td>0.0</td>\n",
       "      <td>0.0</td>\n",
       "      <td>0.0</td>\n",
       "      <td>0.0</td>\n",
       "      <td>0.0</td>\n",
       "      <td>0.0</td>\n",
       "      <td>...</td>\n",
       "      <td>0.0</td>\n",
       "      <td>0.0</td>\n",
       "      <td>0.0</td>\n",
       "      <td>0.0</td>\n",
       "      <td>1.0</td>\n",
       "      <td>0.0</td>\n",
       "      <td>0.0</td>\n",
       "      <td>0.0</td>\n",
       "      <td>1.0</td>\n",
       "      <td>0.0</td>\n",
       "    </tr>\n",
       "    <tr>\n",
       "      <th>4220</th>\n",
       "      <td>-1.478207</td>\n",
       "      <td>-0.607519</td>\n",
       "      <td>0.286927</td>\n",
       "      <td>1.099626</td>\n",
       "      <td>0.0</td>\n",
       "      <td>0.0</td>\n",
       "      <td>1.0</td>\n",
       "      <td>0.0</td>\n",
       "      <td>0.0</td>\n",
       "      <td>0.0</td>\n",
       "      <td>...</td>\n",
       "      <td>0.0</td>\n",
       "      <td>0.0</td>\n",
       "      <td>0.0</td>\n",
       "      <td>0.0</td>\n",
       "      <td>1.0</td>\n",
       "      <td>0.0</td>\n",
       "      <td>0.0</td>\n",
       "      <td>0.0</td>\n",
       "      <td>1.0</td>\n",
       "      <td>0.0</td>\n",
       "    </tr>\n",
       "    <tr>\n",
       "      <th>6682</th>\n",
       "      <td>-1.181564</td>\n",
       "      <td>0.025704</td>\n",
       "      <td>1.661798</td>\n",
       "      <td>1.338206</td>\n",
       "      <td>0.0</td>\n",
       "      <td>0.0</td>\n",
       "      <td>0.0</td>\n",
       "      <td>1.0</td>\n",
       "      <td>0.0</td>\n",
       "      <td>0.0</td>\n",
       "      <td>...</td>\n",
       "      <td>0.0</td>\n",
       "      <td>1.0</td>\n",
       "      <td>0.0</td>\n",
       "      <td>0.0</td>\n",
       "      <td>0.0</td>\n",
       "      <td>1.0</td>\n",
       "      <td>0.0</td>\n",
       "      <td>0.0</td>\n",
       "      <td>0.0</td>\n",
       "      <td>1.0</td>\n",
       "    </tr>\n",
       "  </tbody>\n",
       "</table>\n",
       "<p>6392 rows × 39 columns</p>\n",
       "</div>"
      ],
      "text/plain": [
       "      pipeline__Item_Weight  pipeline__Item_Visibility  pipeline__Item_MRP  \\\n",
       "8269              -1.320469                  -0.043295           -1.268171   \n",
       "7604              -1.575911                   0.248066           -0.459996   \n",
       "2762              -0.159793                  -0.726880            0.182616   \n",
       "6464              -1.620643                   0.511794           -0.192206   \n",
       "4707               1.264565                  -0.002094            1.735461   \n",
       "...                     ...                        ...                 ...   \n",
       "3482               0.006809                  -1.041803            0.371897   \n",
       "8360              -0.312823                  -0.990499            0.561178   \n",
       "5929              -1.817228                  -0.604724            0.344948   \n",
       "4220              -1.478207                  -0.607519            0.286927   \n",
       "6682              -1.181564                   0.025704            1.661798   \n",
       "\n",
       "      pipeline__Outlet_Establishment_Year  \\\n",
       "8269                             0.026015   \n",
       "7604                             1.338206   \n",
       "2762                             0.741756   \n",
       "6464                             0.741756   \n",
       "4707                             0.741756   \n",
       "...                                   ...   \n",
       "3482                            -1.524756   \n",
       "8360                             0.145305   \n",
       "5929                             0.503176   \n",
       "4220                             1.099626   \n",
       "6682                             1.338206   \n",
       "\n",
       "      onehotencoder__Outlet_Identifier_OUT010  \\\n",
       "8269                                      1.0   \n",
       "7604                                      0.0   \n",
       "2762                                      0.0   \n",
       "6464                                      0.0   \n",
       "4707                                      0.0   \n",
       "...                                       ...   \n",
       "3482                                      0.0   \n",
       "8360                                      0.0   \n",
       "5929                                      0.0   \n",
       "4220                                      0.0   \n",
       "6682                                      0.0   \n",
       "\n",
       "      onehotencoder__Outlet_Identifier_OUT013  \\\n",
       "8269                                      0.0   \n",
       "7604                                      0.0   \n",
       "2762                                      0.0   \n",
       "6464                                      0.0   \n",
       "4707                                      0.0   \n",
       "...                                       ...   \n",
       "3482                                      0.0   \n",
       "8360                                      0.0   \n",
       "5929                                      0.0   \n",
       "4220                                      0.0   \n",
       "6682                                      0.0   \n",
       "\n",
       "      onehotencoder__Outlet_Identifier_OUT017  \\\n",
       "8269                                      0.0   \n",
       "7604                                      0.0   \n",
       "2762                                      0.0   \n",
       "6464                                      0.0   \n",
       "4707                                      0.0   \n",
       "...                                       ...   \n",
       "3482                                      0.0   \n",
       "8360                                      0.0   \n",
       "5929                                      0.0   \n",
       "4220                                      1.0   \n",
       "6682                                      0.0   \n",
       "\n",
       "      onehotencoder__Outlet_Identifier_OUT018  \\\n",
       "8269                                      0.0   \n",
       "7604                                      1.0   \n",
       "2762                                      0.0   \n",
       "6464                                      0.0   \n",
       "4707                                      0.0   \n",
       "...                                       ...   \n",
       "3482                                      0.0   \n",
       "8360                                      0.0   \n",
       "5929                                      0.0   \n",
       "4220                                      0.0   \n",
       "6682                                      1.0   \n",
       "\n",
       "      onehotencoder__Outlet_Identifier_OUT019  \\\n",
       "8269                                      0.0   \n",
       "7604                                      0.0   \n",
       "2762                                      0.0   \n",
       "6464                                      0.0   \n",
       "4707                                      0.0   \n",
       "...                                       ...   \n",
       "3482                                      0.0   \n",
       "8360                                      0.0   \n",
       "5929                                      0.0   \n",
       "4220                                      0.0   \n",
       "6682                                      0.0   \n",
       "\n",
       "      onehotencoder__Outlet_Identifier_OUT027  ...  \\\n",
       "8269                                      0.0  ...   \n",
       "7604                                      0.0  ...   \n",
       "2762                                      0.0  ...   \n",
       "6464                                      0.0  ...   \n",
       "4707                                      0.0  ...   \n",
       "...                                       ...  ...   \n",
       "3482                                      1.0  ...   \n",
       "8360                                      0.0  ...   \n",
       "5929                                      0.0  ...   \n",
       "4220                                      0.0  ...   \n",
       "6682                                      0.0  ...   \n",
       "\n",
       "      onehotencoder__Item_Type_Snack Foods  \\\n",
       "8269                                   0.0   \n",
       "7604                                   0.0   \n",
       "2762                                   0.0   \n",
       "6464                                   0.0   \n",
       "4707                                   0.0   \n",
       "...                                    ...   \n",
       "3482                                   0.0   \n",
       "8360                                   0.0   \n",
       "5929                                   0.0   \n",
       "4220                                   0.0   \n",
       "6682                                   0.0   \n",
       "\n",
       "      onehotencoder__Item_Type_Soft Drinks  \\\n",
       "8269                                   0.0   \n",
       "7604                                   1.0   \n",
       "2762                                   0.0   \n",
       "6464                                   0.0   \n",
       "4707                                   0.0   \n",
       "...                                    ...   \n",
       "3482                                   0.0   \n",
       "8360                                   0.0   \n",
       "5929                                   0.0   \n",
       "4220                                   0.0   \n",
       "6682                                   1.0   \n",
       "\n",
       "      onehotencoder__Item_Type_Starchy Foods  \\\n",
       "8269                                     0.0   \n",
       "7604                                     0.0   \n",
       "2762                                     0.0   \n",
       "6464                                     0.0   \n",
       "4707                                     0.0   \n",
       "...                                      ...   \n",
       "3482                                     0.0   \n",
       "8360                                     1.0   \n",
       "5929                                     0.0   \n",
       "4220                                     0.0   \n",
       "6682                                     0.0   \n",
       "\n",
       "      onehotencoder__Outlet_Type_Grocery Store  \\\n",
       "8269                                       1.0   \n",
       "7604                                       0.0   \n",
       "2762                                       0.0   \n",
       "6464                                       0.0   \n",
       "4707                                       0.0   \n",
       "...                                        ...   \n",
       "3482                                       0.0   \n",
       "8360                                       0.0   \n",
       "5929                                       0.0   \n",
       "4220                                       0.0   \n",
       "6682                                       0.0   \n",
       "\n",
       "      onehotencoder__Outlet_Type_Supermarket Type1  \\\n",
       "8269                                           0.0   \n",
       "7604                                           0.0   \n",
       "2762                                           1.0   \n",
       "6464                                           1.0   \n",
       "4707                                           1.0   \n",
       "...                                            ...   \n",
       "3482                                           0.0   \n",
       "8360                                           1.0   \n",
       "5929                                           1.0   \n",
       "4220                                           1.0   \n",
       "6682                                           0.0   \n",
       "\n",
       "      onehotencoder__Outlet_Type_Supermarket Type2  \\\n",
       "8269                                           0.0   \n",
       "7604                                           1.0   \n",
       "2762                                           0.0   \n",
       "6464                                           0.0   \n",
       "4707                                           0.0   \n",
       "...                                            ...   \n",
       "3482                                           0.0   \n",
       "8360                                           0.0   \n",
       "5929                                           0.0   \n",
       "4220                                           0.0   \n",
       "6682                                           1.0   \n",
       "\n",
       "      onehotencoder__Outlet_Type_Supermarket Type3  \\\n",
       "8269                                           0.0   \n",
       "7604                                           0.0   \n",
       "2762                                           0.0   \n",
       "6464                                           0.0   \n",
       "4707                                           0.0   \n",
       "...                                            ...   \n",
       "3482                                           1.0   \n",
       "8360                                           0.0   \n",
       "5929                                           0.0   \n",
       "4220                                           0.0   \n",
       "6682                                           0.0   \n",
       "\n",
       "      onehotencoder__Outlet_Location_Type_Tier 1  \\\n",
       "8269                                         0.0   \n",
       "7604                                         0.0   \n",
       "2762                                         0.0   \n",
       "6464                                         0.0   \n",
       "4707                                         0.0   \n",
       "...                                          ...   \n",
       "3482                                         0.0   \n",
       "8360                                         1.0   \n",
       "5929                                         0.0   \n",
       "4220                                         0.0   \n",
       "6682                                         0.0   \n",
       "\n",
       "      onehotencoder__Outlet_Location_Type_Tier 2  \\\n",
       "8269                                         0.0   \n",
       "7604                                         0.0   \n",
       "2762                                         1.0   \n",
       "6464                                         1.0   \n",
       "4707                                         1.0   \n",
       "...                                          ...   \n",
       "3482                                         0.0   \n",
       "8360                                         0.0   \n",
       "5929                                         1.0   \n",
       "4220                                         1.0   \n",
       "6682                                         0.0   \n",
       "\n",
       "      onehotencoder__Outlet_Location_Type_Tier 3  \n",
       "8269                                         1.0  \n",
       "7604                                         1.0  \n",
       "2762                                         0.0  \n",
       "6464                                         0.0  \n",
       "4707                                         0.0  \n",
       "...                                          ...  \n",
       "3482                                         1.0  \n",
       "8360                                         0.0  \n",
       "5929                                         0.0  \n",
       "4220                                         0.0  \n",
       "6682                                         1.0  \n",
       "\n",
       "[6392 rows x 39 columns]"
      ]
     },
     "metadata": {},
     "output_type": "display_data"
    }
   ],
   "source": [
    "X_train_df = pd.DataFrame(preprocessor.transform(X_train),\n",
    "                          columns=preprocessor.get_feature_names_out(),\n",
    "                         index=X_train.index)\n",
    "X_test_df = pd.DataFrame(preprocessor.transform(X_test),\n",
    "                          columns=preprocessor.get_feature_names_out(),\n",
    "                         index=X_test.index)\n",
    "display(X_train_df)"
   ]
  },
  {
   "cell_type": "markdown",
   "metadata": {
    "id": "sjGlC0z7b5YK"
   },
   "source": [
    "### Get Features Names + Verbose Feature Names Out"
   ]
  },
  {
   "cell_type": "code",
   "execution_count": 22,
   "metadata": {
    "colab": {
     "base_uri": "https://localhost:8080/",
     "height": 424
    },
    "id": "OvZAo-LIaVv4",
    "outputId": "70d12e8d-960b-41bc-b74c-1678e8e4b11d"
   },
   "outputs": [
    {
     "data": {
      "text/html": [
       "<div>\n",
       "<style scoped>\n",
       "    .dataframe tbody tr th:only-of-type {\n",
       "        vertical-align: middle;\n",
       "    }\n",
       "\n",
       "    .dataframe tbody tr th {\n",
       "        vertical-align: top;\n",
       "    }\n",
       "\n",
       "    .dataframe thead th {\n",
       "        text-align: right;\n",
       "    }\n",
       "</style>\n",
       "<table border=\"1\" class=\"dataframe\">\n",
       "  <thead>\n",
       "    <tr style=\"text-align: right;\">\n",
       "      <th></th>\n",
       "      <th>Item_Weight</th>\n",
       "      <th>Item_Visibility</th>\n",
       "      <th>Item_MRP</th>\n",
       "      <th>Outlet_Establishment_Year</th>\n",
       "    </tr>\n",
       "  </thead>\n",
       "  <tbody>\n",
       "    <tr>\n",
       "      <th>8269</th>\n",
       "      <td>-1.320469</td>\n",
       "      <td>-0.043295</td>\n",
       "      <td>-1.268171</td>\n",
       "      <td>0.026015</td>\n",
       "    </tr>\n",
       "    <tr>\n",
       "      <th>7604</th>\n",
       "      <td>-1.575911</td>\n",
       "      <td>0.248066</td>\n",
       "      <td>-0.459996</td>\n",
       "      <td>1.338206</td>\n",
       "    </tr>\n",
       "    <tr>\n",
       "      <th>2762</th>\n",
       "      <td>-0.159793</td>\n",
       "      <td>-0.726880</td>\n",
       "      <td>0.182616</td>\n",
       "      <td>0.741756</td>\n",
       "    </tr>\n",
       "    <tr>\n",
       "      <th>6464</th>\n",
       "      <td>-1.620643</td>\n",
       "      <td>0.511794</td>\n",
       "      <td>-0.192206</td>\n",
       "      <td>0.741756</td>\n",
       "    </tr>\n",
       "    <tr>\n",
       "      <th>4707</th>\n",
       "      <td>1.264565</td>\n",
       "      <td>-0.002094</td>\n",
       "      <td>1.735461</td>\n",
       "      <td>0.741756</td>\n",
       "    </tr>\n",
       "    <tr>\n",
       "      <th>...</th>\n",
       "      <td>...</td>\n",
       "      <td>...</td>\n",
       "      <td>...</td>\n",
       "      <td>...</td>\n",
       "    </tr>\n",
       "    <tr>\n",
       "      <th>3482</th>\n",
       "      <td>0.006809</td>\n",
       "      <td>-1.041803</td>\n",
       "      <td>0.371897</td>\n",
       "      <td>-1.524756</td>\n",
       "    </tr>\n",
       "    <tr>\n",
       "      <th>8360</th>\n",
       "      <td>-0.312823</td>\n",
       "      <td>-0.990499</td>\n",
       "      <td>0.561178</td>\n",
       "      <td>0.145305</td>\n",
       "    </tr>\n",
       "    <tr>\n",
       "      <th>5929</th>\n",
       "      <td>-1.817228</td>\n",
       "      <td>-0.604724</td>\n",
       "      <td>0.344948</td>\n",
       "      <td>0.503176</td>\n",
       "    </tr>\n",
       "    <tr>\n",
       "      <th>4220</th>\n",
       "      <td>-1.478207</td>\n",
       "      <td>-0.607519</td>\n",
       "      <td>0.286927</td>\n",
       "      <td>1.099626</td>\n",
       "    </tr>\n",
       "    <tr>\n",
       "      <th>6682</th>\n",
       "      <td>-1.181564</td>\n",
       "      <td>0.025704</td>\n",
       "      <td>1.661798</td>\n",
       "      <td>1.338206</td>\n",
       "    </tr>\n",
       "  </tbody>\n",
       "</table>\n",
       "<p>6392 rows × 4 columns</p>\n",
       "</div>"
      ],
      "text/plain": [
       "      Item_Weight  Item_Visibility  Item_MRP  Outlet_Establishment_Year\n",
       "8269    -1.320469        -0.043295 -1.268171                   0.026015\n",
       "7604    -1.575911         0.248066 -0.459996                   1.338206\n",
       "2762    -0.159793        -0.726880  0.182616                   0.741756\n",
       "6464    -1.620643         0.511794 -0.192206                   0.741756\n",
       "4707     1.264565        -0.002094  1.735461                   0.741756\n",
       "...           ...              ...       ...                        ...\n",
       "3482     0.006809        -1.041803  0.371897                  -1.524756\n",
       "8360    -0.312823        -0.990499  0.561178                   0.145305\n",
       "5929    -1.817228        -0.604724  0.344948                   0.503176\n",
       "4220    -1.478207        -0.607519  0.286927                   1.099626\n",
       "6682    -1.181564         0.025704  1.661798                   1.338206\n",
       "\n",
       "[6392 rows x 4 columns]"
      ]
     },
     "metadata": {},
     "output_type": "display_data"
    }
   ],
   "source": [
    "## make the preprocessing column transformer WITH CORRECT ARGS!\n",
    "preprocessor = make_column_transformer((num_pipeline, num_selector),\n",
    "                                      verbose_feature_names_out=False)\n",
    "preprocessor.fit(X_train)\n",
    "X_train_df = pd.DataFrame(preprocessor.transform(X_train),\n",
    "                          columns=preprocessor.get_feature_names_out(),\n",
    "                         index=X_train.index)\n",
    "X_test_df = pd.DataFrame(preprocessor.transform(X_test),\n",
    "                          columns=preprocessor.get_feature_names_out(),\n",
    "                         index=X_test.index)\n",
    "display(X_train_df)\n"
   ]
  },
  {
   "cell_type": "markdown",
   "metadata": {
    "id": "CRrZCHYdcsbP"
   },
   "source": [
    "## Modeling - Linear Regression"
   ]
  },
  {
   "cell_type": "code",
   "execution_count": 23,
   "metadata": {
    "id": "o3IalIU5b_C1"
   },
   "outputs": [],
   "source": [
    "def evaluate_regression(model, X_train,y_train, X_test, y_test,for_slides=True): \n",
    "    \"\"\"Evaluates a scikit learn regression model using r-squared and RMSE\n",
    "    FOR SLIDES VERS DOES MULTIPLE PRINT STATEMENTS FOR VERTICAL DISPLAY OF INFO\"\"\"\n",
    "    \n",
    "    ## Training Data\n",
    "    y_pred_train = model.predict(X_train)\n",
    "    r2_train = metrics.r2_score(y_train, y_pred_train)\n",
    "    rmse_train = metrics.mean_squared_error(y_train, y_pred_train, \n",
    "                                            squared=False)\n",
    "    mae_train = metrics.mean_absolute_error(y_train, y_pred_train)\n",
    "    \n",
    "\n",
    "    ## Test Data\n",
    "    y_pred_test = model.predict(X_test)\n",
    "    r2_test = metrics.r2_score(y_test, y_pred_test)\n",
    "    rmse_test = metrics.mean_squared_error(y_test, y_pred_test, \n",
    "                                            squared=False)\n",
    "    mae_test = metrics.mean_absolute_error(y_test, y_pred_test)\n",
    "    \n",
    "    if for_slides:\n",
    "        df_version =[['Split','R^2','MAE','RMSE']]\n",
    "        df_version.append(['Train',r2_train, mae_train, rmse_train])\n",
    "        df_version.append(['Test',r2_test, mae_test, rmse_test])\n",
    "        df_results = pd.DataFrame(df_version[1:], columns=df_version[0])\n",
    "        df_results = df_results.round(2)\n",
    "        display(df_results.style.hide(axis='index').format(precision=2, thousands=','))\n",
    "        \n",
    "    else: \n",
    "        print(f\"Training Data:\\tR^2 = {r2_train:,.2f}\\tRMSE = {rmse_train:,.2f}\\tMAE = {mae_train:,.2f}\")\n",
    "        print(f\"Test Data:\\tR^2 = {r2_test:,.2f}\\tRMSE = {rmse_test:,.2f}\\tMAE = {mae_test:,.2f}\")\n"
   ]
  },
  {
   "cell_type": "code",
   "execution_count": 24,
   "metadata": {
    "id": "szhJQEjscyht"
   },
   "outputs": [
    {
     "data": {
      "text/html": [
       "<style type=\"text/css\">\n",
       "</style>\n",
       "<table id=\"T_7e05f\">\n",
       "  <thead>\n",
       "    <tr>\n",
       "      <th id=\"T_7e05f_level0_col0\" class=\"col_heading level0 col0\" >Split</th>\n",
       "      <th id=\"T_7e05f_level0_col1\" class=\"col_heading level0 col1\" >R^2</th>\n",
       "      <th id=\"T_7e05f_level0_col2\" class=\"col_heading level0 col2\" >MAE</th>\n",
       "      <th id=\"T_7e05f_level0_col3\" class=\"col_heading level0 col3\" >RMSE</th>\n",
       "    </tr>\n",
       "  </thead>\n",
       "  <tbody>\n",
       "    <tr>\n",
       "      <td id=\"T_7e05f_row0_col0\" class=\"data row0 col0\" >Train</td>\n",
       "      <td id=\"T_7e05f_row0_col1\" class=\"data row0 col1\" >0.34</td>\n",
       "      <td id=\"T_7e05f_row0_col2\" class=\"data row0 col2\" >1,012.90</td>\n",
       "      <td id=\"T_7e05f_row0_col3\" class=\"data row0 col3\" >1,370.71</td>\n",
       "    </tr>\n",
       "    <tr>\n",
       "      <td id=\"T_7e05f_row1_col0\" class=\"data row1 col0\" >Test</td>\n",
       "      <td id=\"T_7e05f_row1_col1\" class=\"data row1 col1\" >0.34</td>\n",
       "      <td id=\"T_7e05f_row1_col2\" class=\"data row1 col2\" >1,048.37</td>\n",
       "      <td id=\"T_7e05f_row1_col3\" class=\"data row1 col3\" >1,422.88</td>\n",
       "    </tr>\n",
       "  </tbody>\n",
       "</table>\n"
      ],
      "text/plain": [
       "<pandas.io.formats.style.Styler at 0x28ea08a30>"
      ]
     },
     "metadata": {},
     "output_type": "display_data"
    }
   ],
   "source": [
    "from sklearn.linear_model import LinearRegression\n",
    "lin_reg= LinearRegression()\n",
    "lin_reg.fit(X_train_df,y_train)\n",
    "evaluate_regression(lin_reg, X_train_df, y_train, \n",
    "                    X_test_df, y_test)"
   ]
  },
  {
   "cell_type": "code",
   "execution_count": 25,
   "metadata": {},
   "outputs": [
    {
     "data": {
      "image/png": "[encoded data removed]",
      "text/plain": [
       "<Figure size 1200x500 with 2 Axes>"
      ]
     },
     "metadata": {},
     "output_type": "display_data"
    }
   ],
   "source": [
    "de.plot_residuals(lin_reg, X_test_df,y_test)"
   ]
  },
  {
   "cell_type": "markdown",
   "metadata": {},
   "source": [
    "### Extracting and Visualizing Coefficients"
   ]
  },
  {
   "cell_type": "code",
   "execution_count": 26,
   "metadata": {},
   "outputs": [],
   "source": [
    "def get_coefficients(lin_reg):\n",
    "    coeffs = pd.Series(lin_reg.coef_, index= lin_reg.feature_names_in_)\n",
    "    coeffs.loc['intercept'] = lin_reg.intercept_\n",
    "    return coeffs"
   ]
  },
  {
   "cell_type": "code",
   "execution_count": 27,
   "metadata": {},
   "outputs": [
    {
     "data": {
      "text/plain": [
       "Item_Weight                    -1.559855\n",
       "Item_Visibility              -225.833983\n",
       "Item_MRP                      959.946664\n",
       "Outlet_Establishment_Year     -93.652227\n",
       "intercept                    2153.643011\n",
       "dtype: float64"
      ]
     },
     "execution_count": 27,
     "metadata": {},
     "output_type": "execute_result"
    }
   ],
   "source": [
    "coeffs = get_coefficients(lin_reg)\n",
    "coeffs"
   ]
  },
  {
   "cell_type": "code",
   "execution_count": 28,
   "metadata": {},
   "outputs": [
    {
     "data": {
      "image/png": "[encoded data removed]",
      "text/plain": [
       "<Figure size 600x700 with 1 Axes>"
      ]
     },
     "metadata": {},
     "output_type": "display_data"
    }
   ],
   "source": [
    "## Plot country ceoffs\n",
    "ax = coeffs.sort_values().plot(kind='barh', figsize=(6,7))\n",
    "ax.axvline(0, color='k')\n",
    "ax.set(xlabel='Life Expectancy', title=\"Coefficients - Countries\");"
   ]
  },
  {
   "cell_type": "markdown",
   "metadata": {},
   "source": [
    "### Summary\n",
    "- What features made the model predict a higher price?\n",
    "  >- Item_MRP\n",
    "\n",
    "- Which feature made the model predict a lower price?\n",
    "  >- Item_Weight, Item_Visibility\n",
    "- What effect does having more visibility have on predicted price?\n",
    "  >- Decreases home value by ~$220"
   ]
  },
  {
   "cell_type": "markdown",
   "metadata": {},
   "source": [
    "## Feature Importance"
   ]
  },
  {
   "cell_type": "code",
   "execution_count": 29,
   "metadata": {},
   "outputs": [],
   "source": [
    "from sklearn.ensemble import RandomForestRegressor"
   ]
  },
  {
   "cell_type": "code",
   "execution_count": 30,
   "metadata": {},
   "outputs": [
    {
     "data": {
      "text/html": [
       "<style type=\"text/css\">\n",
       "</style>\n",
       "<table id=\"T_674ca\">\n",
       "  <thead>\n",
       "    <tr>\n",
       "      <th id=\"T_674ca_level0_col0\" class=\"col_heading level0 col0\" >Split</th>\n",
       "      <th id=\"T_674ca_level0_col1\" class=\"col_heading level0 col1\" >R^2</th>\n",
       "      <th id=\"T_674ca_level0_col2\" class=\"col_heading level0 col2\" >MAE</th>\n",
       "      <th id=\"T_674ca_level0_col3\" class=\"col_heading level0 col3\" >RMSE</th>\n",
       "    </tr>\n",
       "  </thead>\n",
       "  <tbody>\n",
       "    <tr>\n",
       "      <td id=\"T_674ca_row0_col0\" class=\"data row0 col0\" >Train</td>\n",
       "      <td id=\"T_674ca_row0_col1\" class=\"data row0 col1\" >0.91</td>\n",
       "      <td id=\"T_674ca_row0_col2\" class=\"data row0 col2\" >347.61</td>\n",
       "      <td id=\"T_674ca_row0_col3\" class=\"data row0 col3\" >498.31</td>\n",
       "    </tr>\n",
       "    <tr>\n",
       "      <td id=\"T_674ca_row1_col0\" class=\"data row1 col0\" >Test</td>\n",
       "      <td id=\"T_674ca_row1_col1\" class=\"data row1 col1\" >0.36</td>\n",
       "      <td id=\"T_674ca_row1_col2\" class=\"data row1 col2\" >982.02</td>\n",
       "      <td id=\"T_674ca_row1_col3\" class=\"data row1 col3\" >1,403.88</td>\n",
       "    </tr>\n",
       "  </tbody>\n",
       "</table>\n"
      ],
      "text/plain": [
       "<pandas.io.formats.style.Styler at 0x28e9f9a60>"
      ]
     },
     "metadata": {},
     "output_type": "display_data"
    }
   ],
   "source": [
    "rf_reg = RandomForestRegressor()\n",
    "rf_reg.fit(X_train_df,y_train)\n",
    "evaluate_regression(rf_reg, X_train_df, y_train, \n",
    "                    X_test_df, y_test)"
   ]
  },
  {
   "cell_type": "code",
   "execution_count": 31,
   "metadata": {},
   "outputs": [
    {
     "data": {
      "text/plain": [
       "Item_Weight                  0.085062\n",
       "Item_Visibility              0.239251\n",
       "Item_MRP                     0.539710\n",
       "Outlet_Establishment_Year    0.135978\n",
       "dtype: float64"
      ]
     },
     "execution_count": 31,
     "metadata": {},
     "output_type": "execute_result"
    }
   ],
   "source": [
    "## Saving the coefficients\n",
    "importances = pd.Series(rf_reg.feature_importances_, index= rf_reg.feature_names_in_)\n",
    "importances"
   ]
  },
  {
   "cell_type": "code",
   "execution_count": 32,
   "metadata": {},
   "outputs": [
    {
     "data": {
      "image/png": "[encoded data removed]",
      "text/plain": [
       "<Figure size 600x400 with 1 Axes>"
      ]
     },
     "metadata": {},
     "output_type": "display_data"
    }
   ],
   "source": [
    "ax = importances.sort_values().tail(20).plot(kind='barh',figsize=(6,4))\n",
    "ax.axvline(0, color='k')\n",
    "ax.set(title='Feature Importance - Decision Tree Regressor',ylabel=\"Feature Name\",\n",
    "      xlabel='Importance');"
   ]
  },
  {
   "cell_type": "markdown",
   "metadata": {},
   "source": [
    "### Summary\n",
    "- What features made the model predict a higher price?\n",
    ">  - Item_MRP, Item_Visivility, Item_Weight\n",
    "\n",
    "- Which feature made the model predict a lower price?\n",
    ">  - None\n"
   ]
  },
  {
   "cell_type": "markdown",
   "metadata": {},
   "source": [
    "## Using joblib to Save our Model, Data, and Objects"
   ]
  },
  {
   "cell_type": "code",
   "execution_count": 33,
   "metadata": {},
   "outputs": [
    {
     "data": {
      "text/html": [
       "<div>\n",
       "<style scoped>\n",
       "    .dataframe tbody tr th:only-of-type {\n",
       "        vertical-align: middle;\n",
       "    }\n",
       "\n",
       "    .dataframe tbody tr th {\n",
       "        vertical-align: top;\n",
       "    }\n",
       "\n",
       "    .dataframe thead th {\n",
       "        text-align: right;\n",
       "    }\n",
       "</style>\n",
       "<table border=\"1\" class=\"dataframe\">\n",
       "  <thead>\n",
       "    <tr style=\"text-align: right;\">\n",
       "      <th></th>\n",
       "      <th>Item_Weight</th>\n",
       "      <th>Item_Fat_Content</th>\n",
       "      <th>Item_Visibility</th>\n",
       "      <th>Item_Type</th>\n",
       "      <th>Item_MRP</th>\n",
       "      <th>Outlet_Identifier</th>\n",
       "      <th>Outlet_Establishment_Year</th>\n",
       "      <th>Outlet_Location_Type</th>\n",
       "      <th>Outlet_Type</th>\n",
       "    </tr>\n",
       "  </thead>\n",
       "  <tbody>\n",
       "    <tr>\n",
       "      <th>8269</th>\n",
       "      <td>7.220</td>\n",
       "      <td>Regular</td>\n",
       "      <td>0.064142</td>\n",
       "      <td>Baking Goods</td>\n",
       "      <td>61.2510</td>\n",
       "      <td>OUT010</td>\n",
       "      <td>1998</td>\n",
       "      <td>Tier 3</td>\n",
       "      <td>Grocery Store</td>\n",
       "    </tr>\n",
       "    <tr>\n",
       "      <th>7604</th>\n",
       "      <td>6.135</td>\n",
       "      <td>Low Fat</td>\n",
       "      <td>0.079294</td>\n",
       "      <td>Soft Drinks</td>\n",
       "      <td>111.2860</td>\n",
       "      <td>OUT018</td>\n",
       "      <td>2009</td>\n",
       "      <td>Tier 3</td>\n",
       "      <td>Supermarket Type2</td>\n",
       "    </tr>\n",
       "    <tr>\n",
       "      <th>2762</th>\n",
       "      <td>12.150</td>\n",
       "      <td>Low Fat</td>\n",
       "      <td>0.028593</td>\n",
       "      <td>Household</td>\n",
       "      <td>151.0708</td>\n",
       "      <td>OUT035</td>\n",
       "      <td>2004</td>\n",
       "      <td>Tier 2</td>\n",
       "      <td>Supermarket Type1</td>\n",
       "    </tr>\n",
       "    <tr>\n",
       "      <th>6464</th>\n",
       "      <td>5.945</td>\n",
       "      <td>Low Fat</td>\n",
       "      <td>0.093009</td>\n",
       "      <td>Household</td>\n",
       "      <td>127.8652</td>\n",
       "      <td>OUT035</td>\n",
       "      <td>2004</td>\n",
       "      <td>Tier 2</td>\n",
       "      <td>Supermarket Type1</td>\n",
       "    </tr>\n",
       "    <tr>\n",
       "      <th>4707</th>\n",
       "      <td>18.200</td>\n",
       "      <td>Regular</td>\n",
       "      <td>0.066285</td>\n",
       "      <td>Fruits and Vegetables</td>\n",
       "      <td>247.2092</td>\n",
       "      <td>OUT035</td>\n",
       "      <td>2004</td>\n",
       "      <td>Tier 2</td>\n",
       "      <td>Supermarket Type1</td>\n",
       "    </tr>\n",
       "  </tbody>\n",
       "</table>\n",
       "</div>"
      ],
      "text/plain": [
       "      Item_Weight Item_Fat_Content  Item_Visibility              Item_Type  \\\n",
       "8269        7.220          Regular         0.064142           Baking Goods   \n",
       "7604        6.135          Low Fat         0.079294            Soft Drinks   \n",
       "2762       12.150          Low Fat         0.028593              Household   \n",
       "6464        5.945          Low Fat         0.093009              Household   \n",
       "4707       18.200          Regular         0.066285  Fruits and Vegetables   \n",
       "\n",
       "      Item_MRP Outlet_Identifier  Outlet_Establishment_Year  \\\n",
       "8269   61.2510            OUT010                       1998   \n",
       "7604  111.2860            OUT018                       2009   \n",
       "2762  151.0708            OUT035                       2004   \n",
       "6464  127.8652            OUT035                       2004   \n",
       "4707  247.2092            OUT035                       2004   \n",
       "\n",
       "     Outlet_Location_Type        Outlet_Type  \n",
       "8269               Tier 3      Grocery Store  \n",
       "7604               Tier 3  Supermarket Type2  \n",
       "2762               Tier 2  Supermarket Type1  \n",
       "6464               Tier 2  Supermarket Type1  \n",
       "4707               Tier 2  Supermarket Type1  "
      ]
     },
     "execution_count": 33,
     "metadata": {},
     "output_type": "execute_result"
    }
   ],
   "source": [
    "X_train.head()"
   ]
  },
  {
   "cell_type": "code",
   "execution_count": 34,
   "metadata": {},
   "outputs": [
    {
     "data": {
      "text/html": [
       "<style type=\"text/css\">\n",
       "</style>\n",
       "<table id=\"T_4210c\">\n",
       "  <thead>\n",
       "    <tr>\n",
       "      <th id=\"T_4210c_level0_col0\" class=\"col_heading level0 col0\" >Split</th>\n",
       "      <th id=\"T_4210c_level0_col1\" class=\"col_heading level0 col1\" >R^2</th>\n",
       "      <th id=\"T_4210c_level0_col2\" class=\"col_heading level0 col2\" >MAE</th>\n",
       "      <th id=\"T_4210c_level0_col3\" class=\"col_heading level0 col3\" >RMSE</th>\n",
       "    </tr>\n",
       "  </thead>\n",
       "  <tbody>\n",
       "    <tr>\n",
       "      <td id=\"T_4210c_row0_col0\" class=\"data row0 col0\" >Train</td>\n",
       "      <td id=\"T_4210c_row0_col1\" class=\"data row0 col1\" >0.34</td>\n",
       "      <td id=\"T_4210c_row0_col2\" class=\"data row0 col2\" >1,012.90</td>\n",
       "      <td id=\"T_4210c_row0_col3\" class=\"data row0 col3\" >1,370.71</td>\n",
       "    </tr>\n",
       "    <tr>\n",
       "      <td id=\"T_4210c_row1_col0\" class=\"data row1 col0\" >Test</td>\n",
       "      <td id=\"T_4210c_row1_col1\" class=\"data row1 col1\" >0.34</td>\n",
       "      <td id=\"T_4210c_row1_col2\" class=\"data row1 col2\" >1,048.37</td>\n",
       "      <td id=\"T_4210c_row1_col3\" class=\"data row1 col3\" >1,422.88</td>\n",
       "    </tr>\n",
       "  </tbody>\n",
       "</table>\n"
      ],
      "text/plain": [
       "<pandas.io.formats.style.Styler at 0x28ffc4370>"
      ]
     },
     "metadata": {},
     "output_type": "display_data"
    }
   ],
   "source": [
    "evaluate_regression(lin_reg,X_train_df,y_train, X_test_df, y_test)"
   ]
  },
  {
   "cell_type": "code",
   "execution_count": 35,
   "metadata": {},
   "outputs": [
    {
     "data": {
      "text/html": [
       "<style type=\"text/css\">\n",
       "</style>\n",
       "<table id=\"T_734f7\">\n",
       "  <thead>\n",
       "    <tr>\n",
       "      <th id=\"T_734f7_level0_col0\" class=\"col_heading level0 col0\" >Split</th>\n",
       "      <th id=\"T_734f7_level0_col1\" class=\"col_heading level0 col1\" >R^2</th>\n",
       "      <th id=\"T_734f7_level0_col2\" class=\"col_heading level0 col2\" >MAE</th>\n",
       "      <th id=\"T_734f7_level0_col3\" class=\"col_heading level0 col3\" >RMSE</th>\n",
       "    </tr>\n",
       "  </thead>\n",
       "  <tbody>\n",
       "    <tr>\n",
       "      <td id=\"T_734f7_row0_col0\" class=\"data row0 col0\" >Train</td>\n",
       "      <td id=\"T_734f7_row0_col1\" class=\"data row0 col1\" >0.91</td>\n",
       "      <td id=\"T_734f7_row0_col2\" class=\"data row0 col2\" >347.61</td>\n",
       "      <td id=\"T_734f7_row0_col3\" class=\"data row0 col3\" >498.31</td>\n",
       "    </tr>\n",
       "    <tr>\n",
       "      <td id=\"T_734f7_row1_col0\" class=\"data row1 col0\" >Test</td>\n",
       "      <td id=\"T_734f7_row1_col1\" class=\"data row1 col1\" >0.36</td>\n",
       "      <td id=\"T_734f7_row1_col2\" class=\"data row1 col2\" >982.02</td>\n",
       "      <td id=\"T_734f7_row1_col3\" class=\"data row1 col3\" >1,403.88</td>\n",
       "    </tr>\n",
       "  </tbody>\n",
       "</table>\n"
      ],
      "text/plain": [
       "<pandas.io.formats.style.Styler at 0x2a809a9a0>"
      ]
     },
     "metadata": {},
     "output_type": "display_data"
    }
   ],
   "source": [
    "evaluate_regression(rf_reg,X_train_df,y_train, X_test_df, y_test)"
   ]
  },
  {
   "cell_type": "code",
   "execution_count": 36,
   "metadata": {},
   "outputs": [],
   "source": [
    "import joblib, os\n",
    "\n",
    "## creating a dictionary of all of the variables to save for later\n",
    "export = {'X_train':X_train,\n",
    "         'y_train':y_train,\n",
    "         'X_test':X_test,\n",
    "         'y_test':y_test,\n",
    "          'preprocessor':preprocessor,\n",
    "         'LinearRegression': lin_reg,\n",
    "          'RandomForestRegressor':rf_reg\n",
    "         }"
   ]
  },
  {
   "cell_type": "code",
   "execution_count": 37,
   "metadata": {},
   "outputs": [],
   "source": [
    "folder = \"Models/\"\n",
    "os.makedirs(folder, exist_ok=True)"
   ]
  },
  {
   "cell_type": "code",
   "execution_count": 38,
   "metadata": {},
   "outputs": [
    {
     "data": {
      "text/plain": [
       "['Models/wk1-lect01-codealong.joblib']"
      ]
     },
     "execution_count": 38,
     "metadata": {},
     "output_type": "execute_result"
    }
   ],
   "source": [
    "fname = folder+'wk1-lect01-codealong.joblib'\n",
    "joblib.dump(export, fname)"
   ]
  },
  {
   "cell_type": "code",
   "execution_count": 39,
   "metadata": {},
   "outputs": [
    {
     "data": {
      "text/plain": [
       "dict_keys(['X_train', 'y_train', 'X_test', 'y_test', 'preprocessor', 'LinearRegression', 'RandomForestRegressor'])"
      ]
     },
     "execution_count": 39,
     "metadata": {},
     "output_type": "execute_result"
    }
   ],
   "source": [
    "loaded = joblib.load(fname)\n",
    "loaded.keys()"
   ]
  },
  {
   "cell_type": "code",
   "execution_count": null,
   "metadata": {},
   "outputs": [],
   "source": []
  }
 ],
 "metadata": {
  "colab": {
   "authorship_tag": "ABX9TyOGDelv3VyrNOgemUFhsRlq",
   "include_colab_link": true,
   "provenance": [],
   "toc_visible": true
  },
  "kernelspec": {
   "display_name": "Python 3 (ipykernel)",
   "language": "python",
   "name": "python3"
  },
  "language_info": {
   "codemirror_mode": {
    "name": "ipython",
    "version": 3
   },
   "file_extension": ".py",
   "mimetype": "text/x-python",
   "name": "python",
   "nbconvert_exporter": "python",
   "pygments_lexer": "ipython3",
   "version": "3.9.15"
  }
 },
 "nbformat": 4,
 "nbformat_minor": 4
}
